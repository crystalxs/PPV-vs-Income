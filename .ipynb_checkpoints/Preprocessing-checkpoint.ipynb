{
 "cells": [
  {
   "cell_type": "code",
   "execution_count": 1,
   "metadata": {},
   "outputs": [],
   "source": [
    "import pandas as pd\n",
    "import numpy as np"
   ]
  },
  {
   "cell_type": "markdown",
   "metadata": {},
   "source": [
    "### Load Data"
   ]
  },
  {
   "cell_type": "code",
   "execution_count": 2,
   "metadata": {},
   "outputs": [],
   "source": [
    "medicaidppv = pd.read_json(\"https://health.data.ny.gov/resource/cr7a-34ka.json\")\n",
    "ppv = pd.read_json(\"https://health.data.ny.gov/resource/f8ue-xzy3.json\")\n",
    "income = pd.read_json(\"https://data.ny.gov/resource/5kgr-h5g5.json\")"
   ]
  },
  {
   "cell_type": "code",
   "execution_count": 3,
   "metadata": {},
   "outputs": [
    {
     "name": "stdout",
     "output_type": "stream",
     "text": [
      "<class 'pandas.core.frame.DataFrame'>\n",
      "RangeIndex: 504 entries, 0 to 503\n",
      "Data columns (total 9 columns):\n",
      "difference_in_rates           496 non-null float64\n",
      "dual_status                   504 non-null object\n",
      "expected_rate_per_100         496 non-null float64\n",
      "medicaid_county_population    504 non-null int64\n",
      "medicaid_ppv_events           504 non-null int64\n",
      "observed_rate_per_100         504 non-null float64\n",
      "patient_county                504 non-null object\n",
      "risk_adjusted_rate_per_100    496 non-null float64\n",
      "year                          504 non-null int64\n",
      "dtypes: float64(4), int64(3), object(2)\n",
      "memory usage: 35.5+ KB\n"
     ]
    }
   ],
   "source": [
    "medicaidppv.info()"
   ]
  },
  {
   "cell_type": "code",
   "execution_count": 4,
   "metadata": {},
   "outputs": [
    {
     "name": "stdout",
     "output_type": "stream",
     "text": [
      "<class 'pandas.core.frame.DataFrame'>\n",
      "RangeIndex: 378 entries, 0 to 377\n",
      "Data columns (total 7 columns):\n",
      "adjusted_rate_per_100    378 non-null float64\n",
      "difference_in_rates      377 non-null float64\n",
      "discharge_year           378 non-null int64\n",
      "expected_rate_per_100    378 non-null float64\n",
      "observed_rate_per_100    378 non-null float64\n",
      "patient_county_name      378 non-null object\n",
      "software_version         378 non-null float64\n",
      "dtypes: float64(5), int64(1), object(1)\n",
      "memory usage: 20.8+ KB\n"
     ]
    }
   ],
   "source": [
    "ppv.info()"
   ]
  },
  {
   "cell_type": "code",
   "execution_count": 5,
   "metadata": {},
   "outputs": [
    {
     "name": "stdout",
     "output_type": "stream",
     "text": [
      "<class 'pandas.core.frame.DataFrame'>\n",
      "RangeIndex: 1000 entries, 0 to 999\n",
      "Data columns (total 13 columns):\n",
      "deductions_of_all_returns_in_thousands              974 non-null float64\n",
      "dependent_exemptions_of_all_returns_in_thousands    974 non-null float64\n",
      "disclosure                                          26 non-null object\n",
      "income_class                                        1000 non-null object\n",
      "income_class_sort_order                             1000 non-null int64\n",
      "number_of_all_returns                               974 non-null float64\n",
      "ny_agi_of_all_returns_in_thousands                  974 non-null float64\n",
      "place_of_residence                                  1000 non-null object\n",
      "place_of_residence_sort_order                       1000 non-null int64\n",
      "tax_before_credits_of_all_returns_in_thousands      974 non-null float64\n",
      "tax_liability_of_all_returns_in_thousands           974 non-null float64\n",
      "tax_year                                            1000 non-null int64\n",
      "taxable_income_of_all_returns_in_thousands          974 non-null float64\n",
      "dtypes: float64(7), int64(3), object(3)\n",
      "memory usage: 101.6+ KB\n"
     ]
    }
   ],
   "source": [
    "income.info()"
   ]
  },
  {
   "cell_type": "markdown",
   "metadata": {},
   "source": [
    "### Clean & Check Data"
   ]
  },
  {
   "cell_type": "markdown",
   "metadata": {},
   "source": [
    "#### Check the Years for Both Dataset"
   ]
  },
  {
   "cell_type": "code",
   "execution_count": 6,
   "metadata": {},
   "outputs": [
    {
     "data": {
      "text/plain": [
       "array([2016, 2015, 2014, 2013, 2012, 2011])"
      ]
     },
     "execution_count": 6,
     "metadata": {},
     "output_type": "execute_result"
    }
   ],
   "source": [
    "ppv.discharge_year.unique()"
   ]
  },
  {
   "cell_type": "code",
   "execution_count": 7,
   "metadata": {},
   "outputs": [
    {
     "data": {
      "text/plain": [
       "array([2014, 2013, 2012, 2011])"
      ]
     },
     "execution_count": 7,
     "metadata": {},
     "output_type": "execute_result"
    }
   ],
   "source": [
    "medicaidppv.year.unique()"
   ]
  },
  {
   "cell_type": "code",
   "execution_count": 8,
   "metadata": {},
   "outputs": [
    {
     "data": {
      "text/plain": [
       "array([2014, 2013])"
      ]
     },
     "execution_count": 8,
     "metadata": {},
     "output_type": "execute_result"
    }
   ],
   "source": [
    "income.tax_year.unique()"
   ]
  },
  {
   "cell_type": "markdown",
   "metadata": {},
   "source": [
    "Since for the Income tax dataset, it only contains the tax year of 2013 and 2014, I will remove the other years data in PPV dataset."
   ]
  },
  {
   "cell_type": "code",
   "execution_count": 9,
   "metadata": {},
   "outputs": [],
   "source": [
    "ppv2013 = ppv[ppv.discharge_year == 2013]\n",
    "ppv2014 = ppv[ppv.discharge_year == 2014]\n",
    "medicaidppv2013 = medicaidppv[medicaidppv.year == 2013]\n",
    "medicaidppv2014 = medicaidppv[medicaidppv.year == 2014]\n",
    "income2013 = income[income.tax_year == 2013]\n",
    "income2014 = income[income.tax_year == 2014]"
   ]
  },
  {
   "cell_type": "markdown",
   "metadata": {},
   "source": [
    "#### Check the Distinct Entries for Each Year for Both Dataset"
   ]
  },
  {
   "cell_type": "code",
   "execution_count": 10,
   "metadata": {},
   "outputs": [
    {
     "data": {
      "text/plain": [
       "(63, 63, 189, 189, 90, 910)"
      ]
     },
     "execution_count": 10,
     "metadata": {},
     "output_type": "execute_result"
    }
   ],
   "source": [
    "len(ppv2013), len(ppv2014), len(medicaidppv2013), len(medicaidppv2014), len(income2013), len(income2014)"
   ]
  },
  {
   "cell_type": "code",
   "execution_count": 11,
   "metadata": {},
   "outputs": [
    {
     "data": {
      "text/plain": [
       "array(['New York City - Bronx', 'New York City - Kings',\n",
       "       'New York City - Manhattan', 'New York City - Queens',\n",
       "       'New York City - Richmond', 'Albany', 'Allegany'], dtype=object)"
      ]
     },
     "execution_count": 11,
     "metadata": {},
     "output_type": "execute_result"
    }
   ],
   "source": [
    "income2013.place_of_residence.unique()"
   ]
  },
  {
   "cell_type": "code",
   "execution_count": 12,
   "metadata": {},
   "outputs": [
    {
     "data": {
      "text/plain": [
       "array(['New York City - Bronx', 'New York City - Kings',\n",
       "       'New York City - Manhattan', 'New York City - Queens',\n",
       "       'New York City - Richmond', 'Albany', 'Allegany', 'Broome',\n",
       "       'Cattaraugus', 'Cayuga', 'Chautauqua', 'Chemung', 'Chenango',\n",
       "       'Clinton', 'Columbia', 'Cortland', 'Delaware', 'Dutchess', 'Erie',\n",
       "       'Essex', 'Franklin', 'Fulton', 'Genesee', 'Greene', 'Hamilton',\n",
       "       'Herkimer', 'Jefferson', 'Lewis', 'Livingston', 'Madison',\n",
       "       'Monroe', 'Montgomery', 'Nassau', 'Niagara', 'Oneida', 'Onondaga',\n",
       "       'Ontario', 'Orange', 'Orleans', 'Oswego', 'Otsego', 'Putnam',\n",
       "       'Rensselaer', 'Rockland', 'St. Lawrence', 'Saratoga',\n",
       "       'Schenectady', 'Schoharie', 'Schuyler', 'Seneca', 'Steuben',\n",
       "       'Suffolk', 'Sullivan', 'Tioga', 'Tompkins', 'Ulster', 'Warren',\n",
       "       'Washington', 'Wayne', 'Westchester', 'Wyoming', 'Yates',\n",
       "       'NYS Unclassified +', 'Residence Unknown ++',\n",
       "       'Grand Total, Full-Year Resident'], dtype=object)"
      ]
     },
     "execution_count": 12,
     "metadata": {},
     "output_type": "execute_result"
    }
   ],
   "source": [
    "income2014.place_of_residence.unique()"
   ]
  },
  {
   "cell_type": "code",
   "execution_count": 13,
   "metadata": {},
   "outputs": [
    {
     "data": {
      "text/plain": [
       "65"
      ]
     },
     "execution_count": 13,
     "metadata": {},
     "output_type": "execute_result"
    }
   ],
   "source": [
    "income2014.place_of_residence.nunique()"
   ]
  },
  {
   "cell_type": "code",
   "execution_count": 14,
   "metadata": {},
   "outputs": [
    {
     "data": {
      "text/plain": [
       "place_of_residence\n",
       "Albany                       14\n",
       "Allegany                      6\n",
       "New York City - Bronx        14\n",
       "New York City - Kings        14\n",
       "New York City - Manhattan    14\n",
       "New York City - Queens       14\n",
       "New York City - Richmond     14\n",
       "Name: place_of_residence, dtype: int64"
      ]
     },
     "execution_count": 14,
     "metadata": {},
     "output_type": "execute_result"
    }
   ],
   "source": [
    "income2013.groupby(\"place_of_residence\").place_of_residence.count()"
   ]
  },
  {
   "cell_type": "code",
   "execution_count": 15,
   "metadata": {},
   "outputs": [
    {
     "data": {
      "text/plain": [
       "array([14])"
      ]
     },
     "execution_count": 15,
     "metadata": {},
     "output_type": "execute_result"
    }
   ],
   "source": [
    "income2014.groupby(\"place_of_residence\").place_of_residence.count().unique()"
   ]
  },
  {
   "cell_type": "code",
   "execution_count": 16,
   "metadata": {},
   "outputs": [
    {
     "data": {
      "text/html": [
       "<div>\n",
       "<style scoped>\n",
       "    .dataframe tbody tr th:only-of-type {\n",
       "        vertical-align: middle;\n",
       "    }\n",
       "\n",
       "    .dataframe tbody tr th {\n",
       "        vertical-align: top;\n",
       "    }\n",
       "\n",
       "    .dataframe thead th {\n",
       "        text-align: right;\n",
       "    }\n",
       "</style>\n",
       "<table border=\"1\" class=\"dataframe\">\n",
       "  <thead>\n",
       "    <tr style=\"text-align: right;\">\n",
       "      <th></th>\n",
       "      <th>deductions_of_all_returns_in_thousands</th>\n",
       "      <th>dependent_exemptions_of_all_returns_in_thousands</th>\n",
       "      <th>disclosure</th>\n",
       "      <th>income_class</th>\n",
       "      <th>income_class_sort_order</th>\n",
       "      <th>number_of_all_returns</th>\n",
       "      <th>ny_agi_of_all_returns_in_thousands</th>\n",
       "      <th>place_of_residence</th>\n",
       "      <th>place_of_residence_sort_order</th>\n",
       "      <th>tax_before_credits_of_all_returns_in_thousands</th>\n",
       "      <th>tax_liability_of_all_returns_in_thousands</th>\n",
       "      <th>tax_year</th>\n",
       "      <th>taxable_income_of_all_returns_in_thousands</th>\n",
       "    </tr>\n",
       "  </thead>\n",
       "  <tbody>\n",
       "    <tr>\n",
       "      <th>812</th>\n",
       "      <td>10107.416</td>\n",
       "      <td>0.000</td>\n",
       "      <td>NaN</td>\n",
       "      <td>Under 5,000</td>\n",
       "      <td>1</td>\n",
       "      <td>6289.0</td>\n",
       "      <td>-325.842</td>\n",
       "      <td>Wayne</td>\n",
       "      <td>60</td>\n",
       "      <td>23.879</td>\n",
       "      <td>-664.293</td>\n",
       "      <td>2014</td>\n",
       "      <td>596.150</td>\n",
       "    </tr>\n",
       "    <tr>\n",
       "      <th>813</th>\n",
       "      <td>22707.257</td>\n",
       "      <td>46.163</td>\n",
       "      <td>NaN</td>\n",
       "      <td>5,000 - 9,999</td>\n",
       "      <td>2</td>\n",
       "      <td>3702.0</td>\n",
       "      <td>27379.399</td>\n",
       "      <td>Wayne</td>\n",
       "      <td>60</td>\n",
       "      <td>185.067</td>\n",
       "      <td>-519.209</td>\n",
       "      <td>2014</td>\n",
       "      <td>4625.979</td>\n",
       "    </tr>\n",
       "    <tr>\n",
       "      <th>814</th>\n",
       "      <td>58310.327</td>\n",
       "      <td>2003.991</td>\n",
       "      <td>NaN</td>\n",
       "      <td>10,000 - 19,999</td>\n",
       "      <td>3</td>\n",
       "      <td>6230.0</td>\n",
       "      <td>92713.970</td>\n",
       "      <td>Wayne</td>\n",
       "      <td>60</td>\n",
       "      <td>1316.464</td>\n",
       "      <td>-1367.945</td>\n",
       "      <td>2014</td>\n",
       "      <td>32399.652</td>\n",
       "    </tr>\n",
       "    <tr>\n",
       "      <th>815</th>\n",
       "      <td>57824.417</td>\n",
       "      <td>3000.698</td>\n",
       "      <td>NaN</td>\n",
       "      <td>20,000 - 29,999</td>\n",
       "      <td>4</td>\n",
       "      <td>5544.0</td>\n",
       "      <td>137173.327</td>\n",
       "      <td>Wayne</td>\n",
       "      <td>60</td>\n",
       "      <td>3387.094</td>\n",
       "      <td>850.155</td>\n",
       "      <td>2014</td>\n",
       "      <td>76348.212</td>\n",
       "    </tr>\n",
       "    <tr>\n",
       "      <th>816</th>\n",
       "      <td>47752.543</td>\n",
       "      <td>2613.113</td>\n",
       "      <td>NaN</td>\n",
       "      <td>30,000 - 39,999</td>\n",
       "      <td>5</td>\n",
       "      <td>4286.0</td>\n",
       "      <td>149074.071</td>\n",
       "      <td>Wayne</td>\n",
       "      <td>60</td>\n",
       "      <td>4751.103</td>\n",
       "      <td>3284.420</td>\n",
       "      <td>2014</td>\n",
       "      <td>98708.415</td>\n",
       "    </tr>\n",
       "    <tr>\n",
       "      <th>817</th>\n",
       "      <td>40680.087</td>\n",
       "      <td>2182.000</td>\n",
       "      <td>NaN</td>\n",
       "      <td>40,000 - 49,999</td>\n",
       "      <td>6</td>\n",
       "      <td>3374.0</td>\n",
       "      <td>151354.226</td>\n",
       "      <td>Wayne</td>\n",
       "      <td>60</td>\n",
       "      <td>5479.686</td>\n",
       "      <td>4609.331</td>\n",
       "      <td>2014</td>\n",
       "      <td>108492.139</td>\n",
       "    </tr>\n",
       "    <tr>\n",
       "      <th>818</th>\n",
       "      <td>34634.272</td>\n",
       "      <td>1848.000</td>\n",
       "      <td>NaN</td>\n",
       "      <td>50,000 - 59,999</td>\n",
       "      <td>7</td>\n",
       "      <td>2590.0</td>\n",
       "      <td>142115.178</td>\n",
       "      <td>Wayne</td>\n",
       "      <td>60</td>\n",
       "      <td>5478.048</td>\n",
       "      <td>4902.845</td>\n",
       "      <td>2014</td>\n",
       "      <td>105632.906</td>\n",
       "    </tr>\n",
       "    <tr>\n",
       "      <th>819</th>\n",
       "      <td>42563.590</td>\n",
       "      <td>2410.000</td>\n",
       "      <td>NaN</td>\n",
       "      <td>60,000 - 74,999</td>\n",
       "      <td>8</td>\n",
       "      <td>2942.0</td>\n",
       "      <td>197476.504</td>\n",
       "      <td>Wayne</td>\n",
       "      <td>60</td>\n",
       "      <td>8161.001</td>\n",
       "      <td>7315.809</td>\n",
       "      <td>2014</td>\n",
       "      <td>152502.914</td>\n",
       "    </tr>\n",
       "    <tr>\n",
       "      <th>820</th>\n",
       "      <td>54256.043</td>\n",
       "      <td>3118.000</td>\n",
       "      <td>NaN</td>\n",
       "      <td>75,000 - 99,999</td>\n",
       "      <td>9</td>\n",
       "      <td>3424.0</td>\n",
       "      <td>296463.145</td>\n",
       "      <td>Wayne</td>\n",
       "      <td>60</td>\n",
       "      <td>13327.557</td>\n",
       "      <td>12286.912</td>\n",
       "      <td>2014</td>\n",
       "      <td>239089.102</td>\n",
       "    </tr>\n",
       "    <tr>\n",
       "      <th>821</th>\n",
       "      <td>67680.975</td>\n",
       "      <td>4161.000</td>\n",
       "      <td>NaN</td>\n",
       "      <td>100,000 - 199,999</td>\n",
       "      <td>10</td>\n",
       "      <td>3784.0</td>\n",
       "      <td>490051.981</td>\n",
       "      <td>Wayne</td>\n",
       "      <td>60</td>\n",
       "      <td>25708.747</td>\n",
       "      <td>24391.925</td>\n",
       "      <td>2014</td>\n",
       "      <td>418210.006</td>\n",
       "    </tr>\n",
       "    <tr>\n",
       "      <th>822</th>\n",
       "      <td>4796.554</td>\n",
       "      <td>237.000</td>\n",
       "      <td>NaN</td>\n",
       "      <td>200,000 - 249,999</td>\n",
       "      <td>11</td>\n",
       "      <td>226.0</td>\n",
       "      <td>49950.347</td>\n",
       "      <td>Wayne</td>\n",
       "      <td>60</td>\n",
       "      <td>2986.932</td>\n",
       "      <td>2800.786</td>\n",
       "      <td>2014</td>\n",
       "      <td>44916.793</td>\n",
       "    </tr>\n",
       "    <tr>\n",
       "      <th>823</th>\n",
       "      <td>5134.226</td>\n",
       "      <td>200.000</td>\n",
       "      <td>NaN</td>\n",
       "      <td>250,000 - 499,999</td>\n",
       "      <td>12</td>\n",
       "      <td>227.0</td>\n",
       "      <td>73629.081</td>\n",
       "      <td>Wayne</td>\n",
       "      <td>60</td>\n",
       "      <td>4603.718</td>\n",
       "      <td>4383.570</td>\n",
       "      <td>2014</td>\n",
       "      <td>68294.855</td>\n",
       "    </tr>\n",
       "    <tr>\n",
       "      <th>824</th>\n",
       "      <td>914.370</td>\n",
       "      <td>38.000</td>\n",
       "      <td>NaN</td>\n",
       "      <td>500,000 and over</td>\n",
       "      <td>13</td>\n",
       "      <td>49.0</td>\n",
       "      <td>49635.246</td>\n",
       "      <td>Wayne</td>\n",
       "      <td>60</td>\n",
       "      <td>3667.861</td>\n",
       "      <td>3247.600</td>\n",
       "      <td>2014</td>\n",
       "      <td>48682.876</td>\n",
       "    </tr>\n",
       "    <tr>\n",
       "      <th>825</th>\n",
       "      <td>447362.077</td>\n",
       "      <td>21857.965</td>\n",
       "      <td>NaN</td>\n",
       "      <td>Total</td>\n",
       "      <td>14</td>\n",
       "      <td>42667.0</td>\n",
       "      <td>1856690.633</td>\n",
       "      <td>Wayne</td>\n",
       "      <td>60</td>\n",
       "      <td>79077.157</td>\n",
       "      <td>65521.906</td>\n",
       "      <td>2014</td>\n",
       "      <td>1398499.999</td>\n",
       "    </tr>\n",
       "  </tbody>\n",
       "</table>\n",
       "</div>"
      ],
      "text/plain": [
       "     deductions_of_all_returns_in_thousands  \\\n",
       "812                               10107.416   \n",
       "813                               22707.257   \n",
       "814                               58310.327   \n",
       "815                               57824.417   \n",
       "816                               47752.543   \n",
       "817                               40680.087   \n",
       "818                               34634.272   \n",
       "819                               42563.590   \n",
       "820                               54256.043   \n",
       "821                               67680.975   \n",
       "822                                4796.554   \n",
       "823                                5134.226   \n",
       "824                                 914.370   \n",
       "825                              447362.077   \n",
       "\n",
       "     dependent_exemptions_of_all_returns_in_thousands disclosure  \\\n",
       "812                                             0.000        NaN   \n",
       "813                                            46.163        NaN   \n",
       "814                                          2003.991        NaN   \n",
       "815                                          3000.698        NaN   \n",
       "816                                          2613.113        NaN   \n",
       "817                                          2182.000        NaN   \n",
       "818                                          1848.000        NaN   \n",
       "819                                          2410.000        NaN   \n",
       "820                                          3118.000        NaN   \n",
       "821                                          4161.000        NaN   \n",
       "822                                           237.000        NaN   \n",
       "823                                           200.000        NaN   \n",
       "824                                            38.000        NaN   \n",
       "825                                         21857.965        NaN   \n",
       "\n",
       "          income_class  income_class_sort_order  number_of_all_returns  \\\n",
       "812        Under 5,000                        1                 6289.0   \n",
       "813      5,000 - 9,999                        2                 3702.0   \n",
       "814    10,000 - 19,999                        3                 6230.0   \n",
       "815    20,000 - 29,999                        4                 5544.0   \n",
       "816    30,000 - 39,999                        5                 4286.0   \n",
       "817    40,000 - 49,999                        6                 3374.0   \n",
       "818    50,000 - 59,999                        7                 2590.0   \n",
       "819    60,000 - 74,999                        8                 2942.0   \n",
       "820    75,000 - 99,999                        9                 3424.0   \n",
       "821  100,000 - 199,999                       10                 3784.0   \n",
       "822  200,000 - 249,999                       11                  226.0   \n",
       "823  250,000 - 499,999                       12                  227.0   \n",
       "824   500,000 and over                       13                   49.0   \n",
       "825              Total                       14                42667.0   \n",
       "\n",
       "     ny_agi_of_all_returns_in_thousands place_of_residence  \\\n",
       "812                            -325.842              Wayne   \n",
       "813                           27379.399              Wayne   \n",
       "814                           92713.970              Wayne   \n",
       "815                          137173.327              Wayne   \n",
       "816                          149074.071              Wayne   \n",
       "817                          151354.226              Wayne   \n",
       "818                          142115.178              Wayne   \n",
       "819                          197476.504              Wayne   \n",
       "820                          296463.145              Wayne   \n",
       "821                          490051.981              Wayne   \n",
       "822                           49950.347              Wayne   \n",
       "823                           73629.081              Wayne   \n",
       "824                           49635.246              Wayne   \n",
       "825                         1856690.633              Wayne   \n",
       "\n",
       "     place_of_residence_sort_order  \\\n",
       "812                             60   \n",
       "813                             60   \n",
       "814                             60   \n",
       "815                             60   \n",
       "816                             60   \n",
       "817                             60   \n",
       "818                             60   \n",
       "819                             60   \n",
       "820                             60   \n",
       "821                             60   \n",
       "822                             60   \n",
       "823                             60   \n",
       "824                             60   \n",
       "825                             60   \n",
       "\n",
       "     tax_before_credits_of_all_returns_in_thousands  \\\n",
       "812                                          23.879   \n",
       "813                                         185.067   \n",
       "814                                        1316.464   \n",
       "815                                        3387.094   \n",
       "816                                        4751.103   \n",
       "817                                        5479.686   \n",
       "818                                        5478.048   \n",
       "819                                        8161.001   \n",
       "820                                       13327.557   \n",
       "821                                       25708.747   \n",
       "822                                        2986.932   \n",
       "823                                        4603.718   \n",
       "824                                        3667.861   \n",
       "825                                       79077.157   \n",
       "\n",
       "     tax_liability_of_all_returns_in_thousands  tax_year  \\\n",
       "812                                   -664.293      2014   \n",
       "813                                   -519.209      2014   \n",
       "814                                  -1367.945      2014   \n",
       "815                                    850.155      2014   \n",
       "816                                   3284.420      2014   \n",
       "817                                   4609.331      2014   \n",
       "818                                   4902.845      2014   \n",
       "819                                   7315.809      2014   \n",
       "820                                  12286.912      2014   \n",
       "821                                  24391.925      2014   \n",
       "822                                   2800.786      2014   \n",
       "823                                   4383.570      2014   \n",
       "824                                   3247.600      2014   \n",
       "825                                  65521.906      2014   \n",
       "\n",
       "     taxable_income_of_all_returns_in_thousands  \n",
       "812                                     596.150  \n",
       "813                                    4625.979  \n",
       "814                                   32399.652  \n",
       "815                                   76348.212  \n",
       "816                                   98708.415  \n",
       "817                                  108492.139  \n",
       "818                                  105632.906  \n",
       "819                                  152502.914  \n",
       "820                                  239089.102  \n",
       "821                                  418210.006  \n",
       "822                                   44916.793  \n",
       "823                                   68294.855  \n",
       "824                                   48682.876  \n",
       "825                                 1398499.999  "
      ]
     },
     "execution_count": 16,
     "metadata": {},
     "output_type": "execute_result"
    }
   ],
   "source": [
    "income2014[income2014.place_of_residence == 'Wayne']"
   ]
  },
  {
   "cell_type": "code",
   "execution_count": 17,
   "metadata": {},
   "outputs": [
    {
     "data": {
      "text/html": [
       "<div>\n",
       "<style scoped>\n",
       "    .dataframe tbody tr th:only-of-type {\n",
       "        vertical-align: middle;\n",
       "    }\n",
       "\n",
       "    .dataframe tbody tr th {\n",
       "        vertical-align: top;\n",
       "    }\n",
       "\n",
       "    .dataframe thead th {\n",
       "        text-align: right;\n",
       "    }\n",
       "</style>\n",
       "<table border=\"1\" class=\"dataframe\">\n",
       "  <thead>\n",
       "    <tr style=\"text-align: right;\">\n",
       "      <th></th>\n",
       "      <th>deductions_of_all_returns_in_thousands</th>\n",
       "      <th>dependent_exemptions_of_all_returns_in_thousands</th>\n",
       "      <th>disclosure</th>\n",
       "      <th>income_class</th>\n",
       "      <th>income_class_sort_order</th>\n",
       "      <th>number_of_all_returns</th>\n",
       "      <th>ny_agi_of_all_returns_in_thousands</th>\n",
       "      <th>place_of_residence</th>\n",
       "      <th>place_of_residence_sort_order</th>\n",
       "      <th>tax_before_credits_of_all_returns_in_thousands</th>\n",
       "      <th>tax_liability_of_all_returns_in_thousands</th>\n",
       "      <th>tax_year</th>\n",
       "      <th>taxable_income_of_all_returns_in_thousands</th>\n",
       "    </tr>\n",
       "  </thead>\n",
       "  <tbody>\n",
       "    <tr>\n",
       "      <th>994</th>\n",
       "      <td>4967.436</td>\n",
       "      <td>0.000</td>\n",
       "      <td>NaN</td>\n",
       "      <td>Under 5,000</td>\n",
       "      <td>1</td>\n",
       "      <td>3237.0</td>\n",
       "      <td>-1014.940</td>\n",
       "      <td>Allegany</td>\n",
       "      <td>8</td>\n",
       "      <td>8.972</td>\n",
       "      <td>-322.959</td>\n",
       "      <td>2013</td>\n",
       "      <td>224.278</td>\n",
       "    </tr>\n",
       "    <tr>\n",
       "      <th>995</th>\n",
       "      <td>11325.514</td>\n",
       "      <td>28.277</td>\n",
       "      <td>NaN</td>\n",
       "      <td>5,000 - 9,999</td>\n",
       "      <td>2</td>\n",
       "      <td>1742.0</td>\n",
       "      <td>12930.142</td>\n",
       "      <td>Allegany</td>\n",
       "      <td>8</td>\n",
       "      <td>63.082</td>\n",
       "      <td>-334.476</td>\n",
       "      <td>2013</td>\n",
       "      <td>1576.351</td>\n",
       "    </tr>\n",
       "    <tr>\n",
       "      <th>996</th>\n",
       "      <td>29509.870</td>\n",
       "      <td>1174.443</td>\n",
       "      <td>NaN</td>\n",
       "      <td>10,000 - 19,999</td>\n",
       "      <td>3</td>\n",
       "      <td>3002.0</td>\n",
       "      <td>44536.630</td>\n",
       "      <td>Allegany</td>\n",
       "      <td>8</td>\n",
       "      <td>562.064</td>\n",
       "      <td>-915.704</td>\n",
       "      <td>2013</td>\n",
       "      <td>13852.317</td>\n",
       "    </tr>\n",
       "    <tr>\n",
       "      <th>997</th>\n",
       "      <td>23876.684</td>\n",
       "      <td>1501.218</td>\n",
       "      <td>NaN</td>\n",
       "      <td>20,000 - 29,999</td>\n",
       "      <td>4</td>\n",
       "      <td>2125.0</td>\n",
       "      <td>52710.354</td>\n",
       "      <td>Allegany</td>\n",
       "      <td>8</td>\n",
       "      <td>1202.540</td>\n",
       "      <td>75.088</td>\n",
       "      <td>2013</td>\n",
       "      <td>27332.452</td>\n",
       "    </tr>\n",
       "    <tr>\n",
       "      <th>998</th>\n",
       "      <td>20303.756</td>\n",
       "      <td>1278.000</td>\n",
       "      <td>NaN</td>\n",
       "      <td>30,000 - 39,999</td>\n",
       "      <td>5</td>\n",
       "      <td>1732.0</td>\n",
       "      <td>60638.996</td>\n",
       "      <td>Allegany</td>\n",
       "      <td>8</td>\n",
       "      <td>1853.317</td>\n",
       "      <td>1137.468</td>\n",
       "      <td>2013</td>\n",
       "      <td>39057.240</td>\n",
       "    </tr>\n",
       "    <tr>\n",
       "      <th>999</th>\n",
       "      <td>18319.016</td>\n",
       "      <td>1062.000</td>\n",
       "      <td>NaN</td>\n",
       "      <td>40,000 - 49,999</td>\n",
       "      <td>6</td>\n",
       "      <td>1468.0</td>\n",
       "      <td>65756.111</td>\n",
       "      <td>Allegany</td>\n",
       "      <td>8</td>\n",
       "      <td>2309.766</td>\n",
       "      <td>1846.748</td>\n",
       "      <td>2013</td>\n",
       "      <td>46375.095</td>\n",
       "    </tr>\n",
       "  </tbody>\n",
       "</table>\n",
       "</div>"
      ],
      "text/plain": [
       "     deductions_of_all_returns_in_thousands  \\\n",
       "994                                4967.436   \n",
       "995                               11325.514   \n",
       "996                               29509.870   \n",
       "997                               23876.684   \n",
       "998                               20303.756   \n",
       "999                               18319.016   \n",
       "\n",
       "     dependent_exemptions_of_all_returns_in_thousands disclosure  \\\n",
       "994                                             0.000        NaN   \n",
       "995                                            28.277        NaN   \n",
       "996                                          1174.443        NaN   \n",
       "997                                          1501.218        NaN   \n",
       "998                                          1278.000        NaN   \n",
       "999                                          1062.000        NaN   \n",
       "\n",
       "        income_class  income_class_sort_order  number_of_all_returns  \\\n",
       "994      Under 5,000                        1                 3237.0   \n",
       "995    5,000 - 9,999                        2                 1742.0   \n",
       "996  10,000 - 19,999                        3                 3002.0   \n",
       "997  20,000 - 29,999                        4                 2125.0   \n",
       "998  30,000 - 39,999                        5                 1732.0   \n",
       "999  40,000 - 49,999                        6                 1468.0   \n",
       "\n",
       "     ny_agi_of_all_returns_in_thousands place_of_residence  \\\n",
       "994                           -1014.940           Allegany   \n",
       "995                           12930.142           Allegany   \n",
       "996                           44536.630           Allegany   \n",
       "997                           52710.354           Allegany   \n",
       "998                           60638.996           Allegany   \n",
       "999                           65756.111           Allegany   \n",
       "\n",
       "     place_of_residence_sort_order  \\\n",
       "994                              8   \n",
       "995                              8   \n",
       "996                              8   \n",
       "997                              8   \n",
       "998                              8   \n",
       "999                              8   \n",
       "\n",
       "     tax_before_credits_of_all_returns_in_thousands  \\\n",
       "994                                           8.972   \n",
       "995                                          63.082   \n",
       "996                                         562.064   \n",
       "997                                        1202.540   \n",
       "998                                        1853.317   \n",
       "999                                        2309.766   \n",
       "\n",
       "     tax_liability_of_all_returns_in_thousands  tax_year  \\\n",
       "994                                   -322.959      2013   \n",
       "995                                   -334.476      2013   \n",
       "996                                   -915.704      2013   \n",
       "997                                     75.088      2013   \n",
       "998                                   1137.468      2013   \n",
       "999                                   1846.748      2013   \n",
       "\n",
       "     taxable_income_of_all_returns_in_thousands  \n",
       "994                                     224.278  \n",
       "995                                    1576.351  \n",
       "996                                   13852.317  \n",
       "997                                   27332.452  \n",
       "998                                   39057.240  \n",
       "999                                   46375.095  "
      ]
     },
     "execution_count": 17,
     "metadata": {},
     "output_type": "execute_result"
    }
   ],
   "source": [
    "income2013[income2013.place_of_residence == 'Allegany']"
   ]
  },
  {
   "cell_type": "code",
   "execution_count": 18,
   "metadata": {},
   "outputs": [
    {
     "data": {
      "text/plain": [
       "array(['Albany', 'Allegany', 'Bronx', 'Broome', 'Cattaraugus', 'Cayuga',\n",
       "       'Chautauqua', 'Chemung', 'Chenango', 'Clinton', 'Columbia',\n",
       "       'Cortland', 'Delaware', 'Dutchess', 'Erie', 'Essex', 'Franklin',\n",
       "       'Fulton', 'Genesee', 'Greene', 'Hamilton', 'Herkimer', 'Jefferson',\n",
       "       'Kings', 'Lewis', 'Livingston', 'Madison', 'Monroe', 'Montgomery',\n",
       "       'Nassau', 'New York', 'New York State', 'Niagara', 'Oneida',\n",
       "       'Onondaga', 'Ontario', 'Orange', 'Orleans', 'Oswego', 'Otsego',\n",
       "       'Putnam', 'Queens', 'Rensselaer', 'Richmond', 'Rockland',\n",
       "       'Saratoga', 'Schenectady', 'Schoharie', 'Schuyler', 'Seneca',\n",
       "       'Steuben', 'St Lawrence', 'Suffolk', 'Sullivan', 'Tioga',\n",
       "       'Tompkins', 'Ulster', 'Warren', 'Washington', 'Wayne',\n",
       "       'Westchester', 'Wyoming', 'Yates'], dtype=object)"
      ]
     },
     "execution_count": 18,
     "metadata": {},
     "output_type": "execute_result"
    }
   ],
   "source": [
    "ppv2014.patient_county_name.unique()"
   ]
  },
  {
   "cell_type": "code",
   "execution_count": 19,
   "metadata": {},
   "outputs": [
    {
     "data": {
      "text/plain": [
       "array([1])"
      ]
     },
     "execution_count": 19,
     "metadata": {},
     "output_type": "execute_result"
    }
   ],
   "source": [
    "ppv2014.groupby(\"patient_county_name\").patient_county_name.count().unique()"
   ]
  },
  {
   "cell_type": "code",
   "execution_count": 20,
   "metadata": {},
   "outputs": [
    {
     "data": {
      "text/plain": [
       "array(['Albany ', 'Allegany ', 'Bronx ', 'Broome ', 'Cattaraugus ',\n",
       "       'Cayuga ', 'Chautauqua ', 'Chemung ', 'Chenango ', 'Clinton ',\n",
       "       'Columbia ', 'Cortland ', 'Delaware ', 'Dutchess ', 'Erie ',\n",
       "       'Essex ', 'Franklin ', 'Fulton ', 'Genesee ', 'Greene ',\n",
       "       'Hamilton ', 'Herkimer ', 'Jefferson ', 'Kings ', 'Lewis ',\n",
       "       'Livingston ', 'Madison ', 'Monroe ', 'Montgomery ', 'Nassau ',\n",
       "       'New York ', 'Niagara ', 'Oneida ', 'Onondaga ', 'Ontario ',\n",
       "       'Orange ', 'Orleans ', 'Oswego ', 'Otsego ', 'Putnam ', 'Queens ',\n",
       "       'Rensselaer ', 'Richmond ', 'Rockland ', 'Saratoga ',\n",
       "       'Schenectady ', 'Schoharie ', 'Schuyler ', 'Seneca ', 'Statewide',\n",
       "       'Steuben ', 'St Lawrence ', 'Suffolk ', 'Sullivan ', 'Tioga ',\n",
       "       'Tompkins ', 'Ulster ', 'Warren ', 'Washington ', 'Wayne ',\n",
       "       'Westchester ', 'Wyoming ', 'Yates '], dtype=object)"
      ]
     },
     "execution_count": 20,
     "metadata": {},
     "output_type": "execute_result"
    }
   ],
   "source": [
    "medicaidppv2014.patient_county.unique()"
   ]
  },
  {
   "cell_type": "code",
   "execution_count": 21,
   "metadata": {},
   "outputs": [
    {
     "data": {
      "text/plain": [
       "array([3])"
      ]
     },
     "execution_count": 21,
     "metadata": {},
     "output_type": "execute_result"
    }
   ],
   "source": [
    "medicaidppv2014.groupby(\"patient_county\").patient_county.count().unique()"
   ]
  },
  {
   "cell_type": "code",
   "execution_count": 22,
   "metadata": {},
   "outputs": [
    {
     "data": {
      "text/html": [
       "<div>\n",
       "<style scoped>\n",
       "    .dataframe tbody tr th:only-of-type {\n",
       "        vertical-align: middle;\n",
       "    }\n",
       "\n",
       "    .dataframe tbody tr th {\n",
       "        vertical-align: top;\n",
       "    }\n",
       "\n",
       "    .dataframe thead th {\n",
       "        text-align: right;\n",
       "    }\n",
       "</style>\n",
       "<table border=\"1\" class=\"dataframe\">\n",
       "  <thead>\n",
       "    <tr style=\"text-align: right;\">\n",
       "      <th></th>\n",
       "      <th>difference_in_rates</th>\n",
       "      <th>dual_status</th>\n",
       "      <th>expected_rate_per_100</th>\n",
       "      <th>medicaid_county_population</th>\n",
       "      <th>medicaid_ppv_events</th>\n",
       "      <th>observed_rate_per_100</th>\n",
       "      <th>patient_county</th>\n",
       "      <th>risk_adjusted_rate_per_100</th>\n",
       "      <th>year</th>\n",
       "    </tr>\n",
       "  </thead>\n",
       "  <tbody>\n",
       "    <tr>\n",
       "      <th>177</th>\n",
       "      <td>-6.04</td>\n",
       "      <td>Non-Dual</td>\n",
       "      <td>30.27</td>\n",
       "      <td>18590</td>\n",
       "      <td>4504</td>\n",
       "      <td>24.23</td>\n",
       "      <td>Wayne</td>\n",
       "      <td>25.49</td>\n",
       "      <td>2014</td>\n",
       "    </tr>\n",
       "    <tr>\n",
       "      <th>178</th>\n",
       "      <td>-2.07</td>\n",
       "      <td>Dual</td>\n",
       "      <td>28.21</td>\n",
       "      <td>3922</td>\n",
       "      <td>1025</td>\n",
       "      <td>26.13</td>\n",
       "      <td>Wayne</td>\n",
       "      <td>22.20</td>\n",
       "      <td>2014</td>\n",
       "    </tr>\n",
       "    <tr>\n",
       "      <th>179</th>\n",
       "      <td>-5.26</td>\n",
       "      <td>Total</td>\n",
       "      <td>29.82</td>\n",
       "      <td>22512</td>\n",
       "      <td>5529</td>\n",
       "      <td>24.56</td>\n",
       "      <td>Wayne</td>\n",
       "      <td>25.34</td>\n",
       "      <td>2014</td>\n",
       "    </tr>\n",
       "  </tbody>\n",
       "</table>\n",
       "</div>"
      ],
      "text/plain": [
       "     difference_in_rates dual_status  expected_rate_per_100  \\\n",
       "177                -6.04    Non-Dual                  30.27   \n",
       "178                -2.07        Dual                  28.21   \n",
       "179                -5.26      Total                   29.82   \n",
       "\n",
       "     medicaid_county_population  medicaid_ppv_events  observed_rate_per_100  \\\n",
       "177                       18590                 4504                  24.23   \n",
       "178                        3922                 1025                  26.13   \n",
       "179                       22512                 5529                  24.56   \n",
       "\n",
       "    patient_county  risk_adjusted_rate_per_100  year  \n",
       "177         Wayne                        25.49  2014  \n",
       "178         Wayne                        22.20  2014  \n",
       "179         Wayne                        25.34  2014  "
      ]
     },
     "execution_count": 22,
     "metadata": {},
     "output_type": "execute_result"
    }
   ],
   "source": [
    "medicaidppv2014[medicaidppv2014.patient_county == 'Wayne ']"
   ]
  },
  {
   "cell_type": "markdown",
   "metadata": {},
   "source": [
    "Since the income tax data for 2013 only contain the county on the New York Island, and doesn't contain all the income class, I will use 2014 data."
   ]
  },
  {
   "cell_type": "markdown",
   "metadata": {},
   "source": [
    "#### Format the County Columns as Same"
   ]
  },
  {
   "cell_type": "code",
   "execution_count": 23,
   "metadata": {},
   "outputs": [
    {
     "name": "stderr",
     "output_type": "stream",
     "text": [
      "/Users/crystal/anaconda3/lib/python3.6/site-packages/ipykernel_launcher.py:1: SettingWithCopyWarning: \n",
      "A value is trying to be set on a copy of a slice from a DataFrame.\n",
      "Try using .loc[row_indexer,col_indexer] = value instead\n",
      "\n",
      "See the caveats in the documentation: http://pandas.pydata.org/pandas-docs/stable/indexing.html#indexing-view-versus-copy\n",
      "  \"\"\"Entry point for launching an IPython kernel.\n"
     ]
    }
   ],
   "source": [
    "income2014['county_name'] = income2014.place_of_residence \\\n",
    "                                       .str.replace('New York City - ', '') \\\n",
    "                                       .str.replace('Manhattan', 'New York') \\\n",
    "                                       .str.replace('.', '')"
   ]
  },
  {
   "cell_type": "code",
   "execution_count": 24,
   "metadata": {},
   "outputs": [
    {
     "name": "stderr",
     "output_type": "stream",
     "text": [
      "/Users/crystal/anaconda3/lib/python3.6/site-packages/ipykernel_launcher.py:1: SettingWithCopyWarning: \n",
      "A value is trying to be set on a copy of a slice from a DataFrame.\n",
      "Try using .loc[row_indexer,col_indexer] = value instead\n",
      "\n",
      "See the caveats in the documentation: http://pandas.pydata.org/pandas-docs/stable/indexing.html#indexing-view-versus-copy\n",
      "  \"\"\"Entry point for launching an IPython kernel.\n"
     ]
    }
   ],
   "source": [
    "medicaidppv2014['patient_county_name'] = medicaidppv2014.patient_county.str.rstrip(' ')"
   ]
  },
  {
   "cell_type": "markdown",
   "metadata": {},
   "source": [
    "### Output Data"
   ]
  },
  {
   "cell_type": "code",
   "execution_count": 25,
   "metadata": {},
   "outputs": [],
   "source": [
    "ppv2014.to_csv(\"ppv2014.csv\")\n",
    "medicaidppv2014.to_csv(\"medicaidppv2014.csv\")\n",
    "income2014.to_csv(\"income2014.csv\")"
   ]
  }
 ],
 "metadata": {
  "kernelspec": {
   "display_name": "Python 2",
   "language": "python",
   "name": "python2"
  },
  "language_info": {
   "codemirror_mode": {
    "name": "ipython",
    "version": 2
   },
   "file_extension": ".py",
   "mimetype": "text/x-python",
   "name": "python",
   "nbconvert_exporter": "python",
   "pygments_lexer": "ipython2",
   "version": "2.7.15"
  }
 },
 "nbformat": 4,
 "nbformat_minor": 2
}
