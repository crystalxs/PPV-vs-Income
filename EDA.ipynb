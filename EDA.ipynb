{
 "cells": [
  {
   "cell_type": "code",
   "execution_count": 1,
   "metadata": {},
   "outputs": [],
   "source": [
    "import pandas as pd\n",
    "import matplotlib.pyplot as plt\n",
    "import numpy as np"
   ]
  },
  {
   "cell_type": "markdown",
   "metadata": {},
   "source": [
    "### Load Data"
   ]
  },
  {
   "cell_type": "code",
   "execution_count": 2,
   "metadata": {},
   "outputs": [],
   "source": [
    "medicaidppv = pd.read_json(\"https://health.data.ny.gov/resource/cr7a-34ka.json\")\n",
    "ppv = pd.read_json(\"https://health.data.ny.gov/resource/f8ue-xzy3.json\")\n",
    "income = pd.read_json(\"https://data.ny.gov/resource/5kgr-h5g5.json\")"
   ]
  },
  {
   "cell_type": "code",
   "execution_count": 3,
   "metadata": {},
   "outputs": [
    {
     "name": "stdout",
     "output_type": "stream",
     "text": [
      "<class 'pandas.core.frame.DataFrame'>\n",
      "RangeIndex: 504 entries, 0 to 503\n",
      "Data columns (total 9 columns):\n",
      "difference_in_rates           496 non-null float64\n",
      "dual_status                   504 non-null object\n",
      "expected_rate_per_100         496 non-null float64\n",
      "medicaid_county_population    504 non-null int64\n",
      "medicaid_ppv_events           504 non-null int64\n",
      "observed_rate_per_100         504 non-null float64\n",
      "patient_county                504 non-null object\n",
      "risk_adjusted_rate_per_100    496 non-null float64\n",
      "year                          504 non-null int64\n",
      "dtypes: float64(4), int64(3), object(2)\n",
      "memory usage: 35.5+ KB\n"
     ]
    }
   ],
   "source": [
    "medicaidppv.info()"
   ]
  },
  {
   "cell_type": "code",
   "execution_count": 4,
   "metadata": {},
   "outputs": [
    {
     "name": "stdout",
     "output_type": "stream",
     "text": [
      "<class 'pandas.core.frame.DataFrame'>\n",
      "RangeIndex: 378 entries, 0 to 377\n",
      "Data columns (total 7 columns):\n",
      "adjusted_rate_per_100    378 non-null float64\n",
      "difference_in_rates      377 non-null float64\n",
      "discharge_year           378 non-null int64\n",
      "expected_rate_per_100    378 non-null float64\n",
      "observed_rate_per_100    378 non-null float64\n",
      "patient_county_name      378 non-null object\n",
      "software_version         378 non-null float64\n",
      "dtypes: float64(5), int64(1), object(1)\n",
      "memory usage: 20.8+ KB\n"
     ]
    }
   ],
   "source": [
    "ppv.info()"
   ]
  },
  {
   "cell_type": "code",
   "execution_count": 5,
   "metadata": {},
   "outputs": [
    {
     "name": "stdout",
     "output_type": "stream",
     "text": [
      "<class 'pandas.core.frame.DataFrame'>\n",
      "RangeIndex: 1000 entries, 0 to 999\n",
      "Data columns (total 13 columns):\n",
      "deductions_of_all_returns_in_thousands              974 non-null float64\n",
      "dependent_exemptions_of_all_returns_in_thousands    974 non-null float64\n",
      "disclosure                                          26 non-null object\n",
      "income_class                                        1000 non-null object\n",
      "income_class_sort_order                             1000 non-null int64\n",
      "number_of_all_returns                               974 non-null float64\n",
      "ny_agi_of_all_returns_in_thousands                  974 non-null float64\n",
      "place_of_residence                                  1000 non-null object\n",
      "place_of_residence_sort_order                       1000 non-null int64\n",
      "tax_before_credits_of_all_returns_in_thousands      974 non-null float64\n",
      "tax_liability_of_all_returns_in_thousands           974 non-null float64\n",
      "tax_year                                            1000 non-null int64\n",
      "taxable_income_of_all_returns_in_thousands          974 non-null float64\n",
      "dtypes: float64(7), int64(3), object(3)\n",
      "memory usage: 101.6+ KB\n"
     ]
    }
   ],
   "source": [
    "income.info()"
   ]
  },
  {
   "cell_type": "markdown",
   "metadata": {},
   "source": [
    "### Clean & Check Data"
   ]
  },
  {
   "cell_type": "markdown",
   "metadata": {},
   "source": [
    "#### Check the Years for Both Dataset"
   ]
  },
  {
   "cell_type": "code",
   "execution_count": 6,
   "metadata": {},
   "outputs": [
    {
     "data": {
      "text/plain": [
       "array([2016, 2015, 2014, 2013, 2012, 2011])"
      ]
     },
     "execution_count": 6,
     "metadata": {},
     "output_type": "execute_result"
    }
   ],
   "source": [
    "ppv.discharge_year.unique()"
   ]
  },
  {
   "cell_type": "code",
   "execution_count": 7,
   "metadata": {},
   "outputs": [
    {
     "data": {
      "text/plain": [
       "array([2014, 2013, 2012, 2011])"
      ]
     },
     "execution_count": 7,
     "metadata": {},
     "output_type": "execute_result"
    }
   ],
   "source": [
    "medicaidppv.year.unique()"
   ]
  },
  {
   "cell_type": "code",
   "execution_count": 8,
   "metadata": {},
   "outputs": [
    {
     "data": {
      "text/plain": [
       "array([2014, 2013])"
      ]
     },
     "execution_count": 8,
     "metadata": {},
     "output_type": "execute_result"
    }
   ],
   "source": [
    "income.tax_year.unique()"
   ]
  },
  {
   "cell_type": "markdown",
   "metadata": {},
   "source": [
    "Since for the Income tax dataset, it only contains the tax year of 2013 and 2014, I will remove the other years data in PPV dataset."
   ]
  },
  {
   "cell_type": "code",
   "execution_count": 9,
   "metadata": {},
   "outputs": [],
   "source": [
    "ppv2013 = ppv[ppv.discharge_year == 2013]\n",
    "ppv2014 = ppv[ppv.discharge_year == 2014]\n",
    "medicaidppv2013 = medicaidppv[medicaidppv.year == 2013]\n",
    "medicaidppv2014 = medicaidppv[medicaidppv.year == 2014]\n",
    "income2013 = income[income.tax_year == 2013]\n",
    "income2014 = income[income.tax_year == 2014]"
   ]
  },
  {
   "cell_type": "markdown",
   "metadata": {},
   "source": [
    "#### Check the Distinct Entries for Each Year for Both Dataset"
   ]
  },
  {
   "cell_type": "code",
   "execution_count": 10,
   "metadata": {},
   "outputs": [
    {
     "data": {
      "text/plain": [
       "(63, 63, 189, 189, 90, 910)"
      ]
     },
     "execution_count": 10,
     "metadata": {},
     "output_type": "execute_result"
    }
   ],
   "source": [
    "len(ppv2013), len(ppv2014), len(medicaidppv2013), len(medicaidppv2014), len(income2013), len(income2014)"
   ]
  },
  {
   "cell_type": "code",
   "execution_count": 11,
   "metadata": {},
   "outputs": [
    {
     "data": {
      "text/plain": [
       "array(['New York City - Bronx', 'New York City - Kings',\n",
       "       'New York City - Manhattan', 'New York City - Queens',\n",
       "       'New York City - Richmond', 'Albany', 'Allegany'], dtype=object)"
      ]
     },
     "execution_count": 11,
     "metadata": {},
     "output_type": "execute_result"
    }
   ],
   "source": [
    "income2013.place_of_residence.unique()"
   ]
  },
  {
   "cell_type": "code",
   "execution_count": 12,
   "metadata": {},
   "outputs": [
    {
     "data": {
      "text/plain": [
       "array(['New York City - Bronx', 'New York City - Kings',\n",
       "       'New York City - Manhattan', 'New York City - Queens',\n",
       "       'New York City - Richmond', 'Albany', 'Allegany', 'Broome',\n",
       "       'Cattaraugus', 'Cayuga', 'Chautauqua', 'Chemung', 'Chenango',\n",
       "       'Clinton', 'Columbia', 'Cortland', 'Delaware', 'Dutchess', 'Erie',\n",
       "       'Essex', 'Franklin', 'Fulton', 'Genesee', 'Greene', 'Hamilton',\n",
       "       'Herkimer', 'Jefferson', 'Lewis', 'Livingston', 'Madison',\n",
       "       'Monroe', 'Montgomery', 'Nassau', 'Niagara', 'Oneida', 'Onondaga',\n",
       "       'Ontario', 'Orange', 'Orleans', 'Oswego', 'Otsego', 'Putnam',\n",
       "       'Rensselaer', 'Rockland', 'St. Lawrence', 'Saratoga',\n",
       "       'Schenectady', 'Schoharie', 'Schuyler', 'Seneca', 'Steuben',\n",
       "       'Suffolk', 'Sullivan', 'Tioga', 'Tompkins', 'Ulster', 'Warren',\n",
       "       'Washington', 'Wayne', 'Westchester', 'Wyoming', 'Yates',\n",
       "       'NYS Unclassified +', 'Residence Unknown ++',\n",
       "       'Grand Total, Full-Year Resident'], dtype=object)"
      ]
     },
     "execution_count": 12,
     "metadata": {},
     "output_type": "execute_result"
    }
   ],
   "source": [
    "income2014.place_of_residence.unique()"
   ]
  },
  {
   "cell_type": "code",
   "execution_count": 13,
   "metadata": {},
   "outputs": [
    {
     "data": {
      "text/plain": [
       "65"
      ]
     },
     "execution_count": 13,
     "metadata": {},
     "output_type": "execute_result"
    }
   ],
   "source": [
    "income2014.place_of_residence.nunique()"
   ]
  },
  {
   "cell_type": "code",
   "execution_count": 14,
   "metadata": {},
   "outputs": [
    {
     "data": {
      "text/plain": [
       "place_of_residence\n",
       "Albany                       14\n",
       "Allegany                      6\n",
       "New York City - Bronx        14\n",
       "New York City - Kings        14\n",
       "New York City - Manhattan    14\n",
       "New York City - Queens       14\n",
       "New York City - Richmond     14\n",
       "Name: place_of_residence, dtype: int64"
      ]
     },
     "execution_count": 14,
     "metadata": {},
     "output_type": "execute_result"
    }
   ],
   "source": [
    "income2013.groupby(\"place_of_residence\").place_of_residence.count()"
   ]
  },
  {
   "cell_type": "code",
   "execution_count": 15,
   "metadata": {},
   "outputs": [
    {
     "data": {
      "text/plain": [
       "array([14])"
      ]
     },
     "execution_count": 15,
     "metadata": {},
     "output_type": "execute_result"
    }
   ],
   "source": [
    "income2014.groupby(\"place_of_residence\").place_of_residence.count().unique()"
   ]
  },
  {
   "cell_type": "code",
   "execution_count": 16,
   "metadata": {},
   "outputs": [
    {
     "data": {
      "text/html": [
       "<div>\n",
       "<style scoped>\n",
       "    .dataframe tbody tr th:only-of-type {\n",
       "        vertical-align: middle;\n",
       "    }\n",
       "\n",
       "    .dataframe tbody tr th {\n",
       "        vertical-align: top;\n",
       "    }\n",
       "\n",
       "    .dataframe thead th {\n",
       "        text-align: right;\n",
       "    }\n",
       "</style>\n",
       "<table border=\"1\" class=\"dataframe\">\n",
       "  <thead>\n",
       "    <tr style=\"text-align: right;\">\n",
       "      <th></th>\n",
       "      <th>deductions_of_all_returns_in_thousands</th>\n",
       "      <th>dependent_exemptions_of_all_returns_in_thousands</th>\n",
       "      <th>disclosure</th>\n",
       "      <th>income_class</th>\n",
       "      <th>income_class_sort_order</th>\n",
       "      <th>number_of_all_returns</th>\n",
       "      <th>ny_agi_of_all_returns_in_thousands</th>\n",
       "      <th>place_of_residence</th>\n",
       "      <th>place_of_residence_sort_order</th>\n",
       "      <th>tax_before_credits_of_all_returns_in_thousands</th>\n",
       "      <th>tax_liability_of_all_returns_in_thousands</th>\n",
       "      <th>tax_year</th>\n",
       "      <th>taxable_income_of_all_returns_in_thousands</th>\n",
       "    </tr>\n",
       "  </thead>\n",
       "  <tbody>\n",
       "    <tr>\n",
       "      <th>812</th>\n",
       "      <td>10107.416</td>\n",
       "      <td>0.000</td>\n",
       "      <td>NaN</td>\n",
       "      <td>Under 5,000</td>\n",
       "      <td>1</td>\n",
       "      <td>6289.0</td>\n",
       "      <td>-325.842</td>\n",
       "      <td>Wayne</td>\n",
       "      <td>60</td>\n",
       "      <td>23.879</td>\n",
       "      <td>-664.293</td>\n",
       "      <td>2014</td>\n",
       "      <td>596.150</td>\n",
       "    </tr>\n",
       "    <tr>\n",
       "      <th>813</th>\n",
       "      <td>22707.257</td>\n",
       "      <td>46.163</td>\n",
       "      <td>NaN</td>\n",
       "      <td>5,000 - 9,999</td>\n",
       "      <td>2</td>\n",
       "      <td>3702.0</td>\n",
       "      <td>27379.399</td>\n",
       "      <td>Wayne</td>\n",
       "      <td>60</td>\n",
       "      <td>185.067</td>\n",
       "      <td>-519.209</td>\n",
       "      <td>2014</td>\n",
       "      <td>4625.979</td>\n",
       "    </tr>\n",
       "    <tr>\n",
       "      <th>814</th>\n",
       "      <td>58310.327</td>\n",
       "      <td>2003.991</td>\n",
       "      <td>NaN</td>\n",
       "      <td>10,000 - 19,999</td>\n",
       "      <td>3</td>\n",
       "      <td>6230.0</td>\n",
       "      <td>92713.970</td>\n",
       "      <td>Wayne</td>\n",
       "      <td>60</td>\n",
       "      <td>1316.464</td>\n",
       "      <td>-1367.945</td>\n",
       "      <td>2014</td>\n",
       "      <td>32399.652</td>\n",
       "    </tr>\n",
       "    <tr>\n",
       "      <th>815</th>\n",
       "      <td>57824.417</td>\n",
       "      <td>3000.698</td>\n",
       "      <td>NaN</td>\n",
       "      <td>20,000 - 29,999</td>\n",
       "      <td>4</td>\n",
       "      <td>5544.0</td>\n",
       "      <td>137173.327</td>\n",
       "      <td>Wayne</td>\n",
       "      <td>60</td>\n",
       "      <td>3387.094</td>\n",
       "      <td>850.155</td>\n",
       "      <td>2014</td>\n",
       "      <td>76348.212</td>\n",
       "    </tr>\n",
       "    <tr>\n",
       "      <th>816</th>\n",
       "      <td>47752.543</td>\n",
       "      <td>2613.113</td>\n",
       "      <td>NaN</td>\n",
       "      <td>30,000 - 39,999</td>\n",
       "      <td>5</td>\n",
       "      <td>4286.0</td>\n",
       "      <td>149074.071</td>\n",
       "      <td>Wayne</td>\n",
       "      <td>60</td>\n",
       "      <td>4751.103</td>\n",
       "      <td>3284.420</td>\n",
       "      <td>2014</td>\n",
       "      <td>98708.415</td>\n",
       "    </tr>\n",
       "    <tr>\n",
       "      <th>817</th>\n",
       "      <td>40680.087</td>\n",
       "      <td>2182.000</td>\n",
       "      <td>NaN</td>\n",
       "      <td>40,000 - 49,999</td>\n",
       "      <td>6</td>\n",
       "      <td>3374.0</td>\n",
       "      <td>151354.226</td>\n",
       "      <td>Wayne</td>\n",
       "      <td>60</td>\n",
       "      <td>5479.686</td>\n",
       "      <td>4609.331</td>\n",
       "      <td>2014</td>\n",
       "      <td>108492.139</td>\n",
       "    </tr>\n",
       "    <tr>\n",
       "      <th>818</th>\n",
       "      <td>34634.272</td>\n",
       "      <td>1848.000</td>\n",
       "      <td>NaN</td>\n",
       "      <td>50,000 - 59,999</td>\n",
       "      <td>7</td>\n",
       "      <td>2590.0</td>\n",
       "      <td>142115.178</td>\n",
       "      <td>Wayne</td>\n",
       "      <td>60</td>\n",
       "      <td>5478.048</td>\n",
       "      <td>4902.845</td>\n",
       "      <td>2014</td>\n",
       "      <td>105632.906</td>\n",
       "    </tr>\n",
       "    <tr>\n",
       "      <th>819</th>\n",
       "      <td>42563.590</td>\n",
       "      <td>2410.000</td>\n",
       "      <td>NaN</td>\n",
       "      <td>60,000 - 74,999</td>\n",
       "      <td>8</td>\n",
       "      <td>2942.0</td>\n",
       "      <td>197476.504</td>\n",
       "      <td>Wayne</td>\n",
       "      <td>60</td>\n",
       "      <td>8161.001</td>\n",
       "      <td>7315.809</td>\n",
       "      <td>2014</td>\n",
       "      <td>152502.914</td>\n",
       "    </tr>\n",
       "    <tr>\n",
       "      <th>820</th>\n",
       "      <td>54256.043</td>\n",
       "      <td>3118.000</td>\n",
       "      <td>NaN</td>\n",
       "      <td>75,000 - 99,999</td>\n",
       "      <td>9</td>\n",
       "      <td>3424.0</td>\n",
       "      <td>296463.145</td>\n",
       "      <td>Wayne</td>\n",
       "      <td>60</td>\n",
       "      <td>13327.557</td>\n",
       "      <td>12286.912</td>\n",
       "      <td>2014</td>\n",
       "      <td>239089.102</td>\n",
       "    </tr>\n",
       "    <tr>\n",
       "      <th>821</th>\n",
       "      <td>67680.975</td>\n",
       "      <td>4161.000</td>\n",
       "      <td>NaN</td>\n",
       "      <td>100,000 - 199,999</td>\n",
       "      <td>10</td>\n",
       "      <td>3784.0</td>\n",
       "      <td>490051.981</td>\n",
       "      <td>Wayne</td>\n",
       "      <td>60</td>\n",
       "      <td>25708.747</td>\n",
       "      <td>24391.925</td>\n",
       "      <td>2014</td>\n",
       "      <td>418210.006</td>\n",
       "    </tr>\n",
       "    <tr>\n",
       "      <th>822</th>\n",
       "      <td>4796.554</td>\n",
       "      <td>237.000</td>\n",
       "      <td>NaN</td>\n",
       "      <td>200,000 - 249,999</td>\n",
       "      <td>11</td>\n",
       "      <td>226.0</td>\n",
       "      <td>49950.347</td>\n",
       "      <td>Wayne</td>\n",
       "      <td>60</td>\n",
       "      <td>2986.932</td>\n",
       "      <td>2800.786</td>\n",
       "      <td>2014</td>\n",
       "      <td>44916.793</td>\n",
       "    </tr>\n",
       "    <tr>\n",
       "      <th>823</th>\n",
       "      <td>5134.226</td>\n",
       "      <td>200.000</td>\n",
       "      <td>NaN</td>\n",
       "      <td>250,000 - 499,999</td>\n",
       "      <td>12</td>\n",
       "      <td>227.0</td>\n",
       "      <td>73629.081</td>\n",
       "      <td>Wayne</td>\n",
       "      <td>60</td>\n",
       "      <td>4603.718</td>\n",
       "      <td>4383.570</td>\n",
       "      <td>2014</td>\n",
       "      <td>68294.855</td>\n",
       "    </tr>\n",
       "    <tr>\n",
       "      <th>824</th>\n",
       "      <td>914.370</td>\n",
       "      <td>38.000</td>\n",
       "      <td>NaN</td>\n",
       "      <td>500,000 and over</td>\n",
       "      <td>13</td>\n",
       "      <td>49.0</td>\n",
       "      <td>49635.246</td>\n",
       "      <td>Wayne</td>\n",
       "      <td>60</td>\n",
       "      <td>3667.861</td>\n",
       "      <td>3247.600</td>\n",
       "      <td>2014</td>\n",
       "      <td>48682.876</td>\n",
       "    </tr>\n",
       "    <tr>\n",
       "      <th>825</th>\n",
       "      <td>447362.077</td>\n",
       "      <td>21857.965</td>\n",
       "      <td>NaN</td>\n",
       "      <td>Total</td>\n",
       "      <td>14</td>\n",
       "      <td>42667.0</td>\n",
       "      <td>1856690.633</td>\n",
       "      <td>Wayne</td>\n",
       "      <td>60</td>\n",
       "      <td>79077.157</td>\n",
       "      <td>65521.906</td>\n",
       "      <td>2014</td>\n",
       "      <td>1398499.999</td>\n",
       "    </tr>\n",
       "  </tbody>\n",
       "</table>\n",
       "</div>"
      ],
      "text/plain": [
       "     deductions_of_all_returns_in_thousands  \\\n",
       "812                               10107.416   \n",
       "813                               22707.257   \n",
       "814                               58310.327   \n",
       "815                               57824.417   \n",
       "816                               47752.543   \n",
       "817                               40680.087   \n",
       "818                               34634.272   \n",
       "819                               42563.590   \n",
       "820                               54256.043   \n",
       "821                               67680.975   \n",
       "822                                4796.554   \n",
       "823                                5134.226   \n",
       "824                                 914.370   \n",
       "825                              447362.077   \n",
       "\n",
       "     dependent_exemptions_of_all_returns_in_thousands disclosure  \\\n",
       "812                                             0.000        NaN   \n",
       "813                                            46.163        NaN   \n",
       "814                                          2003.991        NaN   \n",
       "815                                          3000.698        NaN   \n",
       "816                                          2613.113        NaN   \n",
       "817                                          2182.000        NaN   \n",
       "818                                          1848.000        NaN   \n",
       "819                                          2410.000        NaN   \n",
       "820                                          3118.000        NaN   \n",
       "821                                          4161.000        NaN   \n",
       "822                                           237.000        NaN   \n",
       "823                                           200.000        NaN   \n",
       "824                                            38.000        NaN   \n",
       "825                                         21857.965        NaN   \n",
       "\n",
       "          income_class  income_class_sort_order  number_of_all_returns  \\\n",
       "812        Under 5,000                        1                 6289.0   \n",
       "813      5,000 - 9,999                        2                 3702.0   \n",
       "814    10,000 - 19,999                        3                 6230.0   \n",
       "815    20,000 - 29,999                        4                 5544.0   \n",
       "816    30,000 - 39,999                        5                 4286.0   \n",
       "817    40,000 - 49,999                        6                 3374.0   \n",
       "818    50,000 - 59,999                        7                 2590.0   \n",
       "819    60,000 - 74,999                        8                 2942.0   \n",
       "820    75,000 - 99,999                        9                 3424.0   \n",
       "821  100,000 - 199,999                       10                 3784.0   \n",
       "822  200,000 - 249,999                       11                  226.0   \n",
       "823  250,000 - 499,999                       12                  227.0   \n",
       "824   500,000 and over                       13                   49.0   \n",
       "825              Total                       14                42667.0   \n",
       "\n",
       "     ny_agi_of_all_returns_in_thousands place_of_residence  \\\n",
       "812                            -325.842              Wayne   \n",
       "813                           27379.399              Wayne   \n",
       "814                           92713.970              Wayne   \n",
       "815                          137173.327              Wayne   \n",
       "816                          149074.071              Wayne   \n",
       "817                          151354.226              Wayne   \n",
       "818                          142115.178              Wayne   \n",
       "819                          197476.504              Wayne   \n",
       "820                          296463.145              Wayne   \n",
       "821                          490051.981              Wayne   \n",
       "822                           49950.347              Wayne   \n",
       "823                           73629.081              Wayne   \n",
       "824                           49635.246              Wayne   \n",
       "825                         1856690.633              Wayne   \n",
       "\n",
       "     place_of_residence_sort_order  \\\n",
       "812                             60   \n",
       "813                             60   \n",
       "814                             60   \n",
       "815                             60   \n",
       "816                             60   \n",
       "817                             60   \n",
       "818                             60   \n",
       "819                             60   \n",
       "820                             60   \n",
       "821                             60   \n",
       "822                             60   \n",
       "823                             60   \n",
       "824                             60   \n",
       "825                             60   \n",
       "\n",
       "     tax_before_credits_of_all_returns_in_thousands  \\\n",
       "812                                          23.879   \n",
       "813                                         185.067   \n",
       "814                                        1316.464   \n",
       "815                                        3387.094   \n",
       "816                                        4751.103   \n",
       "817                                        5479.686   \n",
       "818                                        5478.048   \n",
       "819                                        8161.001   \n",
       "820                                       13327.557   \n",
       "821                                       25708.747   \n",
       "822                                        2986.932   \n",
       "823                                        4603.718   \n",
       "824                                        3667.861   \n",
       "825                                       79077.157   \n",
       "\n",
       "     tax_liability_of_all_returns_in_thousands  tax_year  \\\n",
       "812                                   -664.293      2014   \n",
       "813                                   -519.209      2014   \n",
       "814                                  -1367.945      2014   \n",
       "815                                    850.155      2014   \n",
       "816                                   3284.420      2014   \n",
       "817                                   4609.331      2014   \n",
       "818                                   4902.845      2014   \n",
       "819                                   7315.809      2014   \n",
       "820                                  12286.912      2014   \n",
       "821                                  24391.925      2014   \n",
       "822                                   2800.786      2014   \n",
       "823                                   4383.570      2014   \n",
       "824                                   3247.600      2014   \n",
       "825                                  65521.906      2014   \n",
       "\n",
       "     taxable_income_of_all_returns_in_thousands  \n",
       "812                                     596.150  \n",
       "813                                    4625.979  \n",
       "814                                   32399.652  \n",
       "815                                   76348.212  \n",
       "816                                   98708.415  \n",
       "817                                  108492.139  \n",
       "818                                  105632.906  \n",
       "819                                  152502.914  \n",
       "820                                  239089.102  \n",
       "821                                  418210.006  \n",
       "822                                   44916.793  \n",
       "823                                   68294.855  \n",
       "824                                   48682.876  \n",
       "825                                 1398499.999  "
      ]
     },
     "execution_count": 16,
     "metadata": {},
     "output_type": "execute_result"
    }
   ],
   "source": [
    "income2014[income2014.place_of_residence == 'Wayne']"
   ]
  },
  {
   "cell_type": "code",
   "execution_count": 17,
   "metadata": {},
   "outputs": [
    {
     "data": {
      "text/html": [
       "<div>\n",
       "<style scoped>\n",
       "    .dataframe tbody tr th:only-of-type {\n",
       "        vertical-align: middle;\n",
       "    }\n",
       "\n",
       "    .dataframe tbody tr th {\n",
       "        vertical-align: top;\n",
       "    }\n",
       "\n",
       "    .dataframe thead th {\n",
       "        text-align: right;\n",
       "    }\n",
       "</style>\n",
       "<table border=\"1\" class=\"dataframe\">\n",
       "  <thead>\n",
       "    <tr style=\"text-align: right;\">\n",
       "      <th></th>\n",
       "      <th>deductions_of_all_returns_in_thousands</th>\n",
       "      <th>dependent_exemptions_of_all_returns_in_thousands</th>\n",
       "      <th>disclosure</th>\n",
       "      <th>income_class</th>\n",
       "      <th>income_class_sort_order</th>\n",
       "      <th>number_of_all_returns</th>\n",
       "      <th>ny_agi_of_all_returns_in_thousands</th>\n",
       "      <th>place_of_residence</th>\n",
       "      <th>place_of_residence_sort_order</th>\n",
       "      <th>tax_before_credits_of_all_returns_in_thousands</th>\n",
       "      <th>tax_liability_of_all_returns_in_thousands</th>\n",
       "      <th>tax_year</th>\n",
       "      <th>taxable_income_of_all_returns_in_thousands</th>\n",
       "    </tr>\n",
       "  </thead>\n",
       "  <tbody>\n",
       "    <tr>\n",
       "      <th>994</th>\n",
       "      <td>4967.436</td>\n",
       "      <td>0.000</td>\n",
       "      <td>NaN</td>\n",
       "      <td>Under 5,000</td>\n",
       "      <td>1</td>\n",
       "      <td>3237.0</td>\n",
       "      <td>-1014.940</td>\n",
       "      <td>Allegany</td>\n",
       "      <td>8</td>\n",
       "      <td>8.972</td>\n",
       "      <td>-322.959</td>\n",
       "      <td>2013</td>\n",
       "      <td>224.278</td>\n",
       "    </tr>\n",
       "    <tr>\n",
       "      <th>995</th>\n",
       "      <td>11325.514</td>\n",
       "      <td>28.277</td>\n",
       "      <td>NaN</td>\n",
       "      <td>5,000 - 9,999</td>\n",
       "      <td>2</td>\n",
       "      <td>1742.0</td>\n",
       "      <td>12930.142</td>\n",
       "      <td>Allegany</td>\n",
       "      <td>8</td>\n",
       "      <td>63.082</td>\n",
       "      <td>-334.476</td>\n",
       "      <td>2013</td>\n",
       "      <td>1576.351</td>\n",
       "    </tr>\n",
       "    <tr>\n",
       "      <th>996</th>\n",
       "      <td>29509.870</td>\n",
       "      <td>1174.443</td>\n",
       "      <td>NaN</td>\n",
       "      <td>10,000 - 19,999</td>\n",
       "      <td>3</td>\n",
       "      <td>3002.0</td>\n",
       "      <td>44536.630</td>\n",
       "      <td>Allegany</td>\n",
       "      <td>8</td>\n",
       "      <td>562.064</td>\n",
       "      <td>-915.704</td>\n",
       "      <td>2013</td>\n",
       "      <td>13852.317</td>\n",
       "    </tr>\n",
       "    <tr>\n",
       "      <th>997</th>\n",
       "      <td>23876.684</td>\n",
       "      <td>1501.218</td>\n",
       "      <td>NaN</td>\n",
       "      <td>20,000 - 29,999</td>\n",
       "      <td>4</td>\n",
       "      <td>2125.0</td>\n",
       "      <td>52710.354</td>\n",
       "      <td>Allegany</td>\n",
       "      <td>8</td>\n",
       "      <td>1202.540</td>\n",
       "      <td>75.088</td>\n",
       "      <td>2013</td>\n",
       "      <td>27332.452</td>\n",
       "    </tr>\n",
       "    <tr>\n",
       "      <th>998</th>\n",
       "      <td>20303.756</td>\n",
       "      <td>1278.000</td>\n",
       "      <td>NaN</td>\n",
       "      <td>30,000 - 39,999</td>\n",
       "      <td>5</td>\n",
       "      <td>1732.0</td>\n",
       "      <td>60638.996</td>\n",
       "      <td>Allegany</td>\n",
       "      <td>8</td>\n",
       "      <td>1853.317</td>\n",
       "      <td>1137.468</td>\n",
       "      <td>2013</td>\n",
       "      <td>39057.240</td>\n",
       "    </tr>\n",
       "    <tr>\n",
       "      <th>999</th>\n",
       "      <td>18319.016</td>\n",
       "      <td>1062.000</td>\n",
       "      <td>NaN</td>\n",
       "      <td>40,000 - 49,999</td>\n",
       "      <td>6</td>\n",
       "      <td>1468.0</td>\n",
       "      <td>65756.111</td>\n",
       "      <td>Allegany</td>\n",
       "      <td>8</td>\n",
       "      <td>2309.766</td>\n",
       "      <td>1846.748</td>\n",
       "      <td>2013</td>\n",
       "      <td>46375.095</td>\n",
       "    </tr>\n",
       "  </tbody>\n",
       "</table>\n",
       "</div>"
      ],
      "text/plain": [
       "     deductions_of_all_returns_in_thousands  \\\n",
       "994                                4967.436   \n",
       "995                               11325.514   \n",
       "996                               29509.870   \n",
       "997                               23876.684   \n",
       "998                               20303.756   \n",
       "999                               18319.016   \n",
       "\n",
       "     dependent_exemptions_of_all_returns_in_thousands disclosure  \\\n",
       "994                                             0.000        NaN   \n",
       "995                                            28.277        NaN   \n",
       "996                                          1174.443        NaN   \n",
       "997                                          1501.218        NaN   \n",
       "998                                          1278.000        NaN   \n",
       "999                                          1062.000        NaN   \n",
       "\n",
       "        income_class  income_class_sort_order  number_of_all_returns  \\\n",
       "994      Under 5,000                        1                 3237.0   \n",
       "995    5,000 - 9,999                        2                 1742.0   \n",
       "996  10,000 - 19,999                        3                 3002.0   \n",
       "997  20,000 - 29,999                        4                 2125.0   \n",
       "998  30,000 - 39,999                        5                 1732.0   \n",
       "999  40,000 - 49,999                        6                 1468.0   \n",
       "\n",
       "     ny_agi_of_all_returns_in_thousands place_of_residence  \\\n",
       "994                           -1014.940           Allegany   \n",
       "995                           12930.142           Allegany   \n",
       "996                           44536.630           Allegany   \n",
       "997                           52710.354           Allegany   \n",
       "998                           60638.996           Allegany   \n",
       "999                           65756.111           Allegany   \n",
       "\n",
       "     place_of_residence_sort_order  \\\n",
       "994                              8   \n",
       "995                              8   \n",
       "996                              8   \n",
       "997                              8   \n",
       "998                              8   \n",
       "999                              8   \n",
       "\n",
       "     tax_before_credits_of_all_returns_in_thousands  \\\n",
       "994                                           8.972   \n",
       "995                                          63.082   \n",
       "996                                         562.064   \n",
       "997                                        1202.540   \n",
       "998                                        1853.317   \n",
       "999                                        2309.766   \n",
       "\n",
       "     tax_liability_of_all_returns_in_thousands  tax_year  \\\n",
       "994                                   -322.959      2013   \n",
       "995                                   -334.476      2013   \n",
       "996                                   -915.704      2013   \n",
       "997                                     75.088      2013   \n",
       "998                                   1137.468      2013   \n",
       "999                                   1846.748      2013   \n",
       "\n",
       "     taxable_income_of_all_returns_in_thousands  \n",
       "994                                     224.278  \n",
       "995                                    1576.351  \n",
       "996                                   13852.317  \n",
       "997                                   27332.452  \n",
       "998                                   39057.240  \n",
       "999                                   46375.095  "
      ]
     },
     "execution_count": 17,
     "metadata": {},
     "output_type": "execute_result"
    }
   ],
   "source": [
    "income2013[income2013.place_of_residence == 'Allegany']"
   ]
  },
  {
   "cell_type": "code",
   "execution_count": 18,
   "metadata": {},
   "outputs": [
    {
     "data": {
      "text/plain": [
       "array(['Albany', 'Allegany', 'Bronx', 'Broome', 'Cattaraugus', 'Cayuga',\n",
       "       'Chautauqua', 'Chemung', 'Chenango', 'Clinton', 'Columbia',\n",
       "       'Cortland', 'Delaware', 'Dutchess', 'Erie', 'Essex', 'Franklin',\n",
       "       'Fulton', 'Genesee', 'Greene', 'Hamilton', 'Herkimer', 'Jefferson',\n",
       "       'Kings', 'Lewis', 'Livingston', 'Madison', 'Monroe', 'Montgomery',\n",
       "       'Nassau', 'New York', 'New York State', 'Niagara', 'Oneida',\n",
       "       'Onondaga', 'Ontario', 'Orange', 'Orleans', 'Oswego', 'Otsego',\n",
       "       'Putnam', 'Queens', 'Rensselaer', 'Richmond', 'Rockland',\n",
       "       'Saratoga', 'Schenectady', 'Schoharie', 'Schuyler', 'Seneca',\n",
       "       'Steuben', 'St Lawrence', 'Suffolk', 'Sullivan', 'Tioga',\n",
       "       'Tompkins', 'Ulster', 'Warren', 'Washington', 'Wayne',\n",
       "       'Westchester', 'Wyoming', 'Yates'], dtype=object)"
      ]
     },
     "execution_count": 18,
     "metadata": {},
     "output_type": "execute_result"
    }
   ],
   "source": [
    "ppv2014.patient_county_name.unique()"
   ]
  },
  {
   "cell_type": "code",
   "execution_count": 19,
   "metadata": {},
   "outputs": [
    {
     "data": {
      "text/plain": [
       "array([1])"
      ]
     },
     "execution_count": 19,
     "metadata": {},
     "output_type": "execute_result"
    }
   ],
   "source": [
    "ppv2014.groupby(\"patient_county_name\").patient_county_name.count().unique()"
   ]
  },
  {
   "cell_type": "code",
   "execution_count": 20,
   "metadata": {},
   "outputs": [
    {
     "data": {
      "text/plain": [
       "array(['Albany ', 'Allegany ', 'Bronx ', 'Broome ', 'Cattaraugus ',\n",
       "       'Cayuga ', 'Chautauqua ', 'Chemung ', 'Chenango ', 'Clinton ',\n",
       "       'Columbia ', 'Cortland ', 'Delaware ', 'Dutchess ', 'Erie ',\n",
       "       'Essex ', 'Franklin ', 'Fulton ', 'Genesee ', 'Greene ',\n",
       "       'Hamilton ', 'Herkimer ', 'Jefferson ', 'Kings ', 'Lewis ',\n",
       "       'Livingston ', 'Madison ', 'Monroe ', 'Montgomery ', 'Nassau ',\n",
       "       'New York ', 'Niagara ', 'Oneida ', 'Onondaga ', 'Ontario ',\n",
       "       'Orange ', 'Orleans ', 'Oswego ', 'Otsego ', 'Putnam ', 'Queens ',\n",
       "       'Rensselaer ', 'Richmond ', 'Rockland ', 'Saratoga ',\n",
       "       'Schenectady ', 'Schoharie ', 'Schuyler ', 'Seneca ', 'Statewide',\n",
       "       'Steuben ', 'St Lawrence ', 'Suffolk ', 'Sullivan ', 'Tioga ',\n",
       "       'Tompkins ', 'Ulster ', 'Warren ', 'Washington ', 'Wayne ',\n",
       "       'Westchester ', 'Wyoming ', 'Yates '], dtype=object)"
      ]
     },
     "execution_count": 20,
     "metadata": {},
     "output_type": "execute_result"
    }
   ],
   "source": [
    "medicaidppv2014.patient_county.unique()"
   ]
  },
  {
   "cell_type": "code",
   "execution_count": 21,
   "metadata": {},
   "outputs": [
    {
     "data": {
      "text/plain": [
       "array([3])"
      ]
     },
     "execution_count": 21,
     "metadata": {},
     "output_type": "execute_result"
    }
   ],
   "source": [
    "medicaidppv2014.groupby(\"patient_county\").patient_county.count().unique()"
   ]
  },
  {
   "cell_type": "code",
   "execution_count": 22,
   "metadata": {},
   "outputs": [
    {
     "data": {
      "text/html": [
       "<div>\n",
       "<style scoped>\n",
       "    .dataframe tbody tr th:only-of-type {\n",
       "        vertical-align: middle;\n",
       "    }\n",
       "\n",
       "    .dataframe tbody tr th {\n",
       "        vertical-align: top;\n",
       "    }\n",
       "\n",
       "    .dataframe thead th {\n",
       "        text-align: right;\n",
       "    }\n",
       "</style>\n",
       "<table border=\"1\" class=\"dataframe\">\n",
       "  <thead>\n",
       "    <tr style=\"text-align: right;\">\n",
       "      <th></th>\n",
       "      <th>difference_in_rates</th>\n",
       "      <th>dual_status</th>\n",
       "      <th>expected_rate_per_100</th>\n",
       "      <th>medicaid_county_population</th>\n",
       "      <th>medicaid_ppv_events</th>\n",
       "      <th>observed_rate_per_100</th>\n",
       "      <th>patient_county</th>\n",
       "      <th>risk_adjusted_rate_per_100</th>\n",
       "      <th>year</th>\n",
       "    </tr>\n",
       "  </thead>\n",
       "  <tbody>\n",
       "    <tr>\n",
       "      <th>177</th>\n",
       "      <td>-6.04</td>\n",
       "      <td>Non-Dual</td>\n",
       "      <td>30.27</td>\n",
       "      <td>18590</td>\n",
       "      <td>4504</td>\n",
       "      <td>24.23</td>\n",
       "      <td>Wayne</td>\n",
       "      <td>25.49</td>\n",
       "      <td>2014</td>\n",
       "    </tr>\n",
       "    <tr>\n",
       "      <th>178</th>\n",
       "      <td>-2.07</td>\n",
       "      <td>Dual</td>\n",
       "      <td>28.21</td>\n",
       "      <td>3922</td>\n",
       "      <td>1025</td>\n",
       "      <td>26.13</td>\n",
       "      <td>Wayne</td>\n",
       "      <td>22.20</td>\n",
       "      <td>2014</td>\n",
       "    </tr>\n",
       "    <tr>\n",
       "      <th>179</th>\n",
       "      <td>-5.26</td>\n",
       "      <td>Total</td>\n",
       "      <td>29.82</td>\n",
       "      <td>22512</td>\n",
       "      <td>5529</td>\n",
       "      <td>24.56</td>\n",
       "      <td>Wayne</td>\n",
       "      <td>25.34</td>\n",
       "      <td>2014</td>\n",
       "    </tr>\n",
       "  </tbody>\n",
       "</table>\n",
       "</div>"
      ],
      "text/plain": [
       "     difference_in_rates dual_status  expected_rate_per_100  \\\n",
       "177                -6.04    Non-Dual                  30.27   \n",
       "178                -2.07        Dual                  28.21   \n",
       "179                -5.26      Total                   29.82   \n",
       "\n",
       "     medicaid_county_population  medicaid_ppv_events  observed_rate_per_100  \\\n",
       "177                       18590                 4504                  24.23   \n",
       "178                        3922                 1025                  26.13   \n",
       "179                       22512                 5529                  24.56   \n",
       "\n",
       "    patient_county  risk_adjusted_rate_per_100  year  \n",
       "177         Wayne                        25.49  2014  \n",
       "178         Wayne                        22.20  2014  \n",
       "179         Wayne                        25.34  2014  "
      ]
     },
     "execution_count": 22,
     "metadata": {},
     "output_type": "execute_result"
    }
   ],
   "source": [
    "medicaidppv2014[medicaidppv2014.patient_county == 'Wayne ']"
   ]
  },
  {
   "cell_type": "markdown",
   "metadata": {},
   "source": [
    "Since the income tax data for 2013 only contain the county on the New York Island, and doesn't contain all the income class, I will use 2014 data."
   ]
  },
  {
   "cell_type": "markdown",
   "metadata": {},
   "source": [
    "#### Format the County Columns as Same"
   ]
  },
  {
   "cell_type": "code",
   "execution_count": 23,
   "metadata": {},
   "outputs": [
    {
     "name": "stderr",
     "output_type": "stream",
     "text": [
      "/Users/crystal/anaconda3/lib/python3.6/site-packages/ipykernel_launcher.py:1: SettingWithCopyWarning: \n",
      "A value is trying to be set on a copy of a slice from a DataFrame.\n",
      "Try using .loc[row_indexer,col_indexer] = value instead\n",
      "\n",
      "See the caveats in the documentation: http://pandas.pydata.org/pandas-docs/stable/indexing.html#indexing-view-versus-copy\n",
      "  \"\"\"Entry point for launching an IPython kernel.\n"
     ]
    }
   ],
   "source": [
    "income2014['county_name'] = income2014.place_of_residence \\\n",
    "                                       .str.replace('New York City - ', '') \\\n",
    "                                       .str.replace('Manhattan', 'New York') \\\n",
    "                                       .str.replace('.', '')"
   ]
  },
  {
   "cell_type": "code",
   "execution_count": 24,
   "metadata": {},
   "outputs": [
    {
     "name": "stderr",
     "output_type": "stream",
     "text": [
      "/Users/crystal/anaconda3/lib/python3.6/site-packages/ipykernel_launcher.py:1: SettingWithCopyWarning: \n",
      "A value is trying to be set on a copy of a slice from a DataFrame.\n",
      "Try using .loc[row_indexer,col_indexer] = value instead\n",
      "\n",
      "See the caveats in the documentation: http://pandas.pydata.org/pandas-docs/stable/indexing.html#indexing-view-versus-copy\n",
      "  \"\"\"Entry point for launching an IPython kernel.\n"
     ]
    }
   ],
   "source": [
    "medicaidppv2014['patient_county_name'] = medicaidppv2014.patient_county.str.rstrip(' ')"
   ]
  },
  {
   "cell_type": "markdown",
   "metadata": {},
   "source": [
    "### Data Exploratory"
   ]
  },
  {
   "cell_type": "markdown",
   "metadata": {},
   "source": [
    "#### PPV"
   ]
  },
  {
   "cell_type": "code",
   "execution_count": 25,
   "metadata": {},
   "outputs": [],
   "source": [
    "ppv2014.to_csv(\"ppv2014.csv\")"
   ]
  },
  {
   "cell_type": "markdown",
   "metadata": {},
   "source": [
    "#### Medicaid PPV"
   ]
  },
  {
   "cell_type": "code",
   "execution_count": 32,
   "metadata": {},
   "outputs": [],
   "source": [
    "medicaidppv2014total = medicaidppv2014[medicaidppv2014.dual_status == 'Total ']"
   ]
  },
  {
   "cell_type": "code",
   "execution_count": 232,
   "metadata": {},
   "outputs": [
    {
     "data": {
      "image/png": "[encoded data removed]",
      "text/plain": [
       "<matplotlib.figure.Figure at 0x119f3ac88>"
      ]
     },
     "metadata": {},
     "output_type": "display_data"
    }
   ],
   "source": [
    "plt.figure(figsize=(20,8))\n",
    "plt.bar(joined_data['clean_county'], joined_data['observed_rate_per_100'], alpha=0.8)\n",
    "plt.xlabel('county', fontsize=12)\n",
    "plt.ylabel('observed_rate_per_100', fontsize=12)\n",
    "plt.show()"
   ]
  },
  {
   "cell_type": "markdown",
   "metadata": {},
   "source": [
    "#### Join 2 PPV datasets"
   ]
  },
  {
   "cell_type": "code",
   "execution_count": 33,
   "metadata": {},
   "outputs": [],
   "source": [
    "joinedppv = ppv2014[['observed_rate_per_100', 'patient_county_name']] \\\n",
    "                .merge(medicaidppv2014total[['patient_county_name', 'observed_rate_per_100']],\n",
    "                       on='patient_county_name', how='left')"
   ]
  },
  {
   "cell_type": "code",
   "execution_count": 34,
   "metadata": {},
   "outputs": [],
   "source": [
    "joinedppv.rename({'observed_rate_per_100_x': 'observed_rate_per_100_all_payer',\n",
    "                  'observed_rate_per_100_y': 'observed_rate_per_100_medicaid'},\n",
    "                 axis='columns',\n",
    "                 inplace = True)\n",
    "joinedppv['difference_in_rates'] = joinedppv['observed_rate_per_100_medicaid'] - joinedppv['observed_rate_per_100_all_payer']\n",
    "joinedppv = joinedppv[joinedppv.patient_county_name != 'New York State']\n",
    "joinedppv = joinedppv.round({'difference_in_rates': 2})"
   ]
  },
  {
   "cell_type": "code",
   "execution_count": 35,
   "metadata": {},
   "outputs": [],
   "source": [
    "joinedppv.to_csv(\"joinedppv2014.csv\")"
   ]
  },
  {
   "cell_type": "markdown",
   "metadata": {},
   "source": [
    "##### Check distribution of both PPV rates"
   ]
  },
  {
   "cell_type": "code",
   "execution_count": 36,
   "metadata": {},
   "outputs": [
    {
     "data": {
      "image/png": "[encoded data removed]",
      "text/plain": [
       "<matplotlib.figure.Figure at 0x1219589e8>"
      ]
     },
     "metadata": {},
     "output_type": "display_data"
    }
   ],
   "source": [
    "plt.figure(figsize=(20, 10))\n",
    "plt.hist([joinedppv[\"observed_rate_per_100_all_payer\"], joinedppv[\"observed_rate_per_100_medicaid\"]])\n",
    "plt.show()"
   ]
  },
  {
   "cell_type": "code",
   "execution_count": 67,
   "metadata": {},
   "outputs": [
    {
     "data": {
      "text/html": [
       "<div>\n",
       "<style scoped>\n",
       "    .dataframe tbody tr th:only-of-type {\n",
       "        vertical-align: middle;\n",
       "    }\n",
       "\n",
       "    .dataframe tbody tr th {\n",
       "        vertical-align: top;\n",
       "    }\n",
       "\n",
       "    .dataframe thead th {\n",
       "        text-align: right;\n",
       "    }\n",
       "</style>\n",
       "<table border=\"1\" class=\"dataframe\">\n",
       "  <thead>\n",
       "    <tr style=\"text-align: right;\">\n",
       "      <th></th>\n",
       "      <th>adjusted_rate_per_100</th>\n",
       "      <th>difference_in_rates</th>\n",
       "      <th>discharge_year</th>\n",
       "      <th>expected_rate_per_100</th>\n",
       "      <th>observed_rate_per_100</th>\n",
       "      <th>patient_county_name</th>\n",
       "      <th>software_version</th>\n",
       "    </tr>\n",
       "  </thead>\n",
       "  <tbody>\n",
       "    <tr>\n",
       "      <th>130</th>\n",
       "      <td>8.22</td>\n",
       "      <td>-15.16</td>\n",
       "      <td>2014</td>\n",
       "      <td>22.92</td>\n",
       "      <td>7.77</td>\n",
       "      <td>Cattaraugus</td>\n",
       "      <td>1.31</td>\n",
       "    </tr>\n",
       "  </tbody>\n",
       "</table>\n",
       "</div>"
      ],
      "text/plain": [
       "     adjusted_rate_per_100  difference_in_rates  discharge_year  \\\n",
       "130                   8.22               -15.16            2014   \n",
       "\n",
       "     expected_rate_per_100  observed_rate_per_100 patient_county_name  \\\n",
       "130                  22.92                   7.77         Cattaraugus   \n",
       "\n",
       "     software_version  \n",
       "130              1.31  "
      ]
     },
     "execution_count": 67,
     "metadata": {},
     "output_type": "execute_result"
    }
   ],
   "source": [
    "ppv2014[ppv2014.observed_rate_per_100<10]"
   ]
  },
  {
   "cell_type": "code",
   "execution_count": 68,
   "metadata": {},
   "outputs": [
    {
     "data": {
      "text/html": [
       "<div>\n",
       "<style scoped>\n",
       "    .dataframe tbody tr th:only-of-type {\n",
       "        vertical-align: middle;\n",
       "    }\n",
       "\n",
       "    .dataframe tbody tr th {\n",
       "        vertical-align: top;\n",
       "    }\n",
       "\n",
       "    .dataframe thead th {\n",
       "        text-align: right;\n",
       "    }\n",
       "</style>\n",
       "<table border=\"1\" class=\"dataframe\">\n",
       "  <thead>\n",
       "    <tr style=\"text-align: right;\">\n",
       "      <th></th>\n",
       "      <th>adjusted_rate_per_100</th>\n",
       "      <th>difference_in_rates</th>\n",
       "      <th>discharge_year</th>\n",
       "      <th>expected_rate_per_100</th>\n",
       "      <th>observed_rate_per_100</th>\n",
       "      <th>patient_county_name</th>\n",
       "      <th>software_version</th>\n",
       "    </tr>\n",
       "  </thead>\n",
       "  <tbody>\n",
       "    <tr>\n",
       "      <th>154</th>\n",
       "      <td>55.93</td>\n",
       "      <td>26.93</td>\n",
       "      <td>2014</td>\n",
       "      <td>20.63</td>\n",
       "      <td>47.56</td>\n",
       "      <td>Montgomery</td>\n",
       "      <td>1.31</td>\n",
       "    </tr>\n",
       "  </tbody>\n",
       "</table>\n",
       "</div>"
      ],
      "text/plain": [
       "     adjusted_rate_per_100  difference_in_rates  discharge_year  \\\n",
       "154                  55.93                26.93            2014   \n",
       "\n",
       "     expected_rate_per_100  observed_rate_per_100 patient_county_name  \\\n",
       "154                  20.63                  47.56          Montgomery   \n",
       "\n",
       "     software_version  \n",
       "154              1.31  "
      ]
     },
     "execution_count": 68,
     "metadata": {},
     "output_type": "execute_result"
    }
   ],
   "source": [
    "ppv2014[ppv2014.observed_rate_per_100>45]"
   ]
  },
  {
   "cell_type": "markdown",
   "metadata": {},
   "source": [
    "##### Output PPV data to echarts boxplot format"
   ]
  },
  {
   "cell_type": "code",
   "execution_count": 77,
   "metadata": {},
   "outputs": [
    {
     "data": {
      "text/plain": [
       "array([22.01, 29.66, 41.09, 24.09,  7.77, 22.52, 19.82, 37.43, 39.85,\n",
       "       32.67, 23.39, 33.49, 31.82, 21.55, 24.52, 30.32, 11.83, 42.26,\n",
       "       22.33, 18.78, 14.35, 22.84, 35.  , 25.57, 24.43, 16.29, 23.87,\n",
       "       23.56, 47.56, 16.69, 25.41, 25.77, 27.45, 20.22, 22.45, 23.09,\n",
       "       22.  , 18.83, 23.04, 17.38, 24.03, 18.98, 22.53, 16.98, 13.  ,\n",
       "       32.28, 25.22, 32.01, 22.48, 29.4 , 37.3 , 20.79, 31.05, 10.04,\n",
       "       16.96, 26.94, 20.08, 18.92, 23.83, 16.35, 18.99, 25.75])"
      ]
     },
     "execution_count": 77,
     "metadata": {},
     "output_type": "execute_result"
    }
   ],
   "source": [
    "joinedppv.observed_rate_per_100_all_payer.values"
   ]
  },
  {
   "cell_type": "code",
   "execution_count": 78,
   "metadata": {},
   "outputs": [
    {
     "data": {
      "text/plain": [
       "array([48.78, 36.88, 37.  , 29.77, 37.26, 39.64, 44.97, 57.1 , 50.79,\n",
       "       44.23, 39.82, 30.07, 47.78, 33.15, 28.77, 49.82, 36.71, 49.14,\n",
       "       43.41, 29.  , 15.94, 31.51, 52.23, 24.44, 39.83, 32.22, 45.48,\n",
       "       30.42, 48.25, 24.1 , 38.6 , 31.55, 38.66, 37.47, 33.66, 24.63,\n",
       "       26.04, 32.59, 30.93, 27.58, 24.26, 56.05, 27.17, 16.75, 26.91,\n",
       "       48.76, 34.47, 48.16, 16.15, 43.82, 57.45, 30.25, 34.65, 22.2 ,\n",
       "       22.38, 39.87, 30.9 , 26.76, 24.56, 32.62, 24.85, 24.46])"
      ]
     },
     "execution_count": 78,
     "metadata": {},
     "output_type": "execute_result"
    }
   ],
   "source": [
    "joinedppv.observed_rate_per_100_medicaid.values"
   ]
  },
  {
   "cell_type": "markdown",
   "metadata": {},
   "source": [
    "##### Output PPV data to d3 bar plot format"
   ]
  },
  {
   "cell_type": "code",
   "execution_count": 67,
   "metadata": {},
   "outputs": [],
   "source": [
    "joinedppv.to_json('diffppv2014.json', orient='records')"
   ]
  },
  {
   "cell_type": "markdown",
   "metadata": {},
   "source": [
    "#### Income"
   ]
  },
  {
   "cell_type": "code",
   "execution_count": 38,
   "metadata": {},
   "outputs": [],
   "source": [
    "income2014total = income2014[income2014.income_class == 'Total']"
   ]
  },
  {
   "cell_type": "markdown",
   "metadata": {},
   "source": [
    "##### NY AGI per returns"
   ]
  },
  {
   "cell_type": "code",
   "execution_count": 39,
   "metadata": {},
   "outputs": [
    {
     "name": "stderr",
     "output_type": "stream",
     "text": [
      "/Users/crystal/anaconda3/lib/python3.6/site-packages/ipykernel_launcher.py:1: SettingWithCopyWarning: \n",
      "A value is trying to be set on a copy of a slice from a DataFrame.\n",
      "Try using .loc[row_indexer,col_indexer] = value instead\n",
      "\n",
      "See the caveats in the documentation: http://pandas.pydata.org/pandas-docs/stable/indexing.html#indexing-view-versus-copy\n",
      "  \"\"\"Entry point for launching an IPython kernel.\n"
     ]
    }
   ],
   "source": [
    "income2014total['ny_agi_of_all_returns_in_thousands_per_returns'] = income2014total['ny_agi_of_all_returns_in_thousands']/income2014total['number_of_all_returns']"
   ]
  },
  {
   "cell_type": "code",
   "execution_count": 83,
   "metadata": {},
   "outputs": [
    {
     "data": {
      "image/png": "[encoded data removed]",
      "text/plain": [
       "<matplotlib.figure.Figure at 0x118105ba8>"
      ]
     },
     "metadata": {},
     "output_type": "display_data"
    }
   ],
   "source": [
    "plt.figure(figsize=(20,8))\n",
    "plt.bar(income2014total['clean_county'], income2014total['ny_agi_of_all_returns_in_thousands_per_returns'], alpha=0.8)\n",
    "plt.xlabel('county', fontsize=12)\n",
    "plt.ylabel('ny_agi_of_all_returns_in_thousands_per_returns', fontsize=12)\n",
    "plt.show()"
   ]
  },
  {
   "cell_type": "code",
   "execution_count": 84,
   "metadata": {},
   "outputs": [
    {
     "data": {
      "text/html": [
       "<div>\n",
       "<style scoped>\n",
       "    .dataframe tbody tr th:only-of-type {\n",
       "        vertical-align: middle;\n",
       "    }\n",
       "\n",
       "    .dataframe tbody tr th {\n",
       "        vertical-align: top;\n",
       "    }\n",
       "\n",
       "    .dataframe thead th {\n",
       "        text-align: right;\n",
       "    }\n",
       "</style>\n",
       "<table border=\"1\" class=\"dataframe\">\n",
       "  <thead>\n",
       "    <tr style=\"text-align: right;\">\n",
       "      <th></th>\n",
       "      <th>deductions_of_all_returns_in_thousands</th>\n",
       "      <th>dependent_exemptions_of_all_returns_in_thousands</th>\n",
       "      <th>disclosure</th>\n",
       "      <th>income_class</th>\n",
       "      <th>income_class_sort_order</th>\n",
       "      <th>number_of_all_returns</th>\n",
       "      <th>ny_agi_of_all_returns_in_thousands</th>\n",
       "      <th>place_of_residence</th>\n",
       "      <th>place_of_residence_sort_order</th>\n",
       "      <th>tax_before_credits_of_all_returns_in_thousands</th>\n",
       "      <th>tax_liability_of_all_returns_in_thousands</th>\n",
       "      <th>tax_year</th>\n",
       "      <th>taxable_income_of_all_returns_in_thousands</th>\n",
       "      <th>clean_county</th>\n",
       "      <th>county_name</th>\n",
       "      <th>ny_agi_of_all_returns_in_thousands_per_returns</th>\n",
       "    </tr>\n",
       "  </thead>\n",
       "  <tbody>\n",
       "    <tr>\n",
       "      <th>895</th>\n",
       "      <td>4.969421e+04</td>\n",
       "      <td>1424.074</td>\n",
       "      <td>NaN</td>\n",
       "      <td>Total</td>\n",
       "      <td>14</td>\n",
       "      <td>3711.0</td>\n",
       "      <td>1.062351e+06</td>\n",
       "      <td>Residence Unknown ++</td>\n",
       "      <td>66</td>\n",
       "      <td>8.333484e+04</td>\n",
       "      <td>7.403500e+04</td>\n",
       "      <td>2014</td>\n",
       "      <td>1.022022e+06</td>\n",
       "      <td>Residence Unknown ++</td>\n",
       "      <td>Residence Unknown ++</td>\n",
       "      <td>286.270865</td>\n",
       "    </tr>\n",
       "    <tr>\n",
       "      <th>41</th>\n",
       "      <td>1.171466e+07</td>\n",
       "      <td>283670.654</td>\n",
       "      <td>NaN</td>\n",
       "      <td>Total</td>\n",
       "      <td>14</td>\n",
       "      <td>885829.0</td>\n",
       "      <td>1.774328e+08</td>\n",
       "      <td>New York City - Manhattan</td>\n",
       "      <td>3</td>\n",
       "      <td>1.313224e+07</td>\n",
       "      <td>1.231738e+07</td>\n",
       "      <td>2014</td>\n",
       "      <td>1.700570e+08</td>\n",
       "      <td>New York</td>\n",
       "      <td>New York</td>\n",
       "      <td>200.301428</td>\n",
       "    </tr>\n",
       "    <tr>\n",
       "      <th>839</th>\n",
       "      <td>6.933467e+06</td>\n",
       "      <td>262384.878</td>\n",
       "      <td>NaN</td>\n",
       "      <td>Total</td>\n",
       "      <td>14</td>\n",
       "      <td>454120.0</td>\n",
       "      <td>6.609048e+07</td>\n",
       "      <td>Westchester</td>\n",
       "      <td>61</td>\n",
       "      <td>4.399626e+06</td>\n",
       "      <td>3.995073e+06</td>\n",
       "      <td>2014</td>\n",
       "      <td>6.009984e+07</td>\n",
       "      <td>Westchester</td>\n",
       "      <td>Westchester</td>\n",
       "      <td>145.535268</td>\n",
       "    </tr>\n",
       "    <tr>\n",
       "      <th>461</th>\n",
       "      <td>1.012681e+07</td>\n",
       "      <td>380261.404</td>\n",
       "      <td>NaN</td>\n",
       "      <td>Total</td>\n",
       "      <td>14</td>\n",
       "      <td>675831.0</td>\n",
       "      <td>6.679532e+07</td>\n",
       "      <td>Nassau</td>\n",
       "      <td>34</td>\n",
       "      <td>3.987948e+06</td>\n",
       "      <td>3.729985e+06</td>\n",
       "      <td>2014</td>\n",
       "      <td>5.823087e+07</td>\n",
       "      <td>Nassau</td>\n",
       "      <td>Nassau</td>\n",
       "      <td>98.834355</td>\n",
       "    </tr>\n",
       "    <tr>\n",
       "      <th>587</th>\n",
       "      <td>6.796410e+05</td>\n",
       "      <td>25400.003</td>\n",
       "      <td>NaN</td>\n",
       "      <td>Total</td>\n",
       "      <td>14</td>\n",
       "      <td>46886.0</td>\n",
       "      <td>3.822014e+06</td>\n",
       "      <td>Putnam</td>\n",
       "      <td>43</td>\n",
       "      <td>2.039670e+05</td>\n",
       "      <td>1.814636e+05</td>\n",
       "      <td>2014</td>\n",
       "      <td>3.158691e+06</td>\n",
       "      <td>Putnam</td>\n",
       "      <td>Putnam</td>\n",
       "      <td>81.517166</td>\n",
       "    </tr>\n",
       "  </tbody>\n",
       "</table>\n",
       "</div>"
      ],
      "text/plain": [
       "     deductions_of_all_returns_in_thousands  \\\n",
       "895                            4.969421e+04   \n",
       "41                             1.171466e+07   \n",
       "839                            6.933467e+06   \n",
       "461                            1.012681e+07   \n",
       "587                            6.796410e+05   \n",
       "\n",
       "     dependent_exemptions_of_all_returns_in_thousands disclosure income_class  \\\n",
       "895                                          1424.074        NaN        Total   \n",
       "41                                         283670.654        NaN        Total   \n",
       "839                                        262384.878        NaN        Total   \n",
       "461                                        380261.404        NaN        Total   \n",
       "587                                         25400.003        NaN        Total   \n",
       "\n",
       "     income_class_sort_order  number_of_all_returns  \\\n",
       "895                       14                 3711.0   \n",
       "41                        14               885829.0   \n",
       "839                       14               454120.0   \n",
       "461                       14               675831.0   \n",
       "587                       14                46886.0   \n",
       "\n",
       "     ny_agi_of_all_returns_in_thousands         place_of_residence  \\\n",
       "895                        1.062351e+06       Residence Unknown ++   \n",
       "41                         1.774328e+08  New York City - Manhattan   \n",
       "839                        6.609048e+07                Westchester   \n",
       "461                        6.679532e+07                     Nassau   \n",
       "587                        3.822014e+06                     Putnam   \n",
       "\n",
       "     place_of_residence_sort_order  \\\n",
       "895                             66   \n",
       "41                               3   \n",
       "839                             61   \n",
       "461                             34   \n",
       "587                             43   \n",
       "\n",
       "     tax_before_credits_of_all_returns_in_thousands  \\\n",
       "895                                    8.333484e+04   \n",
       "41                                     1.313224e+07   \n",
       "839                                    4.399626e+06   \n",
       "461                                    3.987948e+06   \n",
       "587                                    2.039670e+05   \n",
       "\n",
       "     tax_liability_of_all_returns_in_thousands  tax_year  \\\n",
       "895                               7.403500e+04      2014   \n",
       "41                                1.231738e+07      2014   \n",
       "839                               3.995073e+06      2014   \n",
       "461                               3.729985e+06      2014   \n",
       "587                               1.814636e+05      2014   \n",
       "\n",
       "     taxable_income_of_all_returns_in_thousands          clean_county  \\\n",
       "895                                1.022022e+06  Residence Unknown ++   \n",
       "41                                 1.700570e+08              New York   \n",
       "839                                6.009984e+07           Westchester   \n",
       "461                                5.823087e+07                Nassau   \n",
       "587                                3.158691e+06                Putnam   \n",
       "\n",
       "              county_name  ny_agi_of_all_returns_in_thousands_per_returns  \n",
       "895  Residence Unknown ++                                      286.270865  \n",
       "41               New York                                      200.301428  \n",
       "839           Westchester                                      145.535268  \n",
       "461                Nassau                                       98.834355  \n",
       "587                Putnam                                       81.517166  "
      ]
     },
     "execution_count": 84,
     "metadata": {},
     "output_type": "execute_result"
    }
   ],
   "source": [
    "income2014total.sort_values(['ny_agi_of_all_returns_in_thousands_per_returns'], ascending=False).head()"
   ]
  },
  {
   "cell_type": "markdown",
   "metadata": {},
   "source": [
    "##### Income Class Proportion"
   ]
  },
  {
   "cell_type": "code",
   "execution_count": 40,
   "metadata": {},
   "outputs": [],
   "source": [
    "income2014merged = income2014.merge(income2014total[['place_of_residence','number_of_all_returns']], on=\"place_of_residence\", how=\"left\")"
   ]
  },
  {
   "cell_type": "code",
   "execution_count": 41,
   "metadata": {},
   "outputs": [],
   "source": [
    "income2014merged['income_class_proportion'] = income2014merged['number_of_all_returns_x']/income2014merged['number_of_all_returns_y']"
   ]
  },
  {
   "cell_type": "code",
   "execution_count": 42,
   "metadata": {},
   "outputs": [
    {
     "data": {
      "text/html": [
       "<div>\n",
       "<style scoped>\n",
       "    .dataframe tbody tr th:only-of-type {\n",
       "        vertical-align: middle;\n",
       "    }\n",
       "\n",
       "    .dataframe tbody tr th {\n",
       "        vertical-align: top;\n",
       "    }\n",
       "\n",
       "    .dataframe thead th {\n",
       "        text-align: right;\n",
       "    }\n",
       "</style>\n",
       "<table border=\"1\" class=\"dataframe\">\n",
       "  <thead>\n",
       "    <tr style=\"text-align: right;\">\n",
       "      <th></th>\n",
       "      <th>deductions_of_all_returns_in_thousands</th>\n",
       "      <th>dependent_exemptions_of_all_returns_in_thousands</th>\n",
       "      <th>disclosure</th>\n",
       "      <th>income_class</th>\n",
       "      <th>income_class_sort_order</th>\n",
       "      <th>number_of_all_returns_x</th>\n",
       "      <th>ny_agi_of_all_returns_in_thousands</th>\n",
       "      <th>place_of_residence</th>\n",
       "      <th>place_of_residence_sort_order</th>\n",
       "      <th>tax_before_credits_of_all_returns_in_thousands</th>\n",
       "      <th>tax_liability_of_all_returns_in_thousands</th>\n",
       "      <th>tax_year</th>\n",
       "      <th>taxable_income_of_all_returns_in_thousands</th>\n",
       "      <th>county_name</th>\n",
       "      <th>number_of_all_returns_y</th>\n",
       "      <th>income_class_proportion</th>\n",
       "    </tr>\n",
       "  </thead>\n",
       "  <tbody>\n",
       "    <tr>\n",
       "      <th>0</th>\n",
       "      <td>121985.033</td>\n",
       "      <td>1.000</td>\n",
       "      <td>NaN</td>\n",
       "      <td>Under 5,000</td>\n",
       "      <td>1</td>\n",
       "      <td>115872.0</td>\n",
       "      <td>28535.362</td>\n",
       "      <td>New York City - Bronx</td>\n",
       "      <td>1</td>\n",
       "      <td>133.528</td>\n",
       "      <td>-7226.155</td>\n",
       "      <td>2014</td>\n",
       "      <td>3335.610</td>\n",
       "      <td>Bronx</td>\n",
       "      <td>616640.0</td>\n",
       "      <td>0.187909</td>\n",
       "    </tr>\n",
       "    <tr>\n",
       "      <th>1</th>\n",
       "      <td>453287.232</td>\n",
       "      <td>3907.523</td>\n",
       "      <td>NaN</td>\n",
       "      <td>5,000 - 9,999</td>\n",
       "      <td>2</td>\n",
       "      <td>64472.0</td>\n",
       "      <td>497520.476</td>\n",
       "      <td>New York City - Bronx</td>\n",
       "      <td>1</td>\n",
       "      <td>1613.677</td>\n",
       "      <td>-24640.639</td>\n",
       "      <td>2014</td>\n",
       "      <td>40325.721</td>\n",
       "      <td>Bronx</td>\n",
       "      <td>616640.0</td>\n",
       "      <td>0.104554</td>\n",
       "    </tr>\n",
       "    <tr>\n",
       "      <th>2</th>\n",
       "      <td>1222947.457</td>\n",
       "      <td>87664.662</td>\n",
       "      <td>NaN</td>\n",
       "      <td>10,000 - 19,999</td>\n",
       "      <td>3</td>\n",
       "      <td>125775.0</td>\n",
       "      <td>1848243.085</td>\n",
       "      <td>New York City - Bronx</td>\n",
       "      <td>1</td>\n",
       "      <td>21717.698</td>\n",
       "      <td>-83445.904</td>\n",
       "      <td>2014</td>\n",
       "      <td>537630.966</td>\n",
       "      <td>Bronx</td>\n",
       "      <td>616640.0</td>\n",
       "      <td>0.203968</td>\n",
       "    </tr>\n",
       "    <tr>\n",
       "      <th>3</th>\n",
       "      <td>867453.711</td>\n",
       "      <td>73712.451</td>\n",
       "      <td>NaN</td>\n",
       "      <td>20,000 - 29,999</td>\n",
       "      <td>4</td>\n",
       "      <td>82181.0</td>\n",
       "      <td>2028682.259</td>\n",
       "      <td>New York City - Bronx</td>\n",
       "      <td>1</td>\n",
       "      <td>47154.276</td>\n",
       "      <td>-11812.793</td>\n",
       "      <td>2014</td>\n",
       "      <td>1087516.097</td>\n",
       "      <td>Bronx</td>\n",
       "      <td>616640.0</td>\n",
       "      <td>0.133272</td>\n",
       "    </tr>\n",
       "    <tr>\n",
       "      <th>4</th>\n",
       "      <td>713694.013</td>\n",
       "      <td>58814.362</td>\n",
       "      <td>NaN</td>\n",
       "      <td>30,000 - 39,999</td>\n",
       "      <td>5</td>\n",
       "      <td>64824.0</td>\n",
       "      <td>2259143.529</td>\n",
       "      <td>New York City - Bronx</td>\n",
       "      <td>1</td>\n",
       "      <td>70580.685</td>\n",
       "      <td>38910.764</td>\n",
       "      <td>2014</td>\n",
       "      <td>1486635.154</td>\n",
       "      <td>Bronx</td>\n",
       "      <td>616640.0</td>\n",
       "      <td>0.105125</td>\n",
       "    </tr>\n",
       "  </tbody>\n",
       "</table>\n",
       "</div>"
      ],
      "text/plain": [
       "   deductions_of_all_returns_in_thousands  \\\n",
       "0                              121985.033   \n",
       "1                              453287.232   \n",
       "2                             1222947.457   \n",
       "3                              867453.711   \n",
       "4                              713694.013   \n",
       "\n",
       "   dependent_exemptions_of_all_returns_in_thousands disclosure  \\\n",
       "0                                             1.000        NaN   \n",
       "1                                          3907.523        NaN   \n",
       "2                                         87664.662        NaN   \n",
       "3                                         73712.451        NaN   \n",
       "4                                         58814.362        NaN   \n",
       "\n",
       "      income_class  income_class_sort_order  number_of_all_returns_x  \\\n",
       "0      Under 5,000                        1                 115872.0   \n",
       "1    5,000 - 9,999                        2                  64472.0   \n",
       "2  10,000 - 19,999                        3                 125775.0   \n",
       "3  20,000 - 29,999                        4                  82181.0   \n",
       "4  30,000 - 39,999                        5                  64824.0   \n",
       "\n",
       "   ny_agi_of_all_returns_in_thousands     place_of_residence  \\\n",
       "0                           28535.362  New York City - Bronx   \n",
       "1                          497520.476  New York City - Bronx   \n",
       "2                         1848243.085  New York City - Bronx   \n",
       "3                         2028682.259  New York City - Bronx   \n",
       "4                         2259143.529  New York City - Bronx   \n",
       "\n",
       "   place_of_residence_sort_order  \\\n",
       "0                              1   \n",
       "1                              1   \n",
       "2                              1   \n",
       "3                              1   \n",
       "4                              1   \n",
       "\n",
       "   tax_before_credits_of_all_returns_in_thousands  \\\n",
       "0                                         133.528   \n",
       "1                                        1613.677   \n",
       "2                                       21717.698   \n",
       "3                                       47154.276   \n",
       "4                                       70580.685   \n",
       "\n",
       "   tax_liability_of_all_returns_in_thousands  tax_year  \\\n",
       "0                                  -7226.155      2014   \n",
       "1                                 -24640.639      2014   \n",
       "2                                 -83445.904      2014   \n",
       "3                                 -11812.793      2014   \n",
       "4                                  38910.764      2014   \n",
       "\n",
       "   taxable_income_of_all_returns_in_thousands county_name  \\\n",
       "0                                    3335.610       Bronx   \n",
       "1                                   40325.721       Bronx   \n",
       "2                                  537630.966       Bronx   \n",
       "3                                 1087516.097       Bronx   \n",
       "4                                 1486635.154       Bronx   \n",
       "\n",
       "   number_of_all_returns_y  income_class_proportion  \n",
       "0                 616640.0                 0.187909  \n",
       "1                 616640.0                 0.104554  \n",
       "2                 616640.0                 0.203968  \n",
       "3                 616640.0                 0.133272  \n",
       "4                 616640.0                 0.105125  "
      ]
     },
     "execution_count": 42,
     "metadata": {},
     "output_type": "execute_result"
    }
   ],
   "source": [
    "income2014merged.head()"
   ]
  },
  {
   "cell_type": "code",
   "execution_count": 45,
   "metadata": {},
   "outputs": [],
   "source": [
    "output = income2014merged[income2014merged.income_class_sort_order != 14][['county_name', 'income_class', 'income_class_proportion']]"
   ]
  },
  {
   "cell_type": "code",
   "execution_count": 46,
   "metadata": {},
   "outputs": [],
   "source": [
    "output = output[output.county_name != 'NYS Unclassified +']\n",
    "output = output[output.county_name != 'Residence Unknown ++']\n",
    "output = output[output.county_name != 'Grand Total, Full-Year Resident']"
   ]
  },
  {
   "cell_type": "markdown",
   "metadata": {},
   "source": [
    "##### Output Income data to echarts stacked area graph format"
   ]
  },
  {
   "cell_type": "code",
   "execution_count": 47,
   "metadata": {},
   "outputs": [],
   "source": [
    "income2014merged.income_class_proportion.fillna(0, inplace=True)"
   ]
  },
  {
   "cell_type": "code",
   "execution_count": 50,
   "metadata": {},
   "outputs": [],
   "source": [
    "county = income2014merged.county_name.unique()\n",
    "county = county[:62]"
   ]
  },
  {
   "cell_type": "code",
   "execution_count": 51,
   "metadata": {},
   "outputs": [
    {
     "data": {
      "text/plain": [
       "array(['Bronx', 'Kings', 'New York', 'Queens', 'Richmond', 'Albany',\n",
       "       'Allegany', 'Broome', 'Cattaraugus', 'Cayuga', 'Chautauqua',\n",
       "       'Chemung', 'Chenango', 'Clinton', 'Columbia', 'Cortland',\n",
       "       'Delaware', 'Dutchess', 'Erie', 'Essex', 'Franklin', 'Fulton',\n",
       "       'Genesee', 'Greene', 'Hamilton', 'Herkimer', 'Jefferson', 'Lewis',\n",
       "       'Livingston', 'Madison', 'Monroe', 'Montgomery', 'Nassau',\n",
       "       'Niagara', 'Oneida', 'Onondaga', 'Ontario', 'Orange', 'Orleans',\n",
       "       'Oswego', 'Otsego', 'Putnam', 'Rensselaer', 'Rockland',\n",
       "       'St Lawrence', 'Saratoga', 'Schenectady', 'Schoharie', 'Schuyler',\n",
       "       'Seneca', 'Steuben', 'Suffolk', 'Sullivan', 'Tioga', 'Tompkins',\n",
       "       'Ulster', 'Warren', 'Washington', 'Wayne', 'Westchester',\n",
       "       'Wyoming', 'Yates'], dtype=object)"
      ]
     },
     "execution_count": 51,
     "metadata": {},
     "output_type": "execute_result"
    }
   ],
   "source": [
    "county"
   ]
  },
  {
   "cell_type": "code",
   "execution_count": 52,
   "metadata": {},
   "outputs": [],
   "source": [
    "income_class = income2014merged.income_class.unique()\n",
    "income_class = income_class[:13]"
   ]
  },
  {
   "cell_type": "code",
   "execution_count": 53,
   "metadata": {},
   "outputs": [
    {
     "data": {
      "text/plain": [
       "array(['Under 5,000', '5,000 - 9,999', '10,000 - 19,999',\n",
       "       '20,000 - 29,999', '30,000 - 39,999', '40,000 - 49,999',\n",
       "       '50,000 - 59,999', '60,000 - 74,999', '75,000 - 99,999',\n",
       "       '100,000 - 199,999', '200,000 - 249,999', '250,000 - 499,999',\n",
       "       '500,000 and over'], dtype=object)"
      ]
     },
     "execution_count": 53,
     "metadata": {},
     "output_type": "execute_result"
    }
   ],
   "source": [
    "income_class"
   ]
  },
  {
   "cell_type": "code",
   "execution_count": 54,
   "metadata": {},
   "outputs": [
    {
     "name": "stdout",
     "output_type": "stream",
     "text": [
      "Under 5,000,\n",
      ",0.18790866632070577,0.14156919970937817,0.12875735610371752,0.144209707265083,0.15552135548083,0.15226317602480194,0.1826029581569253,0.16818020731815364,0.17737161687974856,0.15712659447152574,0.177776565568405,0.16804393167357498,0.17296925195043597,0.17196245586842332,0.15869919852471806,0.148520268589903,0.19542372003934358,0.14763091891400384,0.15854069459979314,0.1852375899068506,0.19248458241873107,0.1631416097995168,0.16453697583902474,0.1752118339796065,0.21231828615149195,0.1603985615822595,0.16302627413738524,0.16070460704607045,0.16016511100368153,0.152048946112213,0.1493000121035371,0.16394107311798892,0.1383023270610552,0.1646210617090829,0.1715799376144972,0.15321179332563142,0.15425605128104292,0.13766261912358752,0.1680581586868859,0.15956421702621384,0.1771967760959308,0.1436889476602824,0.15472000652253673,0.1364486116223844,0.17919738319582093,0.14746714611406647,0.14788808762131975,0.17923250564334087,0.1631196949194243,0.1766175874645414,0.16812927577258788,0.13672148930575034,0.1677145501547889,0.15240280777537796,0.12964355152300713,0.15553928806283113,0.16683744760130415,0.15764801417392588,0.14739728595870344,0.13396459085704218,0.15807540477144003,0.17448087945128254,0.23076923076923078,0.14901643761789274,0.14853208247441751\n",
      "5,000 - 9,999,\n",
      ",0.10455371043072133,0.09558277670351566,0.06798603342180037,0.10340672489792715,0.07971940929287862,0.080592490527041,0.0942431407048991,0.09577389917604323,0.09507826564550087,0.0910709594559094,0.10046185177103789,0.09076748422525543,0.08884809545663148,0.08338356439622262,0.0844740761756153,0.09082317831385228,0.09520111818605373,0.07913859863151754,0.09274278467032016,0.08701804032543332,0.08968328629664471,0.09214597550120798,0.08683997943746787,0.09014313753650247,0.09755164498852334,0.08844021576266108,0.09528331750553973,0.08735320686540199,0.08809638912647354,0.0874037718089219,0.08785727047947298,0.09217461819164752,0.07310407483527687,0.0947596414174839,0.09345942466702975,0.08911211924821776,0.08881766521816073,0.0799113834891547,0.08695405236553644,0.09049969518790191,0.08747788480440338,0.06886917203429595,0.08140941147694691,0.07459777830709599,0.08939120246057707,0.07377991140108617,0.08606246272298433,0.08525206922498119,0.08820273096321811,0.08942320680805078,0.09254541165369191,0.07628555618863955,0.08961797465930489,0.08909287257019438,0.07777057679844458,0.08835316450984528,0.09132122341251359,0.08829174664107485,0.0867649471488504,0.07086452919933058,0.08724755420790663,0.09160950859720003,0.0,0.0,0.08656858602103062\n",
      "10,000 - 19,999,\n",
      ",0.20396827970939285,0.18142339681387815,0.11590611732061154,0.16965248996085222,0.12878418734350652,0.1290113675508095,0.1626986308901963,0.1585341543368477,0.1675159430018613,0.1513179018652033,0.17244890537493635,0.1575098344641867,0.147911886186324,0.1477367318235311,0.14082559046740903,0.15021139020144242,0.15809908370865042,0.12068560517083299,0.14998806609976742,0.14296663129347953,0.1598202153235079,0.15207900648497436,0.14474553866490417,0.1515630236009383,0.15761285386381024,0.15324393167515732,0.1663379355687048,0.14534778681120145,0.1361793908742702,0.14747705650990015,0.14469202261632363,0.15790422129116546,0.11388645978062563,0.15542586687523816,0.15680546615834035,0.1403392600524106,0.14102286804176417,0.14217170653004954,0.15499517237462374,0.15417592574383984,0.15093375270296835,0.10105361941731007,0.12671386446712235,0.13852738860859085,0.15656886198310793,0.11490982558247298,0.1458547958575069,0.14424379232505644,0.15746094230532662,0.15534242874510334,0.1550837461665487,0.12603271826788218,0.15475696549963297,0.14713822894168466,0.13462086843810758,0.14489373053587604,0.15398230088495576,0.15207441311088143,0.14601448426184171,0.11594952875891834,0.14148406659419877,0.15672272855397915,0.0,0.0,0.14783434296544906\n",
      "20,000 - 29,999,\n",
      ",0.13327224961079398,0.12823204764511104,0.08354095429253276,0.12296006105221664,0.09213274989506795,0.11207027213227695,0.11519217023148402,0.12460131124302294,0.12714734690141274,0.12621500919466416,0.12775474579969454,0.12302980700689073,0.1393299678751721,0.12672579580355348,0.1231647634584013,0.13519025118129818,0.12584769891805145,0.0995067098074577,0.11733129911033943,0.13158825610187477,0.12558795860771402,0.14021107955749587,0.12293456708526107,0.11647278471923021,0.12241775057383321,0.13503895714713815,0.13670343584873498,0.12357723577235773,0.11613551002194043,0.1245167579924026,0.12303821835933673,0.13745100689282336,0.08746269407588583,0.12158313779756533,0.13192058226469278,0.11844045572806597,0.11740763316750889,0.10596054398015761,0.1403987050604873,0.12227881457591788,0.1317869078042068,0.08153819903595956,0.11444334225652593,0.1008567737092455,0.12559195430356881,0.09964597505143556,0.11597896220788376,0.12392776523702032,0.12510763931602903,0.1263001485884101,0.11613588110403397,0.10145429742286115,0.13353333546101553,0.12329013678905687,0.12059624108878808,0.11556261399307667,0.1272473218444341,0.1324376199616123,0.12993648487121195,0.08876288205760592,0.12043023056238915,0.13943437000845627,0.0,0.0,0.11200464293508193\n",
      "30,000 - 39,999,\n",
      ",0.10512454592631033,0.09737676026950166,0.07073825760953864,0.09433389472228994,0.07959879774408159,0.09499827764381674,0.0916038928905262,0.09282803224949056,0.09471211057883014,0.09734668262354418,0.09418866826678304,0.08617366739710114,0.10536943552088114,0.10407876230661041,0.09550322717923257,0.10589405620492415,0.09587410053320909,0.08366231975206674,0.09442055064419662,0.10387925952128287,0.09950872791888785,0.11151612766498538,0.09701108907982668,0.0883239982766049,0.09334353481254781,0.10743182499250824,0.095429420215745,0.0996386630532972,0.09694693391841136,0.09463139140081353,0.09536434528509594,0.1098346623417579,0.07447867884130796,0.09718629043579408,0.10035153735703323,0.09616125184329416,0.09170812277562577,0.0832224623590534,0.10734367013119782,0.0972448919391949,0.0984863377236092,0.06974363349400674,0.09582693535894335,0.07591144987476812,0.09007469608944002,0.08112917276788197,0.09544271539337418,0.09428141459744169,0.09570672899495633,0.09948669458327705,0.09162538334512857,0.08334885606591866,0.09632017361886828,0.09525737940964722,0.10592352559948152,0.08920927577949551,0.09259431765253842,0.10634135538166248,0.10045234021609206,0.07516075046243284,0.10017735568396362,0.09997181245889317,0.0,0.0,0.0891013463058343\n",
      "40,000 - 49,999,\n",
      ",0.07702062791904515,0.0753850870943001,0.06371319972590647,0.07482913132298173,0.06579601209975057,0.07478470547709266,0.07945235607851762,0.07074510498803933,0.07860128764531779,0.07466651098981289,0.07196887046330643,0.07080814214430921,0.07893529141808169,0.072217916702546,0.0729838995673452,0.08107435961203681,0.07573639799140654,0.06640095172424244,0.07008943405233133,0.07233816766890697,0.07191387059684332,0.07913364133429407,0.07956965557758684,0.07276557039590215,0.06885998469778118,0.0804989511537309,0.07154162709718265,0.08888888888888889,0.07779554497787364,0.07348640199011665,0.07120049797409843,0.07694733522548092,0.06206285299135435,0.07277941559874054,0.07013912957369907,0.07129908798031315,0.07023615234874256,0.0656075227711924,0.07309592775600614,0.07527875558002793,0.07340279142913309,0.05980463251290364,0.07780842766099115,0.06138166489826263,0.07269442952692477,0.06853441085429371,0.07352383017947188,0.0765237020316027,0.07663919301267068,0.07659057138997703,0.0745930644019816,0.06725543478260869,0.0686177512526729,0.07613390928725702,0.07660401814646792,0.06971723513282133,0.06682192206179165,0.07629558541266794,0.07907750720697494,0.06249449484717696,0.08118313404657017,0.0761063609884431,0.0,0.0,0.07033394823669104\n",
      "50,000 - 59,999,\n",
      ",0.05494940321743643,0.05809185863550067,0.05604806345242705,0.0607047346292918,0.05738215045567043,0.05966930761281433,0.062132292296695445,0.055030123150527153,0.0589814786562109,0.05977991184798155,0.056531384100661865,0.059719618766005754,0.059430931620009175,0.05456528603002382,0.05826654372650543,0.059139517532952005,0.060361339752549564,0.054769608474589115,0.05374935065542852,0.05830680344299021,0.05728023413818334,0.05514347475946255,0.061504002350003674,0.058547560917229166,0.0531752104055088,0.060008990110878034,0.05700440743175786,0.06856368563685637,0.0596853966010933,0.060611154065956234,0.05631314732310104,0.058746677478938594,0.05295406691909664,0.0548703447446002,0.054820022775659755,0.05649637915973964,0.05645240576518473,0.05310970507317484,0.058158686885897655,0.058681245206583944,0.05759779830941616,0.05481380369406646,0.06268429563397698,0.05030207228080812,0.05704730752331202,0.05733906693110415,0.05823347611559941,0.06109857035364936,0.06335342600565876,0.05808456031338646,0.06383581033262561,0.055168248159186535,0.0541920658730412,0.05939524838012959,0.05892417368762152,0.05536186210404854,0.05409097966154324,0.06223239332644323,0.06070265076054093,0.05215581784550339,0.06499227644602094,0.058630085502208024,0.0,0.0,0.05647935419952862\n",
      "60,000 - 74,999,\n",
      ",0.047797742605085625,0.0597566964697531,0.06593258969846325,0.06342854527401105,0.06854595541232264,0.06788839131932484,0.06983009842194975,0.06285992735004872,0.06444329173404938,0.07084269826906799,0.062077241981235,0.06552789291654566,0.06603946764570905,0.06667814805246994,0.06706149372295908,0.0679432976871425,0.05860123207537402,0.06787097165286313,0.06344622958952063,0.06544039617969578,0.06569457510191283,0.06362056542194719,0.0709774546522729,0.06850495476087894,0.06426931905126243,0.07023524123464189,0.06379818345630311,0.07235772357723577,0.07251496783310402,0.06713282011631425,0.06399024800723907,0.06226066585574627,0.06379997366205457,0.06399534725146902,0.061751745308709215,0.06425465167610621,0.06606760131348684,0.0644215545214287,0.06877946271369342,0.06640970679042693,0.06526439944957735,0.06767478565030073,0.0698183201750214,0.05872544986033217,0.06917931943562955,0.06987822283182889,0.06480778615192756,0.06869826937547027,0.07368680034444582,0.06618938268269621,0.06716206652512385,0.06370118557152875,0.06226661985765806,0.06897948164146868,0.06486066104990279,0.06814149410027669,0.062133209129017236,0.06662483389930607,0.06895258630791946,0.06215537743327755,0.079009096630242,0.0648313445457108,0.0,0.0,0.0629359495610418\n",
      "75,000 - 99,999,\n",
      ",0.0434645822522055,0.06260229527985528,0.07807037249852962,0.0689947961765769,0.09128846905348881,0.07962797106441612,0.07235937757739044,0.06846371932311508,0.06718945473407988,0.07773139904842523,0.06556840497490726,0.0733162605274969,0.0687471317117944,0.07526048394041161,0.07188453081778849,0.07281770703805024,0.06336387637831961,0.0881329989164286,0.07542926941130772,0.06750383209527179,0.06606041601337932,0.06870681981943796,0.08100168906513916,0.07391450045478482,0.058530986993114,0.07064728798321845,0.06781600798694816,0.07777777777777778,0.0831133092856346,0.07718425387434028,0.07473934168285275,0.06590980763166193,0.08174528839310419,0.07512584481479254,0.06606921820072288,0.07430471413677478,0.07711819415223077,0.08551011685098339,0.07303913216334412,0.07781557884800692,0.06840967171220759,0.09141321503220577,0.08439890747509886,0.07544228145774236,0.07403700629790558,0.0920557542955645,0.07809195900883804,0.07569601203912717,0.07319473489974167,0.07024179386735108,0.07284736966265629,0.08116973834151472,0.07136246130277982,0.08036357091432686,0.07779650032404407,0.08093353350620991,0.07284583139264089,0.0760741178207589,0.08024937305177303,0.076065797586541,0.0842153441272384,0.06332800902001315,0.0,0.0,0.07285624848467098\n",
      "100,000 - 199,999,\n",
      ",0.036494551115723924,0.07136048439313367,0.1320175790135568,0.07960514086565991,0.14615225037027746,0.11474336892869445,0.06257216693242426,0.08275006644812616,0.057730448845085894,0.0807087188767915,0.05998618081315005,0.08369195026005227,0.06360715924736117,0.08438818565400844,0.09638981488048798,0.07485700074608306,0.060361339752549564,0.14972986489456017,0.09792818132040416,0.07003891050583658,0.06313368872164733,0.06497689992794473,0.07945949915546743,0.08885059122025947,0.05814843152257077,0.0655528918189991,0.0697396936713176,0.06567299006323396,0.09542226023576661,0.09365650317679093,0.10305009135288727,0.06586475649862594,0.16233940141840195,0.086988348073722,0.07700153488141803,0.1058403073252745,0.10574748805474173,0.14503127464496204,0.0620207871869143,0.08760889658020492,0.070532730489483,0.19033400162095296,0.11177997309453602,0.15504933486354416,0.0754039935556315,0.1540657263072047,0.11143794393536843,0.08148984198645598,0.07208758764915733,0.07057949479940565,0.07938192970040103,0.150734407871669,0.08467111352248428,0.09341252699784017,0.11126377187297472,0.10748539027507227,0.08806086011488899,0.0719031448398051,0.08868680713431926,0.13933982207346077,0.07288746495794954,0.062012590435027715,0.0,0.0,0.10569327692694248\n",
      "200,000 - 249,999,\n",
      ",0.0025071354436948623,0.009428516958943079,0.028761758759309076,0.007883731770037896,0.016335628169068445,0.01184981054081984,0.0026392478143729037,0.007109949499424117,0.00436334787782626,0.005166525584517937,0.003963924649065386,0.007550756395701877,0.003396053235429096,0.004649961250322914,0.010213490318462302,0.006565530962447152,0.004400269192938862,0.018140349016071713,0.00919378313997295,0.005011201509255984,0.0032403052158461376,0.0034332217183062775,0.004296100462656973,0.00612762698070755,0.0,0.003483667965238238,0.004699637178269657,0.003794037940379404,0.00572682310066565,0.007731872121558477,0.010798084182982427,0.003784295175023652,0.02908419412545444,0.005444919078274472,0.005862256770807546,0.01119595743281956,0.010618007353953242,0.017169448976274614,0.0,0.005132642425910995,0.006762335364655003,0.029966301241308706,0.009376146539658382,0.028077925265080156,0.004345066640628814,0.01669107152786788,0.009664913517323646,0.004514672686230248,0.004920654447041457,0.003917330811833041,0.007313045529606039,0.02275678252103787,0.006446877094437175,0.007199424046076314,0.01560596241088788,0.010124446319341911,0.008756404285048905,0.004576996899453714,0.005296833618487356,0.02953624592618691,0.003718748212140283,0.003758338814244104,0.0,0.018323901913230935,0.014724098361341642\n",
      "250,000 - 499,999,\n",
      ",0.0021682018681888947,0.013128937517186485,0.05728080701805879,0.007794993083052873,0.014280407377567217,0.015652772993455046,0.003079122450101721,0.009579604855143085,0.004943093400054923,0.005545987915584226,0.005254927631100444,0.010402090978694194,0.004038549793483249,0.006343465656304716,0.013086034470529825,0.005471275802039294,0.0047108764300874875,0.018276742617696313,0.011917520369529712,0.007723145855441575,0.0038151980767220654,0.004196159877929894,0.004920320188000294,0.006893580353295993,0.008033664881407804,0.003820797123164519,0.005965860666715368,0.005149051490514906,0.006321817708527016,0.010219517934581639,0.014135202273159541,0.0035590395098436724,0.0394018622998945,0.0053947817018631045,0.007199088973609942,0.013797702574506654,0.01447195076390664,0.015399526816728775,0.0032373487817345375,0.0042870346699179955,0.009553764497739335,0.031032717655590156,0.008520063594733052,0.03250976231206196,0.004955328809256456,0.018303645900910086,0.009908908528981185,0.004063205417607223,0.004428589002337311,0.005268134540051331,0.008020759613116301,0.02487289621318373,0.00753199502122363,0.005669546436285098,0.020609202851587814,0.010769631624005856,0.010836826579723645,0.004023327919681087,0.005320270935383317,0.05297058046331366,0.004920189942216374,0.006952926806351592,0.0,0.0,0.020620696383007352\n",
      "500,000 and over,\n",
      ",0.0007703035806953814,0.006061942509942904,0.051246911085548116,0.00219604898001885,0.004462627305489755,0.0068480881846365825,0.0015945455545169627,0.003543900062018251,0.001922314100021359,0.0024810998569718907,0.0020183286057167795,0.0034585632441851257,0.0013767783386874712,0.0020092425155716293,0.007447336690545429,0.0014921661278288984,0.0020189470414660664,0.0060543604276697156,0.005222836337088222,0.0029477655936799908,0.00177694156998014,0.001695418132496927,0.002203128442388191,0.0026808368040595527,0.0,0.001198681450404555,0.0026541992353958164,0.0011743450767841012,0.001896545312558105,0.003899552896090362,0.005521518359913085,0.0016218407892958507,0.021378125596487878,0.0018250005013737641,0.0030400554537802645,0.005546319516845595,0.006075859763651021,0.004822134863252442,0.0,0.001022595425851999,0.002594849616669943,0.010066970950816875,0.002500305743908902,0.012169506940083584,0.0015134501781965532,0.0062000704342829605,0.0031041587594209186,0.0009781790820165537,0.002091278139992619,0.0019586654059165205,0.0033262561924982306,0.010498389288218795,0.002968116682092363,0.0016648668106551475,0.005780946208684381,0.0039083340570989,0.004471355379599441,0.0014764506127270044,0.0011484285279021258,0.0405795824892099,0.0016591338177241262,0.00216104481819036,0.0,0.0646725949878739,0.012315427144962678\n"
     ]
    }
   ],
   "source": [
    "for income in income_class:\n",
    "    result = income2014merged[income2014merged.income_class == income].income_class_proportion.values\n",
    "#     result = [ '%.2f' % elem for elem in result ]\n",
    "    print(income, \"\\n\", *result, sep=\",\")"
   ]
  },
  {
   "cell_type": "markdown",
   "metadata": {},
   "source": [
    "##### Output Income data to echarts heat map format"
   ]
  },
  {
   "cell_type": "code",
   "execution_count": 55,
   "metadata": {},
   "outputs": [],
   "source": [
    "county_map = {}\n",
    "for i, c in enumerate(county):\n",
    "    county_map[c] = i\n",
    "income_map = {}\n",
    "for i, income in enumerate(income_class):\n",
    "    income_map[income] = i"
   ]
  },
  {
   "cell_type": "code",
   "execution_count": 57,
   "metadata": {},
   "outputs": [],
   "source": [
    "output['county_code'] = [county_map[i] for i in output.county_name]"
   ]
  },
  {
   "cell_type": "code",
   "execution_count": 58,
   "metadata": {},
   "outputs": [],
   "source": [
    "output['income_code'] = [income_map[i] for i in output.income_class]"
   ]
  },
  {
   "cell_type": "code",
   "execution_count": 59,
   "metadata": {},
   "outputs": [
    {
     "data": {
      "text/plain": [
       "[[0.0, 0.0, 0.18790866632070577],\n",
       " [0.0, 1.0, 0.10455371043072133],\n",
       " [0.0, 2.0, 0.20396827970939285],\n",
       " [0.0, 3.0, 0.13327224961079398],\n",
       " [0.0, 4.0, 0.10512454592631033],\n",
       " [0.0, 5.0, 0.07702062791904515],\n",
       " [0.0, 6.0, 0.05494940321743643],\n",
       " [0.0, 7.0, 0.047797742605085625],\n",
       " [0.0, 8.0, 0.0434645822522055],\n",
       " [0.0, 9.0, 0.036494551115723924],\n",
       " [0.0, 10.0, 0.0025071354436948623],\n",
       " [0.0, 11.0, 0.0021682018681888947],\n",
       " [0.0, 12.0, 0.0007703035806953814],\n",
       " [1.0, 0.0, 0.14156919970937817],\n",
       " [1.0, 1.0, 0.09558277670351566],\n",
       " [1.0, 2.0, 0.18142339681387815],\n",
       " [1.0, 3.0, 0.12823204764511104],\n",
       " [1.0, 4.0, 0.09737676026950166],\n",
       " [1.0, 5.0, 0.0753850870943001],\n",
       " [1.0, 6.0, 0.05809185863550067],\n",
       " [1.0, 7.0, 0.0597566964697531],\n",
       " [1.0, 8.0, 0.06260229527985528],\n",
       " [1.0, 9.0, 0.07136048439313367],\n",
       " [1.0, 10.0, 0.009428516958943079],\n",
       " [1.0, 11.0, 0.013128937517186485],\n",
       " [1.0, 12.0, 0.006061942509942904],\n",
       " [2.0, 0.0, 0.12875735610371752],\n",
       " [2.0, 1.0, 0.06798603342180037],\n",
       " [2.0, 2.0, 0.11590611732061154],\n",
       " [2.0, 3.0, 0.08354095429253276],\n",
       " [2.0, 4.0, 0.07073825760953864],\n",
       " [2.0, 5.0, 0.06371319972590647],\n",
       " [2.0, 6.0, 0.05604806345242705],\n",
       " [2.0, 7.0, 0.06593258969846325],\n",
       " [2.0, 8.0, 0.07807037249852962],\n",
       " [2.0, 9.0, 0.1320175790135568],\n",
       " [2.0, 10.0, 0.028761758759309076],\n",
       " [2.0, 11.0, 0.05728080701805879],\n",
       " [2.0, 12.0, 0.051246911085548116],\n",
       " [3.0, 0.0, 0.144209707265083],\n",
       " [3.0, 1.0, 0.10340672489792715],\n",
       " [3.0, 2.0, 0.16965248996085222],\n",
       " [3.0, 3.0, 0.12296006105221664],\n",
       " [3.0, 4.0, 0.09433389472228994],\n",
       " [3.0, 5.0, 0.07482913132298173],\n",
       " [3.0, 6.0, 0.0607047346292918],\n",
       " [3.0, 7.0, 0.06342854527401105],\n",
       " [3.0, 8.0, 0.0689947961765769],\n",
       " [3.0, 9.0, 0.07960514086565991],\n",
       " [3.0, 10.0, 0.007883731770037896],\n",
       " [3.0, 11.0, 0.007794993083052873],\n",
       " [3.0, 12.0, 0.00219604898001885],\n",
       " [4.0, 0.0, 0.15552135548083],\n",
       " [4.0, 1.0, 0.07971940929287862],\n",
       " [4.0, 2.0, 0.12878418734350652],\n",
       " [4.0, 3.0, 0.09213274989506795],\n",
       " [4.0, 4.0, 0.07959879774408159],\n",
       " [4.0, 5.0, 0.06579601209975057],\n",
       " [4.0, 6.0, 0.05738215045567043],\n",
       " [4.0, 7.0, 0.06854595541232264],\n",
       " [4.0, 8.0, 0.09128846905348881],\n",
       " [4.0, 9.0, 0.14615225037027746],\n",
       " [4.0, 10.0, 0.016335628169068445],\n",
       " [4.0, 11.0, 0.014280407377567217],\n",
       " [4.0, 12.0, 0.004462627305489755],\n",
       " [5.0, 0.0, 0.15226317602480194],\n",
       " [5.0, 1.0, 0.080592490527041],\n",
       " [5.0, 2.0, 0.1290113675508095],\n",
       " [5.0, 3.0, 0.11207027213227695],\n",
       " [5.0, 4.0, 0.09499827764381674],\n",
       " [5.0, 5.0, 0.07478470547709266],\n",
       " [5.0, 6.0, 0.05966930761281433],\n",
       " [5.0, 7.0, 0.06788839131932484],\n",
       " [5.0, 8.0, 0.07962797106441612],\n",
       " [5.0, 9.0, 0.11474336892869445],\n",
       " [5.0, 10.0, 0.01184981054081984],\n",
       " [5.0, 11.0, 0.015652772993455046],\n",
       " [5.0, 12.0, 0.0068480881846365825],\n",
       " [6.0, 0.0, 0.1826029581569253],\n",
       " [6.0, 1.0, 0.0942431407048991],\n",
       " [6.0, 2.0, 0.1626986308901963],\n",
       " [6.0, 3.0, 0.11519217023148402],\n",
       " [6.0, 4.0, 0.0916038928905262],\n",
       " [6.0, 5.0, 0.07945235607851762],\n",
       " [6.0, 6.0, 0.062132292296695445],\n",
       " [6.0, 7.0, 0.06983009842194975],\n",
       " [6.0, 8.0, 0.07235937757739044],\n",
       " [6.0, 9.0, 0.06257216693242426],\n",
       " [6.0, 10.0, 0.0026392478143729037],\n",
       " [6.0, 11.0, 0.003079122450101721],\n",
       " [6.0, 12.0, 0.0015945455545169627],\n",
       " [7.0, 0.0, 0.16818020731815364],\n",
       " [7.0, 1.0, 0.09577389917604323],\n",
       " [7.0, 2.0, 0.1585341543368477],\n",
       " [7.0, 3.0, 0.12460131124302294],\n",
       " [7.0, 4.0, 0.09282803224949056],\n",
       " [7.0, 5.0, 0.07074510498803933],\n",
       " [7.0, 6.0, 0.055030123150527153],\n",
       " [7.0, 7.0, 0.06285992735004872],\n",
       " [7.0, 8.0, 0.06846371932311508],\n",
       " [7.0, 9.0, 0.08275006644812616],\n",
       " [7.0, 10.0, 0.007109949499424117],\n",
       " [7.0, 11.0, 0.009579604855143085],\n",
       " [7.0, 12.0, 0.003543900062018251],\n",
       " [8.0, 0.0, 0.17737161687974856],\n",
       " [8.0, 1.0, 0.09507826564550087],\n",
       " [8.0, 2.0, 0.1675159430018613],\n",
       " [8.0, 3.0, 0.12714734690141274],\n",
       " [8.0, 4.0, 0.09471211057883014],\n",
       " [8.0, 5.0, 0.07860128764531779],\n",
       " [8.0, 6.0, 0.0589814786562109],\n",
       " [8.0, 7.0, 0.06444329173404938],\n",
       " [8.0, 8.0, 0.06718945473407988],\n",
       " [8.0, 9.0, 0.057730448845085894],\n",
       " [8.0, 10.0, 0.00436334787782626],\n",
       " [8.0, 11.0, 0.004943093400054923],\n",
       " [8.0, 12.0, 0.001922314100021359],\n",
       " [9.0, 0.0, 0.15712659447152574],\n",
       " [9.0, 1.0, 0.0910709594559094],\n",
       " [9.0, 2.0, 0.1513179018652033],\n",
       " [9.0, 3.0, 0.12621500919466416],\n",
       " [9.0, 4.0, 0.09734668262354418],\n",
       " [9.0, 5.0, 0.07466651098981289],\n",
       " [9.0, 6.0, 0.05977991184798155],\n",
       " [9.0, 7.0, 0.07084269826906799],\n",
       " [9.0, 8.0, 0.07773139904842523],\n",
       " [9.0, 9.0, 0.0807087188767915],\n",
       " [9.0, 10.0, 0.005166525584517937],\n",
       " [9.0, 11.0, 0.005545987915584226],\n",
       " [9.0, 12.0, 0.0024810998569718907],\n",
       " [10.0, 0.0, 0.177776565568405],\n",
       " [10.0, 1.0, 0.10046185177103789],\n",
       " [10.0, 2.0, 0.17244890537493635],\n",
       " [10.0, 3.0, 0.12775474579969454],\n",
       " [10.0, 4.0, 0.09418866826678304],\n",
       " [10.0, 5.0, 0.07196887046330643],\n",
       " [10.0, 6.0, 0.056531384100661865],\n",
       " [10.0, 7.0, 0.062077241981235],\n",
       " [10.0, 8.0, 0.06556840497490726],\n",
       " [10.0, 9.0, 0.05998618081315005],\n",
       " [10.0, 10.0, 0.003963924649065386],\n",
       " [10.0, 11.0, 0.005254927631100444],\n",
       " [10.0, 12.0, 0.0020183286057167795],\n",
       " [11.0, 0.0, 0.16804393167357498],\n",
       " [11.0, 1.0, 0.09076748422525543],\n",
       " [11.0, 2.0, 0.1575098344641867],\n",
       " [11.0, 3.0, 0.12302980700689073],\n",
       " [11.0, 4.0, 0.08617366739710114],\n",
       " [11.0, 5.0, 0.07080814214430921],\n",
       " [11.0, 6.0, 0.059719618766005754],\n",
       " [11.0, 7.0, 0.06552789291654566],\n",
       " [11.0, 8.0, 0.0733162605274969],\n",
       " [11.0, 9.0, 0.08369195026005227],\n",
       " [11.0, 10.0, 0.007550756395701877],\n",
       " [11.0, 11.0, 0.010402090978694194],\n",
       " [11.0, 12.0, 0.0034585632441851257],\n",
       " [12.0, 0.0, 0.17296925195043597],\n",
       " [12.0, 1.0, 0.08884809545663148],\n",
       " [12.0, 2.0, 0.147911886186324],\n",
       " [12.0, 3.0, 0.1393299678751721],\n",
       " [12.0, 4.0, 0.10536943552088114],\n",
       " [12.0, 5.0, 0.07893529141808169],\n",
       " [12.0, 6.0, 0.059430931620009175],\n",
       " [12.0, 7.0, 0.06603946764570905],\n",
       " [12.0, 8.0, 0.0687471317117944],\n",
       " [12.0, 9.0, 0.06360715924736117],\n",
       " [12.0, 10.0, 0.003396053235429096],\n",
       " [12.0, 11.0, 0.004038549793483249],\n",
       " [12.0, 12.0, 0.0013767783386874712],\n",
       " [13.0, 0.0, 0.17196245586842332],\n",
       " [13.0, 1.0, 0.08338356439622262],\n",
       " [13.0, 2.0, 0.1477367318235311],\n",
       " [13.0, 3.0, 0.12672579580355348],\n",
       " [13.0, 4.0, 0.10407876230661041],\n",
       " [13.0, 5.0, 0.072217916702546],\n",
       " [13.0, 6.0, 0.05456528603002382],\n",
       " [13.0, 7.0, 0.06667814805246994],\n",
       " [13.0, 8.0, 0.07526048394041161],\n",
       " [13.0, 9.0, 0.08438818565400844],\n",
       " [13.0, 10.0, 0.004649961250322914],\n",
       " [13.0, 11.0, 0.006343465656304716],\n",
       " [13.0, 12.0, 0.0020092425155716293],\n",
       " [14.0, 0.0, 0.15869919852471806],\n",
       " [14.0, 1.0, 0.0844740761756153],\n",
       " [14.0, 2.0, 0.14082559046740903],\n",
       " [14.0, 3.0, 0.1231647634584013],\n",
       " [14.0, 4.0, 0.09550322717923257],\n",
       " [14.0, 5.0, 0.0729838995673452],\n",
       " [14.0, 6.0, 0.05826654372650543],\n",
       " [14.0, 7.0, 0.06706149372295908],\n",
       " [14.0, 8.0, 0.07188453081778849],\n",
       " [14.0, 9.0, 0.09638981488048798],\n",
       " [14.0, 10.0, 0.010213490318462302],\n",
       " [14.0, 11.0, 0.013086034470529825],\n",
       " [14.0, 12.0, 0.007447336690545429],\n",
       " [15.0, 0.0, 0.148520268589903],\n",
       " [15.0, 1.0, 0.09082317831385228],\n",
       " [15.0, 2.0, 0.15021139020144242],\n",
       " [15.0, 3.0, 0.13519025118129818],\n",
       " [15.0, 4.0, 0.10589405620492415],\n",
       " [15.0, 5.0, 0.08107435961203681],\n",
       " [15.0, 6.0, 0.059139517532952005],\n",
       " [15.0, 7.0, 0.0679432976871425],\n",
       " [15.0, 8.0, 0.07281770703805024],\n",
       " [15.0, 9.0, 0.07485700074608306],\n",
       " [15.0, 10.0, 0.006565530962447152],\n",
       " [15.0, 11.0, 0.005471275802039294],\n",
       " [15.0, 12.0, 0.0014921661278288984],\n",
       " [16.0, 0.0, 0.19542372003934358],\n",
       " [16.0, 1.0, 0.09520111818605373],\n",
       " [16.0, 2.0, 0.15809908370865042],\n",
       " [16.0, 3.0, 0.12584769891805145],\n",
       " [16.0, 4.0, 0.09587410053320909],\n",
       " [16.0, 5.0, 0.07573639799140654],\n",
       " [16.0, 6.0, 0.060361339752549564],\n",
       " [16.0, 7.0, 0.05860123207537402],\n",
       " [16.0, 8.0, 0.06336387637831961],\n",
       " [16.0, 9.0, 0.060361339752549564],\n",
       " [16.0, 10.0, 0.004400269192938862],\n",
       " [16.0, 11.0, 0.0047108764300874875],\n",
       " [16.0, 12.0, 0.0020189470414660664],\n",
       " [17.0, 0.0, 0.14763091891400384],\n",
       " [17.0, 1.0, 0.07913859863151754],\n",
       " [17.0, 2.0, 0.12068560517083299],\n",
       " [17.0, 3.0, 0.0995067098074577],\n",
       " [17.0, 4.0, 0.08366231975206674],\n",
       " [17.0, 5.0, 0.06640095172424244],\n",
       " [17.0, 6.0, 0.054769608474589115],\n",
       " [17.0, 7.0, 0.06787097165286313],\n",
       " [17.0, 8.0, 0.0881329989164286],\n",
       " [17.0, 9.0, 0.14972986489456017],\n",
       " [17.0, 10.0, 0.018140349016071713],\n",
       " [17.0, 11.0, 0.018276742617696313],\n",
       " [17.0, 12.0, 0.0060543604276697156],\n",
       " [18.0, 0.0, 0.15854069459979314],\n",
       " [18.0, 1.0, 0.09274278467032016],\n",
       " [18.0, 2.0, 0.14998806609976742],\n",
       " [18.0, 3.0, 0.11733129911033943],\n",
       " [18.0, 4.0, 0.09442055064419662],\n",
       " [18.0, 5.0, 0.07008943405233133],\n",
       " [18.0, 6.0, 0.05374935065542852],\n",
       " [18.0, 7.0, 0.06344622958952063],\n",
       " [18.0, 8.0, 0.07542926941130772],\n",
       " [18.0, 9.0, 0.09792818132040416],\n",
       " [18.0, 10.0, 0.00919378313997295],\n",
       " [18.0, 11.0, 0.011917520369529712],\n",
       " [18.0, 12.0, 0.005222836337088222],\n",
       " [19.0, 0.0, 0.1852375899068506],\n",
       " [19.0, 1.0, 0.08701804032543332],\n",
       " [19.0, 2.0, 0.14296663129347953],\n",
       " [19.0, 3.0, 0.13158825610187477],\n",
       " [19.0, 4.0, 0.10387925952128287],\n",
       " [19.0, 5.0, 0.07233816766890697],\n",
       " [19.0, 6.0, 0.05830680344299021],\n",
       " [19.0, 7.0, 0.06544039617969578],\n",
       " [19.0, 8.0, 0.06750383209527179],\n",
       " [19.0, 9.0, 0.07003891050583658],\n",
       " [19.0, 10.0, 0.005011201509255984],\n",
       " [19.0, 11.0, 0.007723145855441575],\n",
       " [19.0, 12.0, 0.0029477655936799908],\n",
       " [20.0, 0.0, 0.19248458241873107],\n",
       " [20.0, 1.0, 0.08968328629664471],\n",
       " [20.0, 2.0, 0.1598202153235079],\n",
       " [20.0, 3.0, 0.12558795860771402],\n",
       " [20.0, 4.0, 0.09950872791888785],\n",
       " [20.0, 5.0, 0.07191387059684332],\n",
       " [20.0, 6.0, 0.05728023413818334],\n",
       " [20.0, 7.0, 0.06569457510191283],\n",
       " [20.0, 8.0, 0.06606041601337932],\n",
       " [20.0, 9.0, 0.06313368872164733],\n",
       " [20.0, 10.0, 0.0032403052158461376],\n",
       " [20.0, 11.0, 0.0038151980767220654],\n",
       " [20.0, 12.0, 0.00177694156998014],\n",
       " [21.0, 0.0, 0.1631416097995168],\n",
       " [21.0, 1.0, 0.09214597550120798],\n",
       " [21.0, 2.0, 0.15207900648497436],\n",
       " [21.0, 3.0, 0.14021107955749587],\n",
       " [21.0, 4.0, 0.11151612766498538],\n",
       " [21.0, 5.0, 0.07913364133429407],\n",
       " [21.0, 6.0, 0.05514347475946255],\n",
       " [21.0, 7.0, 0.06362056542194719],\n",
       " [21.0, 8.0, 0.06870681981943796],\n",
       " [21.0, 9.0, 0.06497689992794473],\n",
       " [21.0, 10.0, 0.0034332217183062775],\n",
       " [21.0, 11.0, 0.004196159877929894],\n",
       " [21.0, 12.0, 0.001695418132496927],\n",
       " [22.0, 0.0, 0.16453697583902474],\n",
       " [22.0, 1.0, 0.08683997943746787],\n",
       " [22.0, 2.0, 0.14474553866490417],\n",
       " [22.0, 3.0, 0.12293456708526107],\n",
       " [22.0, 4.0, 0.09701108907982668],\n",
       " [22.0, 5.0, 0.07956965557758684],\n",
       " [22.0, 6.0, 0.061504002350003674],\n",
       " [22.0, 7.0, 0.0709774546522729],\n",
       " [22.0, 8.0, 0.08100168906513916],\n",
       " [22.0, 9.0, 0.07945949915546743],\n",
       " [22.0, 10.0, 0.004296100462656973],\n",
       " [22.0, 11.0, 0.004920320188000294],\n",
       " [22.0, 12.0, 0.002203128442388191],\n",
       " [23.0, 0.0, 0.1752118339796065],\n",
       " [23.0, 1.0, 0.09014313753650247],\n",
       " [23.0, 2.0, 0.1515630236009383],\n",
       " [23.0, 3.0, 0.11647278471923021],\n",
       " [23.0, 4.0, 0.0883239982766049],\n",
       " [23.0, 5.0, 0.07276557039590215],\n",
       " [23.0, 6.0, 0.058547560917229166],\n",
       " [23.0, 7.0, 0.06850495476087894],\n",
       " [23.0, 8.0, 0.07391450045478482],\n",
       " [23.0, 9.0, 0.08885059122025947],\n",
       " [23.0, 10.0, 0.00612762698070755],\n",
       " [23.0, 11.0, 0.006893580353295993],\n",
       " [23.0, 12.0, 0.0026808368040595527],\n",
       " [24.0, 0.0, 0.21231828615149195],\n",
       " [24.0, 1.0, 0.09755164498852334],\n",
       " [24.0, 2.0, 0.15761285386381024],\n",
       " [24.0, 3.0, 0.12241775057383321],\n",
       " [24.0, 4.0, 0.09334353481254781],\n",
       " [24.0, 5.0, 0.06885998469778118],\n",
       " [24.0, 6.0, 0.0531752104055088],\n",
       " [24.0, 7.0, 0.06426931905126243],\n",
       " [24.0, 8.0, 0.058530986993114],\n",
       " [24.0, 9.0, 0.05814843152257077],\n",
       " [24.0, 10.0, 0.0],\n",
       " [24.0, 11.0, 0.008033664881407804],\n",
       " [24.0, 12.0, 0.0],\n",
       " [25.0, 0.0, 0.1603985615822595],\n",
       " [25.0, 1.0, 0.08844021576266108],\n",
       " [25.0, 2.0, 0.15324393167515732],\n",
       " [25.0, 3.0, 0.13503895714713815],\n",
       " [25.0, 4.0, 0.10743182499250824],\n",
       " [25.0, 5.0, 0.0804989511537309],\n",
       " [25.0, 6.0, 0.060008990110878034],\n",
       " [25.0, 7.0, 0.07023524123464189],\n",
       " [25.0, 8.0, 0.07064728798321845],\n",
       " [25.0, 9.0, 0.0655528918189991],\n",
       " [25.0, 10.0, 0.003483667965238238],\n",
       " [25.0, 11.0, 0.003820797123164519],\n",
       " [25.0, 12.0, 0.001198681450404555],\n",
       " [26.0, 0.0, 0.16302627413738524],\n",
       " [26.0, 1.0, 0.09528331750553973],\n",
       " [26.0, 2.0, 0.1663379355687048],\n",
       " [26.0, 3.0, 0.13670343584873498],\n",
       " [26.0, 4.0, 0.095429420215745],\n",
       " [26.0, 5.0, 0.07154162709718265],\n",
       " [26.0, 6.0, 0.05700440743175786],\n",
       " [26.0, 7.0, 0.06379818345630311],\n",
       " [26.0, 8.0, 0.06781600798694816],\n",
       " [26.0, 9.0, 0.0697396936713176],\n",
       " [26.0, 10.0, 0.004699637178269657],\n",
       " [26.0, 11.0, 0.005965860666715368],\n",
       " [26.0, 12.0, 0.0026541992353958164],\n",
       " [27.0, 0.0, 0.16070460704607045],\n",
       " [27.0, 1.0, 0.08735320686540199],\n",
       " [27.0, 2.0, 0.14534778681120145],\n",
       " [27.0, 3.0, 0.12357723577235773],\n",
       " [27.0, 4.0, 0.0996386630532972],\n",
       " [27.0, 5.0, 0.08888888888888889],\n",
       " [27.0, 6.0, 0.06856368563685637],\n",
       " [27.0, 7.0, 0.07235772357723577],\n",
       " [27.0, 8.0, 0.07777777777777778],\n",
       " [27.0, 9.0, 0.06567299006323396],\n",
       " [27.0, 10.0, 0.003794037940379404],\n",
       " [27.0, 11.0, 0.005149051490514906],\n",
       " [27.0, 12.0, 0.0011743450767841012],\n",
       " [28.0, 0.0, 0.16016511100368153],\n",
       " [28.0, 1.0, 0.08809638912647354],\n",
       " [28.0, 2.0, 0.1361793908742702],\n",
       " [28.0, 3.0, 0.11613551002194043],\n",
       " [28.0, 4.0, 0.09694693391841136],\n",
       " [28.0, 5.0, 0.07779554497787364],\n",
       " [28.0, 6.0, 0.0596853966010933],\n",
       " [28.0, 7.0, 0.07251496783310402],\n",
       " [28.0, 8.0, 0.0831133092856346],\n",
       " [28.0, 9.0, 0.09542226023576661],\n",
       " [28.0, 10.0, 0.00572682310066565],\n",
       " [28.0, 11.0, 0.006321817708527016],\n",
       " [28.0, 12.0, 0.001896545312558105],\n",
       " [29.0, 0.0, 0.152048946112213],\n",
       " [29.0, 1.0, 0.0874037718089219],\n",
       " [29.0, 2.0, 0.14747705650990015],\n",
       " [29.0, 3.0, 0.1245167579924026],\n",
       " [29.0, 4.0, 0.09463139140081353],\n",
       " [29.0, 5.0, 0.07348640199011665],\n",
       " [29.0, 6.0, 0.060611154065956234],\n",
       " [29.0, 7.0, 0.06713282011631425],\n",
       " [29.0, 8.0, 0.07718425387434028],\n",
       " [29.0, 9.0, 0.09365650317679093],\n",
       " [29.0, 10.0, 0.007731872121558477],\n",
       " [29.0, 11.0, 0.010219517934581639],\n",
       " [29.0, 12.0, 0.003899552896090362],\n",
       " [30.0, 0.0, 0.1493000121035371],\n",
       " [30.0, 1.0, 0.08785727047947298],\n",
       " [30.0, 2.0, 0.14469202261632363],\n",
       " [30.0, 3.0, 0.12303821835933673],\n",
       " [30.0, 4.0, 0.09536434528509594],\n",
       " [30.0, 5.0, 0.07120049797409843],\n",
       " [30.0, 6.0, 0.05631314732310104],\n",
       " [30.0, 7.0, 0.06399024800723907],\n",
       " [30.0, 8.0, 0.07473934168285275],\n",
       " [30.0, 9.0, 0.10305009135288727],\n",
       " [30.0, 10.0, 0.010798084182982427],\n",
       " [30.0, 11.0, 0.014135202273159541],\n",
       " [30.0, 12.0, 0.005521518359913085],\n",
       " [31.0, 0.0, 0.16394107311798892],\n",
       " [31.0, 1.0, 0.09217461819164752],\n",
       " [31.0, 2.0, 0.15790422129116546],\n",
       " [31.0, 3.0, 0.13745100689282336],\n",
       " [31.0, 4.0, 0.1098346623417579],\n",
       " [31.0, 5.0, 0.07694733522548092],\n",
       " [31.0, 6.0, 0.058746677478938594],\n",
       " [31.0, 7.0, 0.06226066585574627],\n",
       " [31.0, 8.0, 0.06590980763166193],\n",
       " [31.0, 9.0, 0.06586475649862594],\n",
       " [31.0, 10.0, 0.003784295175023652],\n",
       " [31.0, 11.0, 0.0035590395098436724],\n",
       " [31.0, 12.0, 0.0016218407892958507],\n",
       " [32.0, 0.0, 0.1383023270610552],\n",
       " [32.0, 1.0, 0.07310407483527687],\n",
       " [32.0, 2.0, 0.11388645978062563],\n",
       " [32.0, 3.0, 0.08746269407588583],\n",
       " [32.0, 4.0, 0.07447867884130796],\n",
       " [32.0, 5.0, 0.06206285299135435],\n",
       " [32.0, 6.0, 0.05295406691909664],\n",
       " [32.0, 7.0, 0.06379997366205457],\n",
       " [32.0, 8.0, 0.08174528839310419],\n",
       " [32.0, 9.0, 0.16233940141840195],\n",
       " [32.0, 10.0, 0.02908419412545444],\n",
       " [32.0, 11.0, 0.0394018622998945],\n",
       " [32.0, 12.0, 0.021378125596487878],\n",
       " [33.0, 0.0, 0.1646210617090829],\n",
       " [33.0, 1.0, 0.0947596414174839],\n",
       " [33.0, 2.0, 0.15542586687523816],\n",
       " [33.0, 3.0, 0.12158313779756533],\n",
       " [33.0, 4.0, 0.09718629043579408],\n",
       " [33.0, 5.0, 0.07277941559874054],\n",
       " [33.0, 6.0, 0.0548703447446002],\n",
       " [33.0, 7.0, 0.06399534725146902],\n",
       " [33.0, 8.0, 0.07512584481479254],\n",
       " [33.0, 9.0, 0.086988348073722],\n",
       " [33.0, 10.0, 0.005444919078274472],\n",
       " [33.0, 11.0, 0.0053947817018631045],\n",
       " [33.0, 12.0, 0.0018250005013737641],\n",
       " [34.0, 0.0, 0.1715799376144972],\n",
       " [34.0, 1.0, 0.09345942466702975],\n",
       " [34.0, 2.0, 0.15680546615834035],\n",
       " [34.0, 3.0, 0.13192058226469278],\n",
       " [34.0, 4.0, 0.10035153735703323],\n",
       " [34.0, 5.0, 0.07013912957369907],\n",
       " [34.0, 6.0, 0.054820022775659755],\n",
       " [34.0, 7.0, 0.061751745308709215],\n",
       " [34.0, 8.0, 0.06606921820072288],\n",
       " [34.0, 9.0, 0.07700153488141803],\n",
       " [34.0, 10.0, 0.005862256770807546],\n",
       " [34.0, 11.0, 0.007199088973609942],\n",
       " [34.0, 12.0, 0.0030400554537802645],\n",
       " [35.0, 0.0, 0.15321179332563142],\n",
       " [35.0, 1.0, 0.08911211924821776],\n",
       " [35.0, 2.0, 0.1403392600524106],\n",
       " [35.0, 3.0, 0.11844045572806597],\n",
       " [35.0, 4.0, 0.09616125184329416],\n",
       " [35.0, 5.0, 0.07129908798031315],\n",
       " [35.0, 6.0, 0.05649637915973964],\n",
       " [35.0, 7.0, 0.06425465167610621],\n",
       " [35.0, 8.0, 0.07430471413677478],\n",
       " [35.0, 9.0, 0.1058403073252745],\n",
       " [35.0, 10.0, 0.01119595743281956],\n",
       " [35.0, 11.0, 0.013797702574506654],\n",
       " [35.0, 12.0, 0.005546319516845595],\n",
       " [36.0, 0.0, 0.15425605128104292],\n",
       " [36.0, 1.0, 0.08881766521816073],\n",
       " [36.0, 2.0, 0.14102286804176417],\n",
       " [36.0, 3.0, 0.11740763316750889],\n",
       " [36.0, 4.0, 0.09170812277562577],\n",
       " [36.0, 5.0, 0.07023615234874256],\n",
       " [36.0, 6.0, 0.05645240576518473],\n",
       " [36.0, 7.0, 0.06606760131348684],\n",
       " [36.0, 8.0, 0.07711819415223077],\n",
       " [36.0, 9.0, 0.10574748805474173],\n",
       " [36.0, 10.0, 0.010618007353953242],\n",
       " [36.0, 11.0, 0.01447195076390664],\n",
       " [36.0, 12.0, 0.006075859763651021],\n",
       " [37.0, 0.0, 0.13766261912358752],\n",
       " [37.0, 1.0, 0.0799113834891547],\n",
       " [37.0, 2.0, 0.14217170653004954],\n",
       " [37.0, 3.0, 0.10596054398015761],\n",
       " [37.0, 4.0, 0.0832224623590534],\n",
       " [37.0, 5.0, 0.0656075227711924],\n",
       " [37.0, 6.0, 0.05310970507317484],\n",
       " [37.0, 7.0, 0.0644215545214287],\n",
       " [37.0, 8.0, 0.08551011685098339],\n",
       " [37.0, 9.0, 0.14503127464496204],\n",
       " [37.0, 10.0, 0.017169448976274614],\n",
       " [37.0, 11.0, 0.015399526816728775],\n",
       " [37.0, 12.0, 0.004822134863252442],\n",
       " [38.0, 0.0, 0.1680581586868859],\n",
       " [38.0, 1.0, 0.08695405236553644],\n",
       " [38.0, 2.0, 0.15499517237462374],\n",
       " [38.0, 3.0, 0.1403987050604873],\n",
       " [38.0, 4.0, 0.10734367013119782],\n",
       " [38.0, 5.0, 0.07309592775600614],\n",
       " [38.0, 6.0, 0.058158686885897655],\n",
       " [38.0, 7.0, 0.06877946271369342],\n",
       " [38.0, 8.0, 0.07303913216334412],\n",
       " [38.0, 9.0, 0.0620207871869143],\n",
       " [38.0, 10.0, 0.0],\n",
       " [38.0, 11.0, 0.0032373487817345375],\n",
       " [38.0, 12.0, 0.0],\n",
       " [39.0, 0.0, 0.15956421702621384],\n",
       " [39.0, 1.0, 0.09049969518790191],\n",
       " [39.0, 2.0, 0.15417592574383984],\n",
       " [39.0, 3.0, 0.12227881457591788],\n",
       " [39.0, 4.0, 0.0972448919391949],\n",
       " [39.0, 5.0, 0.07527875558002793],\n",
       " [39.0, 6.0, 0.058681245206583944],\n",
       " [39.0, 7.0, 0.06640970679042693],\n",
       " [39.0, 8.0, 0.07781557884800692],\n",
       " [39.0, 9.0, 0.08760889658020492],\n",
       " [39.0, 10.0, 0.005132642425910995],\n",
       " [39.0, 11.0, 0.0042870346699179955],\n",
       " [39.0, 12.0, 0.001022595425851999],\n",
       " [40.0, 0.0, 0.1771967760959308],\n",
       " [40.0, 1.0, 0.08747788480440338],\n",
       " [40.0, 2.0, 0.15093375270296835],\n",
       " [40.0, 3.0, 0.1317869078042068],\n",
       " [40.0, 4.0, 0.0984863377236092],\n",
       " [40.0, 5.0, 0.07340279142913309],\n",
       " [40.0, 6.0, 0.05759779830941616],\n",
       " [40.0, 7.0, 0.06526439944957735],\n",
       " [40.0, 8.0, 0.06840967171220759],\n",
       " [40.0, 9.0, 0.070532730489483],\n",
       " [40.0, 10.0, 0.006762335364655003],\n",
       " [40.0, 11.0, 0.009553764497739335],\n",
       " [40.0, 12.0, 0.002594849616669943],\n",
       " [41.0, 0.0, 0.1436889476602824],\n",
       " [41.0, 1.0, 0.06886917203429595],\n",
       " [41.0, 2.0, 0.10105361941731007],\n",
       " [41.0, 3.0, 0.08153819903595956],\n",
       " [41.0, 4.0, 0.06974363349400674],\n",
       " [41.0, 5.0, 0.05980463251290364],\n",
       " [41.0, 6.0, 0.05481380369406646],\n",
       " [41.0, 7.0, 0.06767478565030073],\n",
       " [41.0, 8.0, 0.09141321503220577],\n",
       " [41.0, 9.0, 0.19033400162095296],\n",
       " [41.0, 10.0, 0.029966301241308706],\n",
       " [41.0, 11.0, 0.031032717655590156],\n",
       " [41.0, 12.0, 0.010066970950816875],\n",
       " [42.0, 0.0, 0.15472000652253673],\n",
       " [42.0, 1.0, 0.08140941147694691],\n",
       " [42.0, 2.0, 0.12671386446712235],\n",
       " [42.0, 3.0, 0.11444334225652593],\n",
       " [42.0, 4.0, 0.09582693535894335],\n",
       " [42.0, 5.0, 0.07780842766099115],\n",
       " [42.0, 6.0, 0.06268429563397698],\n",
       " [42.0, 7.0, 0.0698183201750214],\n",
       " [42.0, 8.0, 0.08439890747509886],\n",
       " [42.0, 9.0, 0.11177997309453602],\n",
       " [42.0, 10.0, 0.009376146539658382],\n",
       " [42.0, 11.0, 0.008520063594733052],\n",
       " [42.0, 12.0, 0.002500305743908902],\n",
       " [43.0, 0.0, 0.1364486116223844],\n",
       " [43.0, 1.0, 0.07459777830709599],\n",
       " [43.0, 2.0, 0.13852738860859085],\n",
       " [43.0, 3.0, 0.1008567737092455],\n",
       " [43.0, 4.0, 0.07591144987476812],\n",
       " [43.0, 5.0, 0.06138166489826263],\n",
       " [43.0, 6.0, 0.05030207228080812],\n",
       " [43.0, 7.0, 0.05872544986033217],\n",
       " [43.0, 8.0, 0.07544228145774236],\n",
       " [43.0, 9.0, 0.15504933486354416],\n",
       " [43.0, 10.0, 0.028077925265080156],\n",
       " [43.0, 11.0, 0.03250976231206196],\n",
       " [43.0, 12.0, 0.012169506940083584],\n",
       " [44.0, 0.0, 0.17919738319582093],\n",
       " [44.0, 1.0, 0.08939120246057707],\n",
       " [44.0, 2.0, 0.15656886198310793],\n",
       " [44.0, 3.0, 0.12559195430356881],\n",
       " [44.0, 4.0, 0.09007469608944002],\n",
       " [44.0, 5.0, 0.07269442952692477],\n",
       " [44.0, 6.0, 0.05704730752331202],\n",
       " [44.0, 7.0, 0.06917931943562955],\n",
       " [44.0, 8.0, 0.07403700629790558],\n",
       " [44.0, 9.0, 0.0754039935556315],\n",
       " [44.0, 10.0, 0.004345066640628814],\n",
       " [44.0, 11.0, 0.004955328809256456],\n",
       " [44.0, 12.0, 0.0015134501781965532],\n",
       " [45.0, 0.0, 0.14746714611406647],\n",
       " [45.0, 1.0, 0.07377991140108617],\n",
       " [45.0, 2.0, 0.11490982558247298],\n",
       " [45.0, 3.0, 0.09964597505143556],\n",
       " [45.0, 4.0, 0.08112917276788197],\n",
       " [45.0, 5.0, 0.06853441085429371],\n",
       " [45.0, 6.0, 0.05733906693110415],\n",
       " [45.0, 7.0, 0.06987822283182889],\n",
       " [45.0, 8.0, 0.0920557542955645],\n",
       " [45.0, 9.0, 0.1540657263072047],\n",
       " [45.0, 10.0, 0.01669107152786788],\n",
       " [45.0, 11.0, 0.018303645900910086],\n",
       " [45.0, 12.0, 0.0062000704342829605],\n",
       " [46.0, 0.0, 0.14788808762131975],\n",
       " [46.0, 1.0, 0.08606246272298433],\n",
       " [46.0, 2.0, 0.1458547958575069],\n",
       " [46.0, 3.0, 0.11597896220788376],\n",
       " [46.0, 4.0, 0.09544271539337418],\n",
       " [46.0, 5.0, 0.07352383017947188],\n",
       " [46.0, 6.0, 0.05823347611559941],\n",
       " [46.0, 7.0, 0.06480778615192756],\n",
       " [46.0, 8.0, 0.07809195900883804],\n",
       " [46.0, 9.0, 0.11143794393536843],\n",
       " [46.0, 10.0, 0.009664913517323646],\n",
       " [46.0, 11.0, 0.009908908528981185],\n",
       " [46.0, 12.0, 0.0031041587594209186],\n",
       " [47.0, 0.0, 0.17923250564334087],\n",
       " [47.0, 1.0, 0.08525206922498119],\n",
       " [47.0, 2.0, 0.14424379232505644],\n",
       " [47.0, 3.0, 0.12392776523702032],\n",
       " [47.0, 4.0, 0.09428141459744169],\n",
       " [47.0, 5.0, 0.0765237020316027],\n",
       " [47.0, 6.0, 0.06109857035364936],\n",
       " [47.0, 7.0, 0.06869826937547027],\n",
       " [47.0, 8.0, 0.07569601203912717],\n",
       " [47.0, 9.0, 0.08148984198645598],\n",
       " [47.0, 10.0, 0.004514672686230248],\n",
       " [47.0, 11.0, 0.004063205417607223],\n",
       " [47.0, 12.0, 0.0009781790820165537],\n",
       " [48.0, 0.0, 0.1631196949194243],\n",
       " [48.0, 1.0, 0.08820273096321811],\n",
       " [48.0, 2.0, 0.15746094230532662],\n",
       " [48.0, 3.0, 0.12510763931602903],\n",
       " [48.0, 4.0, 0.09570672899495633],\n",
       " [48.0, 5.0, 0.07663919301267068],\n",
       " [48.0, 6.0, 0.06335342600565876],\n",
       " [48.0, 7.0, 0.07368680034444582],\n",
       " [48.0, 8.0, 0.07319473489974167],\n",
       " [48.0, 9.0, 0.07208758764915733],\n",
       " [48.0, 10.0, 0.004920654447041457],\n",
       " [48.0, 11.0, 0.004428589002337311],\n",
       " [48.0, 12.0, 0.002091278139992619],\n",
       " [49.0, 0.0, 0.1766175874645414],\n",
       " [49.0, 1.0, 0.08942320680805078],\n",
       " [49.0, 2.0, 0.15534242874510334],\n",
       " [49.0, 3.0, 0.1263001485884101],\n",
       " [49.0, 4.0, 0.09948669458327705],\n",
       " [49.0, 5.0, 0.07659057138997703],\n",
       " [49.0, 6.0, 0.05808456031338646],\n",
       " [49.0, 7.0, 0.06618938268269621],\n",
       " [49.0, 8.0, 0.07024179386735108],\n",
       " [49.0, 9.0, 0.07057949479940565],\n",
       " [49.0, 10.0, 0.003917330811833041],\n",
       " [49.0, 11.0, 0.005268134540051331],\n",
       " [49.0, 12.0, 0.0019586654059165205],\n",
       " [50.0, 0.0, 0.16812927577258788],\n",
       " [50.0, 1.0, 0.09254541165369191],\n",
       " [50.0, 2.0, 0.1550837461665487],\n",
       " [50.0, 3.0, 0.11613588110403397],\n",
       " [50.0, 4.0, 0.09162538334512857],\n",
       " [50.0, 5.0, 0.0745930644019816],\n",
       " [50.0, 6.0, 0.06383581033262561],\n",
       " [50.0, 7.0, 0.06716206652512385],\n",
       " [50.0, 8.0, 0.07284736966265629],\n",
       " [50.0, 9.0, 0.07938192970040103],\n",
       " [50.0, 10.0, 0.007313045529606039],\n",
       " [50.0, 11.0, 0.008020759613116301],\n",
       " [50.0, 12.0, 0.0033262561924982306],\n",
       " [51.0, 0.0, 0.13672148930575034],\n",
       " [51.0, 1.0, 0.07628555618863955],\n",
       " [51.0, 2.0, 0.12603271826788218],\n",
       " [51.0, 3.0, 0.10145429742286115],\n",
       " [51.0, 4.0, 0.08334885606591866],\n",
       " [51.0, 5.0, 0.06725543478260869],\n",
       " [51.0, 6.0, 0.055168248159186535],\n",
       " [51.0, 7.0, 0.06370118557152875],\n",
       " [51.0, 8.0, 0.08116973834151472],\n",
       " [51.0, 9.0, 0.150734407871669],\n",
       " [51.0, 10.0, 0.02275678252103787],\n",
       " [51.0, 11.0, 0.02487289621318373],\n",
       " [51.0, 12.0, 0.010498389288218795],\n",
       " [52.0, 0.0, 0.1677145501547889],\n",
       " [52.0, 1.0, 0.08961797465930489],\n",
       " [52.0, 2.0, 0.15475696549963297],\n",
       " [52.0, 3.0, 0.13353333546101553],\n",
       " [52.0, 4.0, 0.09632017361886828],\n",
       " [52.0, 5.0, 0.0686177512526729],\n",
       " [52.0, 6.0, 0.0541920658730412],\n",
       " [52.0, 7.0, 0.06226661985765806],\n",
       " [52.0, 8.0, 0.07136246130277982],\n",
       " [52.0, 9.0, 0.08467111352248428],\n",
       " [52.0, 10.0, 0.006446877094437175],\n",
       " [52.0, 11.0, 0.00753199502122363],\n",
       " [52.0, 12.0, 0.002968116682092363],\n",
       " [53.0, 0.0, 0.15240280777537796],\n",
       " [53.0, 1.0, 0.08909287257019438],\n",
       " [53.0, 2.0, 0.14713822894168466],\n",
       " [53.0, 3.0, 0.12329013678905687],\n",
       " [53.0, 4.0, 0.09525737940964722],\n",
       " [53.0, 5.0, 0.07613390928725702],\n",
       " [53.0, 6.0, 0.05939524838012959],\n",
       " [53.0, 7.0, 0.06897948164146868],\n",
       " [53.0, 8.0, 0.08036357091432686],\n",
       " [53.0, 9.0, 0.09341252699784017],\n",
       " [53.0, 10.0, 0.007199424046076314],\n",
       " [53.0, 11.0, 0.005669546436285098],\n",
       " [53.0, 12.0, 0.0016648668106551475],\n",
       " [54.0, 0.0, 0.12964355152300713],\n",
       " [54.0, 1.0, 0.07777057679844458],\n",
       " [54.0, 2.0, 0.13462086843810758],\n",
       " [54.0, 3.0, 0.12059624108878808],\n",
       " [54.0, 4.0, 0.10592352559948152],\n",
       " [54.0, 5.0, 0.07660401814646792],\n",
       " [54.0, 6.0, 0.05892417368762152],\n",
       " [54.0, 7.0, 0.06486066104990279],\n",
       " [54.0, 8.0, 0.07779650032404407],\n",
       " [54.0, 9.0, 0.11126377187297472],\n",
       " [54.0, 10.0, 0.01560596241088788],\n",
       " [54.0, 11.0, 0.020609202851587814],\n",
       " [54.0, 12.0, 0.005780946208684381],\n",
       " [55.0, 0.0, 0.15553928806283113],\n",
       " [55.0, 1.0, 0.08835316450984528],\n",
       " [55.0, 2.0, 0.14489373053587604],\n",
       " [55.0, 3.0, 0.11556261399307667],\n",
       " [55.0, 4.0, 0.08920927577949551],\n",
       " [55.0, 5.0, 0.06971723513282133],\n",
       " [55.0, 6.0, 0.05536186210404854],\n",
       " [55.0, 7.0, 0.06814149410027669],\n",
       " [55.0, 8.0, 0.08093353350620991],\n",
       " [55.0, 9.0, 0.10748539027507227],\n",
       " [55.0, 10.0, 0.010124446319341911],\n",
       " [55.0, 11.0, 0.010769631624005856],\n",
       " [55.0, 12.0, 0.0039083340570989],\n",
       " [56.0, 0.0, 0.16683744760130415],\n",
       " [56.0, 1.0, 0.09132122341251359],\n",
       " [56.0, 2.0, 0.15398230088495576],\n",
       " [56.0, 3.0, 0.1272473218444341],\n",
       " [56.0, 4.0, 0.09259431765253842],\n",
       " [56.0, 5.0, 0.06682192206179165],\n",
       " [56.0, 6.0, 0.05409097966154324],\n",
       " [56.0, 7.0, 0.062133209129017236],\n",
       " [56.0, 8.0, 0.07284583139264089],\n",
       " [56.0, 9.0, 0.08806086011488899],\n",
       " [56.0, 10.0, 0.008756404285048905],\n",
       " [56.0, 11.0, 0.010836826579723645],\n",
       " [56.0, 12.0, 0.004471355379599441],\n",
       " [57.0, 0.0, 0.15764801417392588],\n",
       " [57.0, 1.0, 0.08829174664107485],\n",
       " [57.0, 2.0, 0.15207441311088143],\n",
       " [57.0, 3.0, 0.1324376199616123],\n",
       " [57.0, 4.0, 0.10634135538166248],\n",
       " [57.0, 5.0, 0.07629558541266794],\n",
       " [57.0, 6.0, 0.06223239332644323],\n",
       " [57.0, 7.0, 0.06662483389930607],\n",
       " [57.0, 8.0, 0.0760741178207589],\n",
       " [57.0, 9.0, 0.0719031448398051],\n",
       " [57.0, 10.0, 0.004576996899453714],\n",
       " [57.0, 11.0, 0.004023327919681087],\n",
       " [57.0, 12.0, 0.0014764506127270044],\n",
       " [58.0, 0.0, 0.14739728595870344],\n",
       " [58.0, 1.0, 0.0867649471488504],\n",
       " [58.0, 2.0, 0.14601448426184171],\n",
       " [58.0, 3.0, 0.12993648487121195],\n",
       " [58.0, 4.0, 0.10045234021609206],\n",
       " [58.0, 5.0, 0.07907750720697494],\n",
       " [58.0, 6.0, 0.06070265076054093],\n",
       " [58.0, 7.0, 0.06895258630791946],\n",
       " [58.0, 8.0, 0.08024937305177303],\n",
       " [58.0, 9.0, 0.08868680713431926],\n",
       " [58.0, 10.0, 0.005296833618487356],\n",
       " [58.0, 11.0, 0.005320270935383317],\n",
       " [58.0, 12.0, 0.0011484285279021258],\n",
       " [59.0, 0.0, 0.13396459085704218],\n",
       " [59.0, 1.0, 0.07086452919933058],\n",
       " [59.0, 2.0, 0.11594952875891834],\n",
       " [59.0, 3.0, 0.08876288205760592],\n",
       " [59.0, 4.0, 0.07516075046243284],\n",
       " [59.0, 5.0, 0.06249449484717696],\n",
       " [59.0, 6.0, 0.05215581784550339],\n",
       " [59.0, 7.0, 0.06215537743327755],\n",
       " [59.0, 8.0, 0.076065797586541],\n",
       " [59.0, 9.0, 0.13933982207346077],\n",
       " [59.0, 10.0, 0.02953624592618691],\n",
       " [59.0, 11.0, 0.05297058046331366],\n",
       " [59.0, 12.0, 0.0405795824892099],\n",
       " [60.0, 0.0, 0.15807540477144003],\n",
       " [60.0, 1.0, 0.08724755420790663],\n",
       " [60.0, 2.0, 0.14148406659419877],\n",
       " [60.0, 3.0, 0.12043023056238915],\n",
       " [60.0, 4.0, 0.10017735568396362],\n",
       " [60.0, 5.0, 0.08118313404657017],\n",
       " [60.0, 6.0, 0.06499227644602094],\n",
       " [60.0, 7.0, 0.079009096630242],\n",
       " [60.0, 8.0, 0.0842153441272384],\n",
       " [60.0, 9.0, 0.07288746495794954],\n",
       " [60.0, 10.0, 0.003718748212140283],\n",
       " [60.0, 11.0, 0.004920189942216374],\n",
       " [60.0, 12.0, 0.0016591338177241262],\n",
       " [61.0, 0.0, 0.17448087945128254],\n",
       " [61.0, 1.0, 0.09160950859720003],\n",
       " [61.0, 2.0, 0.15672272855397915],\n",
       " [61.0, 3.0, 0.13943437000845627],\n",
       " [61.0, 4.0, 0.09997181245889317],\n",
       " [61.0, 5.0, 0.0761063609884431],\n",
       " [61.0, 6.0, 0.058630085502208024],\n",
       " [61.0, 7.0, 0.0648313445457108],\n",
       " [61.0, 8.0, 0.06332800902001315],\n",
       " [61.0, 9.0, 0.062012590435027715],\n",
       " [61.0, 10.0, 0.003758338814244104],\n",
       " [61.0, 11.0, 0.006952926806351592],\n",
       " [61.0, 12.0, 0.00216104481819036]]"
      ]
     },
     "execution_count": 59,
     "metadata": {},
     "output_type": "execute_result"
    }
   ],
   "source": [
    "output[['county_code', 'income_code', 'income_class_proportion']].fillna(0).values.tolist()"
   ]
  },
  {
   "cell_type": "markdown",
   "metadata": {},
   "source": [
    "##### Output Income data to echarts treemap format"
   ]
  },
  {
   "cell_type": "code",
   "execution_count": 60,
   "metadata": {},
   "outputs": [],
   "source": [
    "import squarify"
   ]
  },
  {
   "cell_type": "code",
   "execution_count": 61,
   "metadata": {},
   "outputs": [
    {
     "data": {
      "text/html": [
       "<div>\n",
       "<style scoped>\n",
       "    .dataframe tbody tr th:only-of-type {\n",
       "        vertical-align: middle;\n",
       "    }\n",
       "\n",
       "    .dataframe tbody tr th {\n",
       "        vertical-align: top;\n",
       "    }\n",
       "\n",
       "    .dataframe thead th {\n",
       "        text-align: right;\n",
       "    }\n",
       "</style>\n",
       "<table border=\"1\" class=\"dataframe\">\n",
       "  <thead>\n",
       "    <tr style=\"text-align: right;\">\n",
       "      <th></th>\n",
       "      <th>deductions_of_all_returns_in_thousands</th>\n",
       "      <th>dependent_exemptions_of_all_returns_in_thousands</th>\n",
       "      <th>disclosure</th>\n",
       "      <th>income_class</th>\n",
       "      <th>income_class_sort_order</th>\n",
       "      <th>number_of_all_returns</th>\n",
       "      <th>ny_agi_of_all_returns_in_thousands</th>\n",
       "      <th>place_of_residence</th>\n",
       "      <th>place_of_residence_sort_order</th>\n",
       "      <th>tax_before_credits_of_all_returns_in_thousands</th>\n",
       "      <th>tax_liability_of_all_returns_in_thousands</th>\n",
       "      <th>tax_year</th>\n",
       "      <th>taxable_income_of_all_returns_in_thousands</th>\n",
       "      <th>county_name</th>\n",
       "    </tr>\n",
       "  </thead>\n",
       "  <tbody>\n",
       "    <tr>\n",
       "      <th>0</th>\n",
       "      <td>121985.033</td>\n",
       "      <td>1.000</td>\n",
       "      <td>NaN</td>\n",
       "      <td>Under 5,000</td>\n",
       "      <td>1</td>\n",
       "      <td>115872.0</td>\n",
       "      <td>28535.362</td>\n",
       "      <td>New York City - Bronx</td>\n",
       "      <td>1</td>\n",
       "      <td>133.528</td>\n",
       "      <td>-7226.155</td>\n",
       "      <td>2014</td>\n",
       "      <td>3335.610</td>\n",
       "      <td>Bronx</td>\n",
       "    </tr>\n",
       "    <tr>\n",
       "      <th>1</th>\n",
       "      <td>453287.232</td>\n",
       "      <td>3907.523</td>\n",
       "      <td>NaN</td>\n",
       "      <td>5,000 - 9,999</td>\n",
       "      <td>2</td>\n",
       "      <td>64472.0</td>\n",
       "      <td>497520.476</td>\n",
       "      <td>New York City - Bronx</td>\n",
       "      <td>1</td>\n",
       "      <td>1613.677</td>\n",
       "      <td>-24640.639</td>\n",
       "      <td>2014</td>\n",
       "      <td>40325.721</td>\n",
       "      <td>Bronx</td>\n",
       "    </tr>\n",
       "    <tr>\n",
       "      <th>2</th>\n",
       "      <td>1222947.457</td>\n",
       "      <td>87664.662</td>\n",
       "      <td>NaN</td>\n",
       "      <td>10,000 - 19,999</td>\n",
       "      <td>3</td>\n",
       "      <td>125775.0</td>\n",
       "      <td>1848243.085</td>\n",
       "      <td>New York City - Bronx</td>\n",
       "      <td>1</td>\n",
       "      <td>21717.698</td>\n",
       "      <td>-83445.904</td>\n",
       "      <td>2014</td>\n",
       "      <td>537630.966</td>\n",
       "      <td>Bronx</td>\n",
       "    </tr>\n",
       "    <tr>\n",
       "      <th>14</th>\n",
       "      <td>210754.680</td>\n",
       "      <td>3.276</td>\n",
       "      <td>NaN</td>\n",
       "      <td>Under 5,000</td>\n",
       "      <td>1</td>\n",
       "      <td>161141.0</td>\n",
       "      <td>-897637.384</td>\n",
       "      <td>New York City - Kings</td>\n",
       "      <td>2</td>\n",
       "      <td>246.895</td>\n",
       "      <td>-12324.264</td>\n",
       "      <td>2014</td>\n",
       "      <td>6164.295</td>\n",
       "      <td>Kings</td>\n",
       "    </tr>\n",
       "    <tr>\n",
       "      <th>15</th>\n",
       "      <td>755522.823</td>\n",
       "      <td>2333.442</td>\n",
       "      <td>NaN</td>\n",
       "      <td>5,000 - 9,999</td>\n",
       "      <td>2</td>\n",
       "      <td>108797.0</td>\n",
       "      <td>830105.363</td>\n",
       "      <td>New York City - Kings</td>\n",
       "      <td>2</td>\n",
       "      <td>2892.406</td>\n",
       "      <td>-29103.060</td>\n",
       "      <td>2014</td>\n",
       "      <td>72249.098</td>\n",
       "      <td>Kings</td>\n",
       "    </tr>\n",
       "  </tbody>\n",
       "</table>\n",
       "</div>"
      ],
      "text/plain": [
       "    deductions_of_all_returns_in_thousands  \\\n",
       "0                               121985.033   \n",
       "1                               453287.232   \n",
       "2                              1222947.457   \n",
       "14                              210754.680   \n",
       "15                              755522.823   \n",
       "\n",
       "    dependent_exemptions_of_all_returns_in_thousands disclosure  \\\n",
       "0                                              1.000        NaN   \n",
       "1                                           3907.523        NaN   \n",
       "2                                          87664.662        NaN   \n",
       "14                                             3.276        NaN   \n",
       "15                                          2333.442        NaN   \n",
       "\n",
       "       income_class  income_class_sort_order  number_of_all_returns  \\\n",
       "0       Under 5,000                        1               115872.0   \n",
       "1     5,000 - 9,999                        2                64472.0   \n",
       "2   10,000 - 19,999                        3               125775.0   \n",
       "14      Under 5,000                        1               161141.0   \n",
       "15    5,000 - 9,999                        2               108797.0   \n",
       "\n",
       "    ny_agi_of_all_returns_in_thousands     place_of_residence  \\\n",
       "0                            28535.362  New York City - Bronx   \n",
       "1                           497520.476  New York City - Bronx   \n",
       "2                          1848243.085  New York City - Bronx   \n",
       "14                         -897637.384  New York City - Kings   \n",
       "15                          830105.363  New York City - Kings   \n",
       "\n",
       "    place_of_residence_sort_order  \\\n",
       "0                               1   \n",
       "1                               1   \n",
       "2                               1   \n",
       "14                              2   \n",
       "15                              2   \n",
       "\n",
       "    tax_before_credits_of_all_returns_in_thousands  \\\n",
       "0                                          133.528   \n",
       "1                                         1613.677   \n",
       "2                                        21717.698   \n",
       "14                                         246.895   \n",
       "15                                        2892.406   \n",
       "\n",
       "    tax_liability_of_all_returns_in_thousands  tax_year  \\\n",
       "0                                   -7226.155      2014   \n",
       "1                                  -24640.639      2014   \n",
       "2                                  -83445.904      2014   \n",
       "14                                 -12324.264      2014   \n",
       "15                                 -29103.060      2014   \n",
       "\n",
       "    taxable_income_of_all_returns_in_thousands county_name  \n",
       "0                                     3335.610       Bronx  \n",
       "1                                    40325.721       Bronx  \n",
       "2                                   537630.966       Bronx  \n",
       "14                                    6164.295       Kings  \n",
       "15                                   72249.098       Kings  "
      ]
     },
     "execution_count": 61,
     "metadata": {},
     "output_type": "execute_result"
    }
   ],
   "source": [
    "medicaid = income2014[income2014.income_class_sort_order <= 3]\n",
    "medicaid.head()"
   ]
  },
  {
   "cell_type": "code",
   "execution_count": 62,
   "metadata": {},
   "outputs": [],
   "source": [
    "NYS = medicaid.groupby('county_name').number_of_all_returns.sum().reset_index()\n",
    "NYS = NYS[NYS.county_name.isin(county)]"
   ]
  },
  {
   "cell_type": "code",
   "execution_count": 63,
   "metadata": {},
   "outputs": [
    {
     "data": {
      "image/png": "[encoded data removed]",
      "text/plain": [
       "<matplotlib.figure.Figure at 0x12225ae10>"
      ]
     },
     "metadata": {},
     "output_type": "display_data"
    }
   ],
   "source": [
    "plt.figure(figsize=(20,10))\n",
    "squarify.plot(sizes=NYS.number_of_all_returns, label=NYS.county_name, alpha=.8 )\n",
    "plt.axis('off')\n",
    "plt.show()"
   ]
  },
  {
   "cell_type": "markdown",
   "metadata": {},
   "source": [
    "#### Joined PPV dataset and Income dataset"
   ]
  },
  {
   "cell_type": "code",
   "execution_count": 86,
   "metadata": {},
   "outputs": [],
   "source": [
    "joined_data_income_class=joinedppv.merge(income2014total, right_on='clean_county', left_on='patient_county_name', how='outer')"
   ]
  },
  {
   "cell_type": "code",
   "execution_count": 99,
   "metadata": {},
   "outputs": [],
   "source": [
    "joined_data_income_class = joined_data_income_class[~pd.isnull(joined_data_income_class.patient_county_name)]"
   ]
  },
  {
   "cell_type": "markdown",
   "metadata": {},
   "source": [
    "##### Output data to echarts scatter plot format"
   ]
  },
  {
   "cell_type": "code",
   "execution_count": 100,
   "metadata": {},
   "outputs": [
    {
     "data": {
      "text/plain": [
       "array([[ 58.09676626,  48.78      ],\n",
       "       [ 41.5219476 ,  36.88      ],\n",
       "       [ 31.43718504,  37.        ],\n",
       "       [ 45.15411208,  29.77      ],\n",
       "       [ 38.98639468,  37.26      ],\n",
       "       [ 44.78457947,  39.64      ],\n",
       "       [ 39.55705751,  44.97      ],\n",
       "       [ 45.58743343,  57.1       ],\n",
       "       [ 37.97313515,  50.79      ],\n",
       "       [ 42.28126023,  44.23      ],\n",
       "       [ 57.57493755,  39.82      ],\n",
       "       [ 41.82408326,  30.07      ],\n",
       "       [ 38.07209308,  47.78      ],\n",
       "       [ 64.32467083,  33.15      ],\n",
       "       [ 51.69017216,  28.77      ],\n",
       "       [ 42.31738256,  49.82      ],\n",
       "       [ 38.51786297,  36.71      ],\n",
       "       [ 39.63324253,  49.14      ],\n",
       "       [ 42.46400767,  43.41      ],\n",
       "       [ 45.65415199,  29.        ],\n",
       "       [ 36.98552678,  15.94      ],\n",
       "       [ 39.66530712,  31.51      ],\n",
       "       [ 40.73977347,  52.23      ],\n",
       "       [ 49.96940565,  24.44      ],\n",
       "       [ 40.29452023,  39.83      ],\n",
       "       [ 45.21195426,  32.22      ],\n",
       "       [ 48.69633516,  45.48      ],\n",
       "       [ 53.67383823,  30.42      ],\n",
       "       [ 38.71285444,  48.25      ],\n",
       "       [ 98.8343549 ,  24.1       ],\n",
       "       [200.30142782,  38.6       ],\n",
       "       [ 43.06517564,  31.55      ],\n",
       "       [ 42.79588743,  38.66      ],\n",
       "       [ 54.15449526,  37.47      ],\n",
       "       [ 55.29357198,  33.66      ],\n",
       "       [ 60.03808314,  24.63      ],\n",
       "       [ 37.69511774,  26.04      ],\n",
       "       [ 42.29662093,  32.59      ],\n",
       "       [ 43.66891311,  30.93      ],\n",
       "       [ 81.51716606,  27.58      ],\n",
       "       [ 43.78741776,  24.26      ],\n",
       "       [ 50.24433974,  56.05      ],\n",
       "       [ 58.89378009,  27.17      ],\n",
       "       [ 76.48584154,  16.75      ],\n",
       "       [ 64.21043089,  26.91      ],\n",
       "       [ 50.59423939,  48.76      ],\n",
       "       [ 41.43821249,  34.47      ],\n",
       "       [ 40.75064867,  48.16      ],\n",
       "       [ 40.40096279,  16.15      ],\n",
       "       [ 45.79210288,  43.82      ],\n",
       "       [ 40.36822846,  57.45      ],\n",
       "       [ 76.44339717,  30.25      ],\n",
       "       [ 43.57015297,  34.65      ],\n",
       "       [ 44.95506556,  22.2       ],\n",
       "       [ 58.24705532,  22.38      ],\n",
       "       [ 51.47884709,  39.87      ],\n",
       "       [ 47.99491818,  30.9       ],\n",
       "       [ 40.44427514,  26.76      ],\n",
       "       [ 43.51584674,  24.56      ],\n",
       "       [145.535268  ,  32.62      ],\n",
       "       [ 42.53966257,  24.85      ],\n",
       "       [ 39.56789759,  24.46      ]])"
      ]
     },
     "execution_count": 100,
     "metadata": {},
     "output_type": "execute_result"
    }
   ],
   "source": [
    "joined_data_income_class[['ny_agi_of_all_returns_in_thousands_per_returns','observed_rate_per_100_medicaid']].values"
   ]
  },
  {
   "cell_type": "code",
   "execution_count": 101,
   "metadata": {},
   "outputs": [
    {
     "data": {
      "text/plain": [
       "array([[ 58.09676626,  22.01      ],\n",
       "       [ 41.5219476 ,  29.66      ],\n",
       "       [ 31.43718504,  41.09      ],\n",
       "       [ 45.15411208,  24.09      ],\n",
       "       [ 38.98639468,   7.77      ],\n",
       "       [ 44.78457947,  22.52      ],\n",
       "       [ 39.55705751,  19.82      ],\n",
       "       [ 45.58743343,  37.43      ],\n",
       "       [ 37.97313515,  39.85      ],\n",
       "       [ 42.28126023,  32.67      ],\n",
       "       [ 57.57493755,  23.39      ],\n",
       "       [ 41.82408326,  33.49      ],\n",
       "       [ 38.07209308,  31.82      ],\n",
       "       [ 64.32467083,  21.55      ],\n",
       "       [ 51.69017216,  24.52      ],\n",
       "       [ 42.31738256,  30.32      ],\n",
       "       [ 38.51786297,  11.83      ],\n",
       "       [ 39.63324253,  42.26      ],\n",
       "       [ 42.46400767,  22.33      ],\n",
       "       [ 45.65415199,  18.78      ],\n",
       "       [ 36.98552678,  14.35      ],\n",
       "       [ 39.66530712,  22.84      ],\n",
       "       [ 40.73977347,  35.        ],\n",
       "       [ 49.96940565,  25.57      ],\n",
       "       [ 40.29452023,  24.43      ],\n",
       "       [ 45.21195426,  16.29      ],\n",
       "       [ 48.69633516,  23.87      ],\n",
       "       [ 53.67383823,  23.56      ],\n",
       "       [ 38.71285444,  47.56      ],\n",
       "       [ 98.8343549 ,  16.69      ],\n",
       "       [200.30142782,  25.41      ],\n",
       "       [ 43.06517564,  25.77      ],\n",
       "       [ 42.79588743,  27.45      ],\n",
       "       [ 54.15449526,  20.22      ],\n",
       "       [ 55.29357198,  22.45      ],\n",
       "       [ 60.03808314,  23.09      ],\n",
       "       [ 37.69511774,  22.        ],\n",
       "       [ 42.29662093,  18.83      ],\n",
       "       [ 43.66891311,  23.04      ],\n",
       "       [ 81.51716606,  17.38      ],\n",
       "       [ 43.78741776,  24.03      ],\n",
       "       [ 50.24433974,  18.98      ],\n",
       "       [ 58.89378009,  22.53      ],\n",
       "       [ 76.48584154,  16.98      ],\n",
       "       [ 64.21043089,  13.        ],\n",
       "       [ 50.59423939,  32.28      ],\n",
       "       [ 41.43821249,  25.22      ],\n",
       "       [ 40.75064867,  32.01      ],\n",
       "       [ 40.40096279,  22.48      ],\n",
       "       [ 45.79210288,  29.4       ],\n",
       "       [ 40.36822846,  37.3       ],\n",
       "       [ 76.44339717,  20.79      ],\n",
       "       [ 43.57015297,  31.05      ],\n",
       "       [ 44.95506556,  10.04      ],\n",
       "       [ 58.24705532,  16.96      ],\n",
       "       [ 51.47884709,  26.94      ],\n",
       "       [ 47.99491818,  20.08      ],\n",
       "       [ 40.44427514,  18.92      ],\n",
       "       [ 43.51584674,  23.83      ],\n",
       "       [145.535268  ,  16.35      ],\n",
       "       [ 42.53966257,  18.99      ],\n",
       "       [ 39.56789759,  25.75      ]])"
      ]
     },
     "execution_count": 101,
     "metadata": {},
     "output_type": "execute_result"
    }
   ],
   "source": [
    "joined_data_income_class[['ny_agi_of_all_returns_in_thousands_per_returns','observed_rate_per_100_all_payer']].values"
   ]
  },
  {
   "cell_type": "markdown",
   "metadata": {},
   "source": [
    "##### Output data to d3 pie plot format"
   ]
  },
  {
   "cell_type": "code",
   "execution_count": 64,
   "metadata": {},
   "outputs": [],
   "source": [
    "income2014['income_class_order'] = np.where(income2014.income_class_sort_order <= 2, 'LIS',\n",
    "                                            np.where(income2014.income_class_sort_order == 3, 'LIF', 'non-medicaid'))\n",
    "income2014pro = income2014.groupby(['county_name', 'income_class_order']).number_of_all_returns.sum().reset_index()"
   ]
  },
  {
   "cell_type": "code",
   "execution_count": 65,
   "metadata": {},
   "outputs": [],
   "source": [
    "income2014pro = income2014pro.pivot(index='county_name', columns='income_class_order', values='number_of_all_returns') \\\n",
    "                             .reset_index()"
   ]
  },
  {
   "cell_type": "code",
   "execution_count": 66,
   "metadata": {},
   "outputs": [
    {
     "name": "stdout",
     "output_type": "stream",
     "text": [
      "[{\"county_name\":\"Albany\",\"proportion\":{\"LIS\":33799.0,\"LIF\":18726.0,\"non-medicaid\":237775.0}},{\"county_name\":\"Allegany\",\"proportion\":{\"LIS\":5035.0,\"LIF\":2959.0,\"non-medicaid\":28380.0}},{\"county_name\":\"Bronx\",\"proportion\":{\"LIS\":180344.0,\"LIF\":125775.0,\"non-medicaid\":927161.0}},{\"county_name\":\"Broome\",\"proportion\":{\"LIS\":23834.0,\"LIF\":14315.0,\"non-medicaid\":142443.0}},{\"county_name\":\"Cattaraugus\",\"proportion\":{\"LIS\":8929.0,\"LIF\":5490.0,\"non-medicaid\":51127.0}},{\"county_name\":\"Cayuga\",\"proportion\":{\"LIS\":8503.0,\"LIF\":5184.0,\"non-medicaid\":54831.0}},{\"county_name\":\"Chautauqua\",\"proportion\":{\"LIS\":15302.0,\"LIF\":9484.0,\"non-medicaid\":85206.0}},{\"county_name\":\"Chemung\",\"proportion\":{\"LIS\":9803.0,\"LIF\":5966.0,\"non-medicaid\":59985.0}},{\"county_name\":\"Chenango\",\"proportion\":{\"LIS\":5705.0,\"LIF\":3223.0,\"non-medicaid\":34652.0}},{\"county_name\":\"Clinton\",\"proportion\":{\"LIS\":8896.0,\"LIF\":5147.0,\"non-medicaid\":55635.0}},{\"county_name\":\"Columbia\",\"proportion\":{\"LIS\":6857.0,\"LIF\":3971.0,\"non-medicaid\":45568.0}},{\"county_name\":\"Cortland\",\"proportion\":{\"LIS\":4812.0,\"LIF\":3020.0,\"non-medicaid\":32378.0}},{\"county_name\":\"Delaware\",\"proportion\":{\"LIS\":5614.0,\"LIF\":3054.0,\"non-medicaid\":29966.0}},{\"county_name\":\"Dutchess\",\"proportion\":{\"LIS\":29927.0,\"LIF\":15927.0,\"non-medicaid\":218088.0}},{\"county_name\":\"Erie\",\"proportion\":{\"LIS\":107387.0,\"LIF\":64098.0,\"non-medicaid\":683223.0}},{\"county_name\":\"Essex\",\"proportion\":{\"LIS\":4618.0,\"LIF\":2425.0,\"non-medicaid\":26881.0}},{\"county_name\":\"Franklin\",\"proportion\":{\"LIS\":5399.0,\"LIF\":3058.0,\"non-medicaid\":29811.0}},{\"county_name\":\"Fulton\",\"proportion\":{\"LIS\":6023.0,\"LIF\":3588.0,\"non-medicaid\":37575.0}},{\"county_name\":\"Genesee\",\"proportion\":{\"LIS\":6846.0,\"LIF\":3942.0,\"non-medicaid\":43680.0}},{\"county_name\":\"Grand Total, Full-Year Resident\",\"proportion\":{\"LIS\":2135228.0,\"LIF\":1342659.0,\"non-medicaid\":14686485.0}},{\"county_name\":\"Greene\",\"proportion\":{\"LIS\":5543.0,\"LIF\":3166.0,\"non-medicaid\":33069.0}},{\"county_name\":\"Hamilton\",\"proportion\":{\"LIS\":810.0,\"LIF\":412.0,\"non-medicaid\":3991.0}},{\"county_name\":\"Herkimer\",\"proportion\":{\"LIS\":6643.0,\"LIF\":4091.0,\"non-medicaid\":42658.0}},{\"county_name\":\"Jefferson\",\"proportion\":{\"LIS\":10608.0,\"LIF\":6831.0,\"non-medicaid\":64695.0}},{\"county_name\":\"Kings\",\"proportion\":{\"LIS\":269938.0,\"LIF\":206505.0,\"non-medicaid\":1800055.0}},{\"county_name\":\"Lewis\",\"proportion\":{\"LIS\":2746.0,\"LIF\":1609.0,\"non-medicaid\":17785.0}},{\"county_name\":\"Livingston\",\"proportion\":{\"LIS\":6676.0,\"LIF\":3662.0,\"non-medicaid\":43444.0}},{\"county_name\":\"Madison\",\"proportion\":{\"LIS\":7123.0,\"LIF\":4387.0,\"non-medicaid\":47984.0}},{\"county_name\":\"Monroe\",\"proportion\":{\"LIS\":82295.0,\"LIF\":50209.0,\"non-medicaid\":561508.0}},{\"county_name\":\"Montgomery\",\"proportion\":{\"LIS\":5685.0,\"LIF\":3505.0,\"non-medicaid\":35204.0}},{\"county_name\":\"NYS Unclassified +\",\"proportion\":{\"LIS\":12.0,\"LIF\":0.0,\"non-medicaid\":52.0}},{\"county_name\":\"Nassau\",\"proportion\":{\"LIS\":142875.0,\"LIF\":76968.0,\"non-medicaid\":1131819.0}},{\"county_name\":\"New York\",\"proportion\":{\"LIS\":174281.0,\"LIF\":102673.0,\"non-medicaid\":1494704.0}},{\"county_name\":\"Niagara\",\"proportion\":{\"LIS\":25867.0,\"LIF\":15500.0,\"non-medicaid\":158085.0}},{\"county_name\":\"Oneida\",\"proportion\":{\"LIS\":26765.0,\"LIF\":15835.0,\"non-medicaid\":159370.0}},{\"county_name\":\"Onondaga\",\"proportion\":{\"LIS\":51599.0,\"LIF\":29883.0,\"non-medicaid\":344386.0}},{\"county_name\":\"Ontario\",\"proportion\":{\"LIS\":12362.0,\"LIF\":7172.0,\"non-medicaid\":82180.0}},{\"county_name\":\"Orange\",\"proportion\":{\"LIS\":36141.0,\"LIF\":23616.0,\"non-medicaid\":272461.0}},{\"county_name\":\"Orleans\",\"proportion\":{\"LIS\":4490.0,\"LIF\":2729.0,\"non-medicaid\":27926.0}},{\"county_name\":\"Oswego\",\"proportion\":{\"LIS\":12716.0,\"LIF\":7840.0,\"non-medicaid\":81146.0}},{\"county_name\":\"Otsego\",\"proportion\":{\"LIS\":6732.0,\"LIF\":3839.0,\"non-medicaid\":40299.0}},{\"county_name\":\"Putnam\",\"proportion\":{\"LIS\":9966.0,\"LIF\":4738.0,\"non-medicaid\":79068.0}},{\"county_name\":\"Queens\",\"proportion\":{\"LIS\":265088.0,\"LIF\":181623.0,\"non-medicaid\":1694407.0}},{\"county_name\":\"Rensselaer\",\"proportion\":{\"LIS\":17377.0,\"LIF\":9325.0,\"non-medicaid\":120480.0}},{\"county_name\":\"Residence Unknown ++\",\"proportion\":{\"LIS\":553.0,\"LIF\":0.0,\"non-medicaid\":4019.0}},{\"county_name\":\"Richmond\",\"proportion\":{\"LIS\":48760.0,\"LIF\":26694.0,\"non-medicaid\":339100.0}},{\"county_name\":\"Rockland\",\"proportion\":{\"LIS\":29239.0,\"LIF\":19192.0,\"non-medicaid\":228655.0}},{\"county_name\":\"Saratoga\",\"proportion\":{\"LIS\":23873.0,\"LIF\":12399.0,\"non-medicaid\":179532.0}},{\"county_name\":\"Schenectady\",\"proportion\":{\"LIS\":17259.0,\"LIF\":10760.0,\"non-medicaid\":119525.0}},{\"county_name\":\"Schoharie\",\"proportion\":{\"LIS\":3515.0,\"LIF\":1917.0,\"non-medicaid\":21148.0}},{\"county_name\":\"Schuyler\",\"proportion\":{\"LIS\":2043.0,\"LIF\":1280.0,\"non-medicaid\":12935.0}},{\"county_name\":\"Seneca\",\"proportion\":{\"LIS\":3939.0,\"LIF\":2300.0,\"non-medicaid\":23373.0}},{\"county_name\":\"St Lawrence\",\"proportion\":{\"LIS\":11003.0,\"LIF\":6414.0,\"non-medicaid\":64515.0}},{\"county_name\":\"Steuben\",\"proportion\":{\"LIS\":11050.0,\"LIF\":6574.0,\"non-medicaid\":67156.0}},{\"county_name\":\"Suffolk\",\"proportion\":{\"LIS\":155519.0,\"LIF\":92018.0,\"non-medicaid\":1212687.0}},{\"county_name\":\"Sullivan\",\"proportion\":{\"LIS\":8063.0,\"LIF\":4849.0,\"non-medicaid\":49754.0}},{\"county_name\":\"Tioga\",\"proportion\":{\"LIS\":5367.0,\"LIF\":3270.0,\"non-medicaid\":35811.0}},{\"county_name\":\"Tompkins\",\"proportion\":{\"LIS\":8001.0,\"LIF\":5193.0,\"non-medicaid\":63956.0}},{\"county_name\":\"Ulster\",\"proportion\":{\"LIS\":19657.0,\"LIF\":11678.0,\"non-medicaid\":129859.0}},{\"county_name\":\"Warren\",\"proportion\":{\"LIS\":8314.0,\"LIF\":4959.0,\"non-medicaid\":51137.0}},{\"county_name\":\"Washington\",\"proportion\":{\"LIS\":6663.0,\"LIF\":4120.0,\"non-medicaid\":43401.0}},{\"county_name\":\"Wayne\",\"proportion\":{\"LIS\":9991.0,\"LIF\":6230.0,\"non-medicaid\":69113.0}},{\"county_name\":\"Westchester\",\"proportion\":{\"LIS\":93017.0,\"LIF\":52655.0,\"non-medicaid\":762568.0}},{\"county_name\":\"Wyoming\",\"proportion\":{\"LIS\":4288.0,\"LIF\":2473.0,\"non-medicaid\":28197.0}},{\"county_name\":\"Yates\",\"proportion\":{\"LIS\":2832.0,\"LIF\":1668.0,\"non-medicaid\":16786.0}},]\n"
     ]
    }
   ],
   "source": [
    "income2014json = '['\n",
    "\n",
    "for rowidx in range(len(income2014pro)):\n",
    "    county = '\"county_name\":' \\\n",
    "            + '\"{}\"'.format(income2014pro.loc[rowidx].county_name)\n",
    "    proportion = '\"proportion\":{' \\\n",
    "            + '\"LIS\":' + str(income2014pro.loc[rowidx, \"LIS\"]) \\\n",
    "            + ',\"LIF\":' + str(income2014pro.loc[rowidx, \"LIF\"]) \\\n",
    "            + ',\"non-medicaid\":' + str(income2014pro.loc[rowidx, \"non-medicaid\"]) + '}'\n",
    "\n",
    "    income2014json += '{' + county + ',' + proportion + '},'\n",
    "income2014json += ']'\n",
    "print(income2014json)"
   ]
  },
  {
   "cell_type": "markdown",
   "metadata": {},
   "source": [
    "##### Check correlations"
   ]
  },
  {
   "cell_type": "code",
   "execution_count": 238,
   "metadata": {},
   "outputs": [
    {
     "data": {
      "image/png": "[encoded data removed]",
      "text/plain": [
       "<matplotlib.figure.Figure at 0x11b006358>"
      ]
     },
     "metadata": {},
     "output_type": "display_data"
    },
    {
     "data": {
      "image/png": "[encoded data removed]",
      "text/plain": [
       "<matplotlib.figure.Figure at 0x117ea3f98>"
      ]
     },
     "metadata": {},
     "output_type": "display_data"
    },
    {
     "data": {
      "image/png": "[encoded data removed]",
      "text/plain": [
       "<matplotlib.figure.Figure at 0x118f11a58>"
      ]
     },
     "metadata": {},
     "output_type": "display_data"
    },
    {
     "data": {
      "image/png": "[encoded data removed]",
      "text/plain": [
       "<matplotlib.figure.Figure at 0x1189fedd8>"
      ]
     },
     "metadata": {},
     "output_type": "display_data"
    },
    {
     "data": {
      "image/png": "[encoded data removed]",
      "text/plain": [
       "<matplotlib.figure.Figure at 0x118f58198>"
      ]
     },
     "metadata": {},
     "output_type": "display_data"
    },
    {
     "data": {
      "image/png": "[encoded data removed]",
      "text/plain": [
       "<matplotlib.figure.Figure at 0x118106198>"
      ]
     },
     "metadata": {},
     "output_type": "display_data"
    },
    {
     "data": {
      "image/png": "[encoded data removed]",
      "text/plain": [
       "<matplotlib.figure.Figure at 0x117a99e10>"
      ]
     },
     "metadata": {},
     "output_type": "display_data"
    },
    {
     "data": {
      "image/png": "[encoded data removed]",
      "text/plain": [
       "<matplotlib.figure.Figure at 0x105a0d0b8>"
      ]
     },
     "metadata": {},
     "output_type": "display_data"
    },
    {
     "data": {
      "image/png": "[encoded data removed]",
      "text/plain": [
       "<matplotlib.figure.Figure at 0x118f11ef0>"
      ]
     },
     "metadata": {},
     "output_type": "display_data"
    },
    {
     "data": {
      "image/png": "[encoded data removed]",
      "text/plain": [
       "<matplotlib.figure.Figure at 0x1171624a8>"
      ]
     },
     "metadata": {},
     "output_type": "display_data"
    },
    {
     "data": {
      "image/png": "[encoded data removed]",
      "text/plain": [
       "<matplotlib.figure.Figure at 0x117aad198>"
      ]
     },
     "metadata": {},
     "output_type": "display_data"
    },
    {
     "data": {
      "image/png": "[encoded data removed]",
      "text/plain": [
       "<matplotlib.figure.Figure at 0x11af7e4a8>"
      ]
     },
     "metadata": {},
     "output_type": "display_data"
    },
    {
     "data": {
      "image/png": "[encoded data removed]",
      "text/plain": [
       "<matplotlib.figure.Figure at 0x11b01e748>"
      ]
     },
     "metadata": {},
     "output_type": "display_data"
    }
   ],
   "source": [
    "# create plot\n",
    "for i in range(13):\n",
    "    data = joined_data_income_class[joined_data_income_class.income_class_sort_order == i+1]\n",
    "    fig, ax = plt.subplots(figsize=(20,8))\n",
    "    ax.scatter(data.income_class_proportion, data.observed_rate_per_100,\n",
    "    alpha=opacity,\n",
    "    color='b',\n",
    "    label='expected')\n",
    "    plt.show()"
   ]
  },
  {
   "cell_type": "code",
   "execution_count": 214,
   "metadata": {},
   "outputs": [
    {
     "data": {
      "image/png": "[encoded data removed]",
      "text/plain": [
       "<matplotlib.figure.Figure at 0x1182c2048>"
      ]
     },
     "metadata": {},
     "output_type": "display_data"
    },
    {
     "data": {
      "image/png": "[encoded data removed]",
      "text/plain": [
       "<matplotlib.figure.Figure at 0x118bf0c50>"
      ]
     },
     "metadata": {},
     "output_type": "display_data"
    },
    {
     "data": {
      "image/png": "[encoded data removed]",
      "text/plain": [
       "<matplotlib.figure.Figure at 0x1066f8240>"
      ]
     },
     "metadata": {},
     "output_type": "display_data"
    },
    {
     "data": {
      "image/png": "[encoded data removed]",
      "text/plain": [
       "<matplotlib.figure.Figure at 0x11968ba90>"
      ]
     },
     "metadata": {},
     "output_type": "display_data"
    },
    {
     "data": {
      "image/png": "[encoded data removed]",
      "text/plain": [
       "<matplotlib.figure.Figure at 0x118746d68>"
      ]
     },
     "metadata": {},
     "output_type": "display_data"
    },
    {
     "data": {
      "image/png": "[encoded data removed]",
      "text/plain": [
       "<matplotlib.figure.Figure at 0x118a2fdd8>"
      ]
     },
     "metadata": {},
     "output_type": "display_data"
    },
    {
     "data": {
      "image/png": "[encoded data removed]",
      "text/plain": [
       "<matplotlib.figure.Figure at 0x11838fb00>"
      ]
     },
     "metadata": {},
     "output_type": "display_data"
    },
    {
     "data": {
      "image/png": "[encoded data removed]",
      "text/plain": [
       "<matplotlib.figure.Figure at 0x11aa9a550>"
      ]
     },
     "metadata": {},
     "output_type": "display_data"
    },
    {
     "data": {
      "image/png": "[encoded data removed]",
      "text/plain": [
       "<matplotlib.figure.Figure at 0x11ae84da0>"
      ]
     },
     "metadata": {},
     "output_type": "display_data"
    },
    {
     "data": {
      "image/png": "[encoded data removed]",
      "text/plain": [
       "<matplotlib.figure.Figure at 0x11af05a90>"
      ]
     },
     "metadata": {},
     "output_type": "display_data"
    },
    {
     "data": {
      "image/png": "[encoded data removed]",
      "text/plain": [
       "<matplotlib.figure.Figure at 0x117b86240>"
      ]
     },
     "metadata": {},
     "output_type": "display_data"
    },
    {
     "data": {
      "image/png": "[encoded data removed]",
      "text/plain": [
       "<matplotlib.figure.Figure at 0x117b0f748>"
      ]
     },
     "metadata": {},
     "output_type": "display_data"
    },
    {
     "data": {
      "image/png": "[encoded data removed]",
      "text/plain": [
       "<matplotlib.figure.Figure at 0x11a92a5f8>"
      ]
     },
     "metadata": {},
     "output_type": "display_data"
    }
   ],
   "source": [
    "# create plot\n",
    "total = joined_data_income_class[joined_data_income_class.dual_status == 'Non-Dual']\n",
    "for i in range(13):\n",
    "    data = total[total.income_class_sort_order == i+1]\n",
    "    fig, ax = plt.subplots(figsize=(20,8))\n",
    "    ax.scatter(data.income_class_proportion, data.observed_rate_per_100,\n",
    "    alpha=opacity,\n",
    "    color='b',\n",
    "    label='expected')\n",
    "    plt.show()"
   ]
  }
 ],
 "metadata": {
  "kernelspec": {
   "display_name": "Python 3",
   "language": "python",
   "name": "python3"
  },
  "language_info": {
   "codemirror_mode": {
    "name": "ipython",
    "version": 3
   },
   "file_extension": ".py",
   "mimetype": "text/x-python",
   "name": "python",
   "nbconvert_exporter": "python",
   "pygments_lexer": "ipython3",
   "version": "3.6.6"
  }
 },
 "nbformat": 4,
 "nbformat_minor": 2
}
